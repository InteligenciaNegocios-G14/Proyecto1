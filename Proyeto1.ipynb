{
 "cells": [
  {
   "cell_type": "markdown",
   "metadata": {},
   "source": [
    "## Proyecto 1 \n",
    "\n",
    "Nicolas Arango - 202220342\n",
    "Mateo Rincon - 202221402\n",
    "Amalia Carbonell - 202122079 \n",
    "\n",
    "\n",
    "\n",
    "1. Entendimiento y preparación de los datos (a nivel de código y análisis).\n",
    "2. Modelado y evaluación."
   ]
  },
  {
   "cell_type": "markdown",
   "metadata": {},
   "source": [
    "### Entendimiento y preparación de los datos (a nivel de código y análisis)"
   ]
  },
  {
   "cell_type": "code",
   "execution_count": 1,
   "metadata": {},
   "outputs": [],
   "source": [
    "import numpy as np\n",
    "import pandas as pd\n",
    "\n",
    "from joblib import dump, load\n",
    "\n",
    "import matplotlib.pyplot as plt\n",
    "import seaborn as sns\n",
    "\n",
    "from sklearn.model_selection import train_test_split\n",
    "from sklearn.linear_model import LinearRegression\n",
    "from sklearn.pipeline import Pipeline\n",
    "from sklearn.compose import ColumnTransformer\n",
    "from sklearn.preprocessing import StandardScaler\n",
    "from sklearn.preprocessing import PolynomialFeatures\n",
    "from sklearn.metrics import mean_absolute_error, mean_squared_error, r2_score\n",
    "\n",
    "import scipy.stats as stats"
   ]
  },
  {
   "cell_type": "code",
   "execution_count": null,
   "metadata": {},
   "outputs": [
    {
     "name": "stdout",
     "output_type": "stream",
     "text": [
      "     ID                                             Titulo  \\\n",
      "0    ID  La mesa del congreso censura un encuentro inte...   \n",
      "1    ID  La brecha digital que dificulta el acceso de a...   \n",
      "2    ID  PP apremia al EQUO a presentar una propuesta d...   \n",
      "3    ID  De soberano garante de la democracia a rey cor...   \n",
      "4    ID  El Gobierno aprobará este martes detraer los b...   \n",
      "..   ..                                                ...   \n",
      "995  ID  Irene Montero: 'El feminismo es la única propu...   \n",
      "996  ID  Cospedal encargó a Villarejo espiar al hermano...   \n",
      "997  ID  El Esquerra Unida i Alternativa de Miquel Puey...   \n",
      "998  ID  Valls: 'PP y Ciudadanos deben apoyar de una fo...   \n",
      "999  ID  Los deportados vascos buscarán volver a Euskad...   \n",
      "\n",
      "                                           Descripcion       Fecha  \n",
      "0    Portavoces de Ciudadanos, PNV, UPN, PSOE, Unid...  30/10/2018  \n",
      "1    No es la primera vez que los ciudadanos vulner...  15/03/2023  \n",
      "2    El partido morado reprocha que los socialistas...  01/07/2019  \n",
      "3    La renuncia de Felipe VI a su herencia, proced...  16/03/2020  \n",
      "4    El Ejecutivo también prorrogará la suspensión ...  13/09/2021  \n",
      "..                                                 ...         ...  \n",
      "995  La portavoz de Unidos Podemos asegura que ha c...  21/02/2019  \n",
      "996  El comisario encarcelado relata en una de sus ...  05/11/2018  \n",
      "997  Los nacionalistas esperan aprovechar la debili...  26/04/2023  \n",
      "998  Un partido liberal progresista como Cs no pued...  30/06/2019  \n",
      "999  El Foro Social Permanente ha celebrado una con...  27/01/2018  \n",
      "\n",
      "[1000 rows x 4 columns]\n"
     ]
    }
   ],
   "source": [
    "# Carga de Datos\n",
    "noticias_df = pd.read_csv(\"./data/fake_news_test.csv\", sep=\";\", usecols=['ID','Titulo', \"Descripcion\", \"Fecha\"])\n"
   ]
  },
  {
   "cell_type": "code",
   "execution_count": 11,
   "metadata": {},
   "outputs": [
    {
     "data": {
      "text/plain": [
       "(1000, 4)"
      ]
     },
     "execution_count": 11,
     "metadata": {},
     "output_type": "execute_result"
    }
   ],
   "source": [
    "noticias_df.shape\n"
   ]
  }
 ],
 "metadata": {
  "kernelspec": {
   "display_name": "base",
   "language": "python",
   "name": "python3"
  },
  "language_info": {
   "codemirror_mode": {
    "name": "ipython",
    "version": 3
   },
   "file_extension": ".py",
   "mimetype": "text/x-python",
   "name": "python",
   "nbconvert_exporter": "python",
   "pygments_lexer": "ipython3",
   "version": "3.12.7"
  }
 },
 "nbformat": 4,
 "nbformat_minor": 2
}
