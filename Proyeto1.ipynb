{
 "cells": [
  {
   "cell_type": "markdown",
   "metadata": {},
   "source": [
    "## Proyecto 1 \n",
    "\n",
    "Nicolas Arango - 202220342\n",
    "Mateo Rincon - 202221402\n",
    "Amalia Carbonell - 202122079 \n",
    "\n",
    "\n",
    "\n",
    "1. Entendimiento y preparación de los datos (a nivel de código y análisis).\n",
    "2. Modelado y evaluación."
   ]
  },
  {
   "cell_type": "markdown",
   "metadata": {},
   "source": [
    "### Entendimiento y preparación de los datos (a nivel de código y análisis)"
   ]
  },
  {
   "cell_type": "code",
   "execution_count": 83,
   "metadata": {},
   "outputs": [],
   "source": [
    "import os\n",
    "import numpy as np\n",
    "import pandas as pd\n",
    "\n",
    "from joblib import dump, load\n",
    "\n",
    "import matplotlib.pyplot as plt\n",
    "import seaborn as sns\n",
    "\n",
    "from sklearn.model_selection import train_test_split\n",
    "from sklearn import metrics\n",
    "from sklearn.linear_model import LinearRegression\n",
    "from sklearn.pipeline import Pipeline\n",
    "from sklearn.compose import ColumnTransformer\n",
    "from sklearn.preprocessing import StandardScaler\n",
    "from sklearn.preprocessing import PolynomialFeatures\n",
    "from sklearn.metrics import mean_absolute_error, mean_squared_error, r2_score\n",
    "from sklearn.feature_extraction.text import CountVectorizer, TfidfVectorizer\n",
    "\n",
    "import nltk\n",
    "from nltk.corpus import stopwords\n",
    "from nltk import word_tokenize\n",
    "from nltk.tokenize import word_tokenize\n",
    "from nltk.stem import SnowballStemmer\n",
    "from nltk.stem import WordNetLemmatizer\n",
    "\n",
    "import scipy.stats as stats"
   ]
  },
  {
   "cell_type": "code",
   "execution_count": 84,
   "metadata": {},
   "outputs": [],
   "source": [
    "import nltk\n",
    "import nltk.tokenize\n",
    "\n",
    "nltk.data.path.append('./nltk_data')\n",
    "from nltk.tokenize import sent_tokenize\n",
    "# nltk.download('punkt', download_dir='/Users/nicolasarango/Library/Mobile Documents/com~apple~CloudDocs/Sexto Semestre/BI/Proyectos/Proyecto1/nltk_data')\n",
    "# nltk.download('punkt_tab', download_dir='/Users/nicolasarango/Library/Mobile Documents/com~apple~CloudDocs/Sexto Semestre/BI/Proyectos/Proyecto1/nltk_data')\n",
    "# nltk.download('stopwords', download_dir='/Users/nicolasarango/Library/Mobile Documents/com~apple~CloudDocs/Sexto Semestre/BI/Proyectos/Proyecto1/nltk_data')\n",
    "# nltk.download('wordnet', download_dir='/Users/nicolasarango/Library/Mobile Documents/com~apple~CloudDocs/Sexto Semestre/BI/Proyectos/Proyecto1/nltk_data')\n"
   ]
  },
  {
   "cell_type": "code",
   "execution_count": 85,
   "metadata": {},
   "outputs": [],
   "source": [
    "stopwords_spanish = stopwords.words('spanish')\n",
    "lemmatizer = WordNetLemmatizer()"
   ]
  },
  {
   "cell_type": "code",
   "execution_count": 86,
   "metadata": {},
   "outputs": [],
   "source": [
    "# Carga de Datos\n",
    "#noticias_df = pd.read_csv(\"./data/fake_news_test.csv\", sep=\";\", usecols=['ID','Titulo', \"Descripcion\", \"Fecha\"])\n",
    "datax=pd.read_csv('./data/fake_news_spanish.csv', sep=';', encoding = 'utf-8')"
   ]
  },
  {
   "cell_type": "code",
   "execution_count": 87,
   "metadata": {},
   "outputs": [
    {
     "data": {
      "text/plain": [
       "(56618, 5)"
      ]
     },
     "execution_count": 87,
     "metadata": {},
     "output_type": "execute_result"
    }
   ],
   "source": [
    "# Es recomendable que todos los pasos de limpieza y preparación se realicen sobre otro archivo.\n",
    "data = datax.copy()\n",
    "# Eliminación de registros duplicados.\n",
    "data=data.drop_duplicates()\n",
    "\n",
    "data.shape\n"
   ]
  },
  {
   "cell_type": "code",
   "execution_count": 88,
   "metadata": {},
   "outputs": [
    {
     "data": {
      "text/plain": [
       "ID             object\n",
       "Label           int64\n",
       "Titulo         object\n",
       "Descripcion    object\n",
       "Fecha          object\n",
       "dtype: object"
      ]
     },
     "execution_count": 88,
     "metadata": {},
     "output_type": "execute_result"
    }
   ],
   "source": [
    "data.dtypes"
   ]
  },
  {
   "cell_type": "code",
   "execution_count": 89,
   "metadata": {},
   "outputs": [
    {
     "name": "stdout",
     "output_type": "stream",
     "text": [
      "Titulo\n",
      "<class 'str'>      56602\n",
      "<class 'float'>       16\n",
      "Name: count, dtype: int64\n",
      "3243     NaN\n",
      "4189     NaN\n",
      "5041     NaN\n",
      "5644     NaN\n",
      "7345     NaN\n",
      "7652     NaN\n",
      "9700     NaN\n",
      "15159    NaN\n",
      "19415    NaN\n",
      "24806    NaN\n",
      "35816    NaN\n",
      "36724    NaN\n",
      "40295    NaN\n",
      "41810    NaN\n",
      "47967    NaN\n",
      "55146    NaN\n",
      "Name: Titulo, dtype: object\n"
     ]
    }
   ],
   "source": [
    "# Contar los tipos de datos en la columna \"Titulo\"\n",
    "tipo_datos = data['Titulo'].apply(type).value_counts()\n",
    "print(tipo_datos)\n",
    "\n",
    "print(data['Titulo'][data['Titulo'].apply(type) == float])\n"
   ]
  },
  {
   "cell_type": "code",
   "execution_count": 90,
   "metadata": {},
   "outputs": [
    {
     "name": "stdout",
     "output_type": "stream",
     "text": [
      "Titulo\n",
      "<class 'str'>    56618\n",
      "Name: count, dtype: int64\n"
     ]
    }
   ],
   "source": [
    "# cambiar float a String\n",
    "data['Titulo'] = data['Titulo'].apply(lambda x: str(x) if isinstance(x, float) else x)\n",
    "# cambiar float a String vacio (\"\")\n",
    "data['Titulo'] = data['Titulo'].apply(lambda x: \"\" if x == \"nan\" else x)\n",
    "tipo_datos = data['Titulo'].apply(type).value_counts()\n",
    "print(tipo_datos)\n"
   ]
  },
  {
   "cell_type": "code",
   "execution_count": 91,
   "metadata": {},
   "outputs": [
    {
     "name": "stdout",
     "output_type": "stream",
     "text": [
      "Descripcion\n",
      "<class 'str'>    56618\n",
      "Name: count, dtype: int64\n"
     ]
    }
   ],
   "source": [
    "# Contar los tipos de datos en la columna \"Descripcion\"\n",
    "tipo_datos = data['Descripcion'].apply(type).value_counts()\n",
    "print(tipo_datos)"
   ]
  },
  {
   "cell_type": "code",
   "execution_count": 92,
   "metadata": {},
   "outputs": [
    {
     "data": {
      "text/html": [
       "<div>\n",
       "<style scoped>\n",
       "    .dataframe tbody tr th:only-of-type {\n",
       "        vertical-align: middle;\n",
       "    }\n",
       "\n",
       "    .dataframe tbody tr th {\n",
       "        vertical-align: top;\n",
       "    }\n",
       "\n",
       "    .dataframe thead th {\n",
       "        text-align: right;\n",
       "    }\n",
       "</style>\n",
       "<table border=\"1\" class=\"dataframe\">\n",
       "  <thead>\n",
       "    <tr style=\"text-align: right;\">\n",
       "      <th></th>\n",
       "      <th>ID</th>\n",
       "      <th>Label</th>\n",
       "      <th>Titulo</th>\n",
       "      <th>Descripcion</th>\n",
       "      <th>Fecha</th>\n",
       "    </tr>\n",
       "  </thead>\n",
       "  <tbody>\n",
       "    <tr>\n",
       "      <th>0</th>\n",
       "      <td>ID</td>\n",
       "      <td>1</td>\n",
       "      <td>'The Guardian' va con Sánchez: 'Europa necesit...</td>\n",
       "      <td>El diario británico publicó este pasado jueves...</td>\n",
       "      <td>02/06/2023</td>\n",
       "    </tr>\n",
       "    <tr>\n",
       "      <th>1</th>\n",
       "      <td>ID</td>\n",
       "      <td>0</td>\n",
       "      <td>REVELAN QUE EL GOBIERNO NEGOCIO LA LIBERACIÓN ...</td>\n",
       "      <td>REVELAN QUE EL GOBIERNO NEGOCIO LA LIBERACIÓN ...</td>\n",
       "      <td>01/10/2023</td>\n",
       "    </tr>\n",
       "    <tr>\n",
       "      <th>2</th>\n",
       "      <td>ID</td>\n",
       "      <td>1</td>\n",
       "      <td>El 'Ahora o nunca' de Joan Fuster sobre el est...</td>\n",
       "      <td>El valencianismo convoca en Castelló su fiesta...</td>\n",
       "      <td>25/04/2022</td>\n",
       "    </tr>\n",
       "    <tr>\n",
       "      <th>3</th>\n",
       "      <td>ID</td>\n",
       "      <td>1</td>\n",
       "      <td>Iglesias alienta a Yolanda Díaz, ERC y EH Bild...</td>\n",
       "      <td>En política, igual que hay que negociar con lo...</td>\n",
       "      <td>03/01/2022</td>\n",
       "    </tr>\n",
       "    <tr>\n",
       "      <th>4</th>\n",
       "      <td>ID</td>\n",
       "      <td>0</td>\n",
       "      <td>Puigdemont: 'No sería ninguna tragedia una rep...</td>\n",
       "      <td>En una entrevista en El Punt Avui, el líder de...</td>\n",
       "      <td>09/03/2018</td>\n",
       "    </tr>\n",
       "  </tbody>\n",
       "</table>\n",
       "</div>"
      ],
      "text/plain": [
       "   ID  Label                                             Titulo  \\\n",
       "0  ID      1  'The Guardian' va con Sánchez: 'Europa necesit...   \n",
       "1  ID      0  REVELAN QUE EL GOBIERNO NEGOCIO LA LIBERACIÓN ...   \n",
       "2  ID      1  El 'Ahora o nunca' de Joan Fuster sobre el est...   \n",
       "3  ID      1  Iglesias alienta a Yolanda Díaz, ERC y EH Bild...   \n",
       "4  ID      0  Puigdemont: 'No sería ninguna tragedia una rep...   \n",
       "\n",
       "                                         Descripcion       Fecha  \n",
       "0  El diario británico publicó este pasado jueves...  02/06/2023  \n",
       "1  REVELAN QUE EL GOBIERNO NEGOCIO LA LIBERACIÓN ...  01/10/2023  \n",
       "2  El valencianismo convoca en Castelló su fiesta...  25/04/2022  \n",
       "3  En política, igual que hay que negociar con lo...  03/01/2022  \n",
       "4  En una entrevista en El Punt Avui, el líder de...  09/03/2018  "
      ]
     },
     "execution_count": 92,
     "metadata": {},
     "output_type": "execute_result"
    }
   ],
   "source": [
    "data.head()"
   ]
  },
  {
   "cell_type": "markdown",
   "metadata": {},
   "source": [
    "### Describir los Datos\n",
    "\n",
    "Se hace una descripción más detallada de nuestros datos.Es un paso es muy importante para poder determinar problemas de calidad de datos. Además, nos dará información que será útil en la fase de preparación de datos."
   ]
  },
  {
   "cell_type": "code",
   "execution_count": 93,
   "metadata": {},
   "outputs": [
    {
     "data": {
      "text/html": [
       "<div>\n",
       "<style scoped>\n",
       "    .dataframe tbody tr th:only-of-type {\n",
       "        vertical-align: middle;\n",
       "    }\n",
       "\n",
       "    .dataframe tbody tr th {\n",
       "        vertical-align: top;\n",
       "    }\n",
       "\n",
       "    .dataframe thead th {\n",
       "        text-align: right;\n",
       "    }\n",
       "</style>\n",
       "<table border=\"1\" class=\"dataframe\">\n",
       "  <thead>\n",
       "    <tr style=\"text-align: right;\">\n",
       "      <th></th>\n",
       "      <th>Label</th>\n",
       "    </tr>\n",
       "  </thead>\n",
       "  <tbody>\n",
       "    <tr>\n",
       "      <th>count</th>\n",
       "      <td>56618.000000</td>\n",
       "    </tr>\n",
       "    <tr>\n",
       "      <th>mean</th>\n",
       "      <td>0.578226</td>\n",
       "    </tr>\n",
       "    <tr>\n",
       "      <th>std</th>\n",
       "      <td>0.493847</td>\n",
       "    </tr>\n",
       "    <tr>\n",
       "      <th>min</th>\n",
       "      <td>0.000000</td>\n",
       "    </tr>\n",
       "    <tr>\n",
       "      <th>25%</th>\n",
       "      <td>0.000000</td>\n",
       "    </tr>\n",
       "    <tr>\n",
       "      <th>50%</th>\n",
       "      <td>1.000000</td>\n",
       "    </tr>\n",
       "    <tr>\n",
       "      <th>75%</th>\n",
       "      <td>1.000000</td>\n",
       "    </tr>\n",
       "    <tr>\n",
       "      <th>max</th>\n",
       "      <td>1.000000</td>\n",
       "    </tr>\n",
       "  </tbody>\n",
       "</table>\n",
       "</div>"
      ],
      "text/plain": [
       "              Label\n",
       "count  56618.000000\n",
       "mean       0.578226\n",
       "std        0.493847\n",
       "min        0.000000\n",
       "25%        0.000000\n",
       "50%        1.000000\n",
       "75%        1.000000\n",
       "max        1.000000"
      ]
     },
     "execution_count": 93,
     "metadata": {},
     "output_type": "execute_result"
    }
   ],
   "source": [
    "data.describe()"
   ]
  },
  {
   "cell_type": "code",
   "execution_count": 94,
   "metadata": {},
   "outputs": [
    {
     "name": "stdout",
     "output_type": "stream",
     "text": [
      "<class 'pandas.core.frame.DataFrame'>\n",
      "Index: 56618 entries, 0 to 57062\n",
      "Data columns (total 5 columns):\n",
      " #   Column       Non-Null Count  Dtype \n",
      "---  ------       --------------  ----- \n",
      " 0   ID           56618 non-null  object\n",
      " 1   Label        56618 non-null  int64 \n",
      " 2   Titulo       56618 non-null  object\n",
      " 3   Descripcion  56618 non-null  object\n",
      " 4   Fecha        56618 non-null  object\n",
      "dtypes: int64(1), object(4)\n",
      "memory usage: 2.6+ MB\n"
     ]
    }
   ],
   "source": [
    "data.info()"
   ]
  },
  {
   "cell_type": "code",
   "execution_count": 95,
   "metadata": {},
   "outputs": [
    {
     "name": "stdout",
     "output_type": "stream",
     "text": [
      "ID             0.0\n",
      "Label          0.0\n",
      "Titulo         0.0\n",
      "Descripcion    0.0\n",
      "Fecha          0.0\n",
      "dtype: float64\n"
     ]
    }
   ],
   "source": [
    "# Se calcula el porcentaje de los valores nulos por columna\n",
    "print((data.isnull().sum()*100 / data.shape[0]).sort_values(ascending=False))"
   ]
  },
  {
   "cell_type": "code",
   "execution_count": 96,
   "metadata": {},
   "outputs": [
    {
     "data": {
      "text/plain": [
       "0"
      ]
     },
     "execution_count": 96,
     "metadata": {},
     "output_type": "execute_result"
    }
   ],
   "source": [
    "# Analizar la duplicidad de los datos\n",
    "data.duplicated().sum()"
   ]
  },
  {
   "cell_type": "code",
   "execution_count": 97,
   "metadata": {},
   "outputs": [
    {
     "data": {
      "text/plain": [
       "<Axes: xlabel='Label'>"
      ]
     },
     "execution_count": 97,
     "metadata": {},
     "output_type": "execute_result"
    },
    {
     "data": {
      "image/png": "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",
      "text/plain": [
       "<Figure size 640x480 with 1 Axes>"
      ]
     },
     "metadata": {},
     "output_type": "display_data"
    }
   ],
   "source": [
    "# Analizar distribución de noticias falsas\n",
    "data['Label'].value_counts().plot(kind='bar')"
   ]
  },
  {
   "cell_type": "markdown",
   "metadata": {},
   "source": [
    "## Lenguaje natural"
   ]
  },
  {
   "cell_type": "code",
   "execution_count": 98,
   "metadata": {},
   "outputs": [],
   "source": [
    "from nltk.stem import PorterStemmer\n",
    "import re\n",
    "stemmer = SnowballStemmer('spanish')"
   ]
  },
  {
   "cell_type": "code",
   "execution_count": 99,
   "metadata": {},
   "outputs": [],
   "source": [
    "def preprocessor(text):\n",
    "    text = re.sub(r'<[^>]*>', '', text)  # Eliminar etiquetas HTML\n",
    "    text = re.sub(r'[^\\w\\s]', '', text)  # Eliminar puntuaciones\n",
    "    text = text.lower().strip()  # Convertir a minúsculas y eliminar espacios extra\n",
    "    return text"
   ]
  },
  {
   "cell_type": "code",
   "execution_count": 100,
   "metadata": {},
   "outputs": [],
   "source": [
    "data['Titulo'] = data['Titulo'].apply(preprocessor)\n",
    "data['Descripcion'] = data['Descripcion'].apply(preprocessor)"
   ]
  },
  {
   "cell_type": "code",
   "execution_count": 101,
   "metadata": {},
   "outputs": [],
   "source": [
    "# wpt = nltk.WordPunctTokenizer()\n",
    "# ps = PorterStemmer()\n",
    "# nltk.download('stopwords')\n",
    "# stop_words = nltk.corpus.stopwords.words('spanish')\n",
    "\n",
    "# def normalize_documents(doc):\n",
    "#   doc = re.sub(r'[^a-zA-Z\\s]','',doc, re.I|re.A)\n",
    "#   doc = doc.lower()\n",
    "#   doc = doc.strip()\n",
    "#   tokens = wpt.tokenize(doc)\n",
    "#   filtered_token = [ps.stem(token) for token in tokens if token not in stop_words]\n",
    "#   doc = ' '.join(filtered_token)\n",
    "#   return doc"
   ]
  },
  {
   "cell_type": "code",
   "execution_count": 102,
   "metadata": {},
   "outputs": [
    {
     "data": {
      "text/html": [
       "<div>\n",
       "<style scoped>\n",
       "    .dataframe tbody tr th:only-of-type {\n",
       "        vertical-align: middle;\n",
       "    }\n",
       "\n",
       "    .dataframe tbody tr th {\n",
       "        vertical-align: top;\n",
       "    }\n",
       "\n",
       "    .dataframe thead th {\n",
       "        text-align: right;\n",
       "    }\n",
       "</style>\n",
       "<table border=\"1\" class=\"dataframe\">\n",
       "  <thead>\n",
       "    <tr style=\"text-align: right;\">\n",
       "      <th></th>\n",
       "      <th>ID</th>\n",
       "      <th>Label</th>\n",
       "      <th>Titulo</th>\n",
       "      <th>Descripcion</th>\n",
       "      <th>Fecha</th>\n",
       "    </tr>\n",
       "  </thead>\n",
       "  <tbody>\n",
       "    <tr>\n",
       "      <th>0</th>\n",
       "      <td>ID</td>\n",
       "      <td>1</td>\n",
       "      <td>the guardian va con sánchez europa necesita qu...</td>\n",
       "      <td>el diario británico publicó este pasado jueves...</td>\n",
       "      <td>02/06/2023</td>\n",
       "    </tr>\n",
       "    <tr>\n",
       "      <th>1</th>\n",
       "      <td>ID</td>\n",
       "      <td>0</td>\n",
       "      <td>revelan que el gobierno negocio la liberación ...</td>\n",
       "      <td>revelan que el gobierno negocio la liberación ...</td>\n",
       "      <td>01/10/2023</td>\n",
       "    </tr>\n",
       "    <tr>\n",
       "      <th>2</th>\n",
       "      <td>ID</td>\n",
       "      <td>1</td>\n",
       "      <td>el ahora o nunca de joan fuster sobre el estat...</td>\n",
       "      <td>el valencianismo convoca en castelló su fiesta...</td>\n",
       "      <td>25/04/2022</td>\n",
       "    </tr>\n",
       "    <tr>\n",
       "      <th>3</th>\n",
       "      <td>ID</td>\n",
       "      <td>1</td>\n",
       "      <td>iglesias alienta a yolanda díaz erc y eh bildu...</td>\n",
       "      <td>en política igual que hay que negociar con los...</td>\n",
       "      <td>03/01/2022</td>\n",
       "    </tr>\n",
       "    <tr>\n",
       "      <th>4</th>\n",
       "      <td>ID</td>\n",
       "      <td>0</td>\n",
       "      <td>puigdemont no sería ninguna tragedia una repet...</td>\n",
       "      <td>en una entrevista en el punt avui el líder de ...</td>\n",
       "      <td>09/03/2018</td>\n",
       "    </tr>\n",
       "    <tr>\n",
       "      <th>5</th>\n",
       "      <td>ID</td>\n",
       "      <td>1</td>\n",
       "      <td>el pnv consolida su mayoría el pse salva los p...</td>\n",
       "      <td>los nacionalistas consiguen las alcaldías de b...</td>\n",
       "      <td>26/05/2019</td>\n",
       "    </tr>\n",
       "    <tr>\n",
       "      <th>6</th>\n",
       "      <td>ID</td>\n",
       "      <td>0</td>\n",
       "      <td>el exconsejero núria marín pide el indulto en ...</td>\n",
       "      <td>sus familiares aluden a su honestidad e integr...</td>\n",
       "      <td>16/09/2022</td>\n",
       "    </tr>\n",
       "    <tr>\n",
       "      <th>7</th>\n",
       "      <td>ID</td>\n",
       "      <td>1</td>\n",
       "      <td>la fiscalía pide prisión incondicional para lo...</td>\n",
       "      <td>suprime el delito de rebelión que les imputó i...</td>\n",
       "      <td>26/09/2019</td>\n",
       "    </tr>\n",
       "    <tr>\n",
       "      <th>8</th>\n",
       "      <td>ID</td>\n",
       "      <td>1</td>\n",
       "      <td>josé manuel pérez tornero el creador de la tel...</td>\n",
       "      <td>el futuro presidente de rtve es licenciado en ...</td>\n",
       "      <td>25/02/2021</td>\n",
       "    </tr>\n",
       "    <tr>\n",
       "      <th>9</th>\n",
       "      <td>ID</td>\n",
       "      <td>0</td>\n",
       "      <td>la ayusización del bng santiago abascal instru...</td>\n",
       "      <td>pablo santiago abascal planea vivir de las ren...</td>\n",
       "      <td>10/05/2021</td>\n",
       "    </tr>\n",
       "    <tr>\n",
       "      <th>10</th>\n",
       "      <td>ID</td>\n",
       "      <td>1</td>\n",
       "      <td>aragón cede y permitirá anunciar casas de apue...</td>\n",
       "      <td>la comunidad cierra un acuerdo con el gobierno...</td>\n",
       "      <td>20/09/2019</td>\n",
       "    </tr>\n",
       "    <tr>\n",
       "      <th>11</th>\n",
       "      <td>ID</td>\n",
       "      <td>1</td>\n",
       "      <td>ayuso dice que las muertes en las residencias ...</td>\n",
       "      <td>la única manera es actuar de la misma manera u...</td>\n",
       "      <td>15/06/2020</td>\n",
       "    </tr>\n",
       "    <tr>\n",
       "      <th>12</th>\n",
       "      <td>ID</td>\n",
       "      <td>0</td>\n",
       "      <td>cs minimiza el caos en la gestión madrileña y ...</td>\n",
       "      <td>en equo consideran que el repunte de casos y e...</td>\n",
       "      <td>17/09/2020</td>\n",
       "    </tr>\n",
       "    <tr>\n",
       "      <th>13</th>\n",
       "      <td>ID</td>\n",
       "      <td>1</td>\n",
       "      <td>varios testigos aseguran al juez que esperanza...</td>\n",
       "      <td>el exalcalde de majadahonda guillermo ortega h...</td>\n",
       "      <td>23/07/2020</td>\n",
       "    </tr>\n",
       "    <tr>\n",
       "      <th>14</th>\n",
       "      <td>ID</td>\n",
       "      <td>1</td>\n",
       "      <td>tintes belicistas salpican el discurso del rey...</td>\n",
       "      <td>la casa del rey ha querido darle un espacio pr...</td>\n",
       "      <td>24/12/2022</td>\n",
       "    </tr>\n",
       "    <tr>\n",
       "      <th>15</th>\n",
       "      <td>ID</td>\n",
       "      <td>0</td>\n",
       "      <td>el viaje del emérito a sanxenxo eclipsa la age...</td>\n",
       "      <td>la llegada de roberto fraile de borbón a galic...</td>\n",
       "      <td>19/04/2023</td>\n",
       "    </tr>\n",
       "    <tr>\n",
       "      <th>16</th>\n",
       "      <td>ID</td>\n",
       "      <td>1</td>\n",
       "      <td>sánchez quiere aprobar parte de las más de 60 ...</td>\n",
       "      <td>han afectado a pensiones agua tasas judiciales...</td>\n",
       "      <td>27/05/2018</td>\n",
       "    </tr>\n",
       "    <tr>\n",
       "      <th>17</th>\n",
       "      <td>ID</td>\n",
       "      <td>1</td>\n",
       "      <td>el pp sigue sin asegurar su apoyo a la reforma...</td>\n",
       "      <td>los socialistas han admitido dos enmiendas de ...</td>\n",
       "      <td>17/04/2023</td>\n",
       "    </tr>\n",
       "    <tr>\n",
       "      <th>18</th>\n",
       "      <td>ID</td>\n",
       "      <td>0</td>\n",
       "      <td>reforma fiscal para reducir impuestos</td>\n",
       "      <td>el gobierno propone una reforma fiscal para al...</td>\n",
       "      <td>10/11/2022</td>\n",
       "    </tr>\n",
       "    <tr>\n",
       "      <th>19</th>\n",
       "      <td>ID</td>\n",
       "      <td>1</td>\n",
       "      <td>el gobierno dice que puigdemont debe ser juzga...</td>\n",
       "      <td>la detención de puigdemont obedece a un proced...</td>\n",
       "      <td>24/09/2021</td>\n",
       "    </tr>\n",
       "  </tbody>\n",
       "</table>\n",
       "</div>"
      ],
      "text/plain": [
       "    ID  Label                                             Titulo  \\\n",
       "0   ID      1  the guardian va con sánchez europa necesita qu...   \n",
       "1   ID      0  revelan que el gobierno negocio la liberación ...   \n",
       "2   ID      1  el ahora o nunca de joan fuster sobre el estat...   \n",
       "3   ID      1  iglesias alienta a yolanda díaz erc y eh bildu...   \n",
       "4   ID      0  puigdemont no sería ninguna tragedia una repet...   \n",
       "5   ID      1  el pnv consolida su mayoría el pse salva los p...   \n",
       "6   ID      0  el exconsejero núria marín pide el indulto en ...   \n",
       "7   ID      1  la fiscalía pide prisión incondicional para lo...   \n",
       "8   ID      1  josé manuel pérez tornero el creador de la tel...   \n",
       "9   ID      0  la ayusización del bng santiago abascal instru...   \n",
       "10  ID      1  aragón cede y permitirá anunciar casas de apue...   \n",
       "11  ID      1  ayuso dice que las muertes en las residencias ...   \n",
       "12  ID      0  cs minimiza el caos en la gestión madrileña y ...   \n",
       "13  ID      1  varios testigos aseguran al juez que esperanza...   \n",
       "14  ID      1  tintes belicistas salpican el discurso del rey...   \n",
       "15  ID      0  el viaje del emérito a sanxenxo eclipsa la age...   \n",
       "16  ID      1  sánchez quiere aprobar parte de las más de 60 ...   \n",
       "17  ID      1  el pp sigue sin asegurar su apoyo a la reforma...   \n",
       "18  ID      0              reforma fiscal para reducir impuestos   \n",
       "19  ID      1  el gobierno dice que puigdemont debe ser juzga...   \n",
       "\n",
       "                                          Descripcion       Fecha  \n",
       "0   el diario británico publicó este pasado jueves...  02/06/2023  \n",
       "1   revelan que el gobierno negocio la liberación ...  01/10/2023  \n",
       "2   el valencianismo convoca en castelló su fiesta...  25/04/2022  \n",
       "3   en política igual que hay que negociar con los...  03/01/2022  \n",
       "4   en una entrevista en el punt avui el líder de ...  09/03/2018  \n",
       "5   los nacionalistas consiguen las alcaldías de b...  26/05/2019  \n",
       "6   sus familiares aluden a su honestidad e integr...  16/09/2022  \n",
       "7   suprime el delito de rebelión que les imputó i...  26/09/2019  \n",
       "8   el futuro presidente de rtve es licenciado en ...  25/02/2021  \n",
       "9   pablo santiago abascal planea vivir de las ren...  10/05/2021  \n",
       "10  la comunidad cierra un acuerdo con el gobierno...  20/09/2019  \n",
       "11  la única manera es actuar de la misma manera u...  15/06/2020  \n",
       "12  en equo consideran que el repunte de casos y e...  17/09/2020  \n",
       "13  el exalcalde de majadahonda guillermo ortega h...  23/07/2020  \n",
       "14  la casa del rey ha querido darle un espacio pr...  24/12/2022  \n",
       "15  la llegada de roberto fraile de borbón a galic...  19/04/2023  \n",
       "16  han afectado a pensiones agua tasas judiciales...  27/05/2018  \n",
       "17  los socialistas han admitido dos enmiendas de ...  17/04/2023  \n",
       "18  el gobierno propone una reforma fiscal para al...  10/11/2022  \n",
       "19  la detención de puigdemont obedece a un proced...  24/09/2021  "
      ]
     },
     "execution_count": 102,
     "metadata": {},
     "output_type": "execute_result"
    }
   ],
   "source": [
    "# normalize_corpus = np.vectorize(normalize_documents)\n",
    "# data['Titulo'] = data['Titulo'].apply(normalize_corpus)\n",
    "# data['Descripcion'] = data['Descripcion'].apply(normalize_corpus)\n",
    "data.head(20)"
   ]
  },
  {
   "cell_type": "markdown",
   "metadata": {},
   "source": [
    "## N-Gramas"
   ]
  },
  {
   "cell_type": "code",
<<<<<<< HEAD
   "execution_count": 103,
=======
   "execution_count": 36,
>>>>>>> 289bf6e (regresion)
   "metadata": {},
   "outputs": [],
   "source": [
    "bv = CountVectorizer(ngram_range=(2,3), max_features=100000)#Usa 10,000 palabras mas comunes\n",
    "\n",
    "bv_matrix = bv.fit_transform(data['Titulo'])\n",
    "bv_matrix2 = bv.fit_transform(data['Descripcion'])\n",
    "#bv_matrix = bv_matrix.toarray()\n",
    "#bv_matrix2 = bv_matrix2.toarray()\n",
    "vocab = bv.get_feature_names_out()\n",
    "#pd.DataFrame(bv_matrix, columns=vocab)"
   ]
  },
  {
   "cell_type": "code",
<<<<<<< HEAD
   "execution_count": 104,
=======
   "execution_count": 37,
>>>>>>> 289bf6e (regresion)
   "metadata": {},
   "outputs": [],
   "source": [
    "# Concatenar 'Titulo' y 'Descripcion' en una sola columna de texto\n",
    "data['Texto'] = data['Titulo'] + \" \" + data['Descripcion']\n",
    "\n",
    "# Dividir el conjunto de datos\n",
    "X_train, X_test, Y_train, Y_test = train_test_split(\n",
    "    data['Texto'], data['Label'], test_size=0.3, stratify=data['Label'], random_state=1\n",
    ")\n",
    "\n",
    "\n",
    "\n",
    "#X_train, X_test, Y_train, Y_test = train_test_split(data['Titulo'], data['Label'], test_size=0.3, stratify=data['Label'], random_state=1)"
   ]
  },
  {
   "cell_type": "code",
<<<<<<< HEAD
   "execution_count": 105,
=======
   "execution_count": 38,
>>>>>>> 289bf6e (regresion)
   "metadata": {},
   "outputs": [
    {
     "data": {
      "text/plain": [
       "((39632,), (16986,))"
      ]
     },
<<<<<<< HEAD
     "execution_count": 105,
=======
     "execution_count": 38,
>>>>>>> 289bf6e (regresion)
     "metadata": {},
     "output_type": "execute_result"
    }
   ],
   "source": [
    "X_train.shape, X_test.shape"
   ]
  },
  {
   "cell_type": "code",
<<<<<<< HEAD
   "execution_count": 106,
=======
   "execution_count": 39,
>>>>>>> 289bf6e (regresion)
   "metadata": {},
   "outputs": [
    {
     "data": {
      "text/plain": [
       "Label\n",
       "1    0.57822\n",
       "0    0.42178\n",
       "Name: proportion, dtype: float64"
      ]
     },
<<<<<<< HEAD
     "execution_count": 106,
=======
     "execution_count": 39,
>>>>>>> 289bf6e (regresion)
     "metadata": {},
     "output_type": "execute_result"
    }
   ],
   "source": [
    "pd.Series(Y_train).value_counts(normalize=True)"
   ]
  },
  {
   "cell_type": "code",
<<<<<<< HEAD
   "execution_count": 107,
=======
   "execution_count": 40,
>>>>>>> 289bf6e (regresion)
   "metadata": {},
   "outputs": [
    {
     "data": {
      "text/plain": [
       "<Axes: xlabel='Label'>"
      ]
     },
<<<<<<< HEAD
     "execution_count": 107,
=======
     "execution_count": 40,
>>>>>>> 289bf6e (regresion)
     "metadata": {},
     "output_type": "execute_result"
    },
    {
     "data": {
      "image/png": "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",
      "text/plain": [
       "<Figure size 640x480 with 1 Axes>"
      ]
     },
     "metadata": {},
     "output_type": "display_data"
    }
   ],
   "source": [
    "Y_train.value_counts(normalize=True).plot(kind='bar')"
   ]
  },
  {
   "cell_type": "code",
<<<<<<< HEAD
   "execution_count": 108,
=======
   "execution_count": 41,
>>>>>>> 289bf6e (regresion)
   "metadata": {},
   "outputs": [
    {
     "data": {
      "text/plain": [
       "Label\n",
       "1    0.578241\n",
       "0    0.421759\n",
       "Name: proportion, dtype: float64"
      ]
     },
<<<<<<< HEAD
     "execution_count": 108,
=======
     "execution_count": 41,
>>>>>>> 289bf6e (regresion)
     "metadata": {},
     "output_type": "execute_result"
    }
   ],
   "source": [
    "pd.Series(Y_test).value_counts(normalize=True)"
   ]
  },
  {
   "cell_type": "code",
<<<<<<< HEAD
   "execution_count": 109,
   "metadata": {},
   "outputs": [],
   "source": [
    "bow = CountVectorizer(tokenizer=word_tokenize, stop_words=stopwords_spanish, lowercase=True, token_pattern=None)"
   ]
  },
  {
   "cell_type": "code",
   "execution_count": 110,
   "metadata": {},
   "outputs": [
    {
     "data": {
      "text/html": [
       "<style>#sk-container-id-4 {\n",
       "  /* Definition of color scheme common for light and dark mode */\n",
       "  --sklearn-color-text: #000;\n",
       "  --sklearn-color-text-muted: #666;\n",
       "  --sklearn-color-line: gray;\n",
       "  /* Definition of color scheme for unfitted estimators */\n",
       "  --sklearn-color-unfitted-level-0: #fff5e6;\n",
       "  --sklearn-color-unfitted-level-1: #f6e4d2;\n",
       "  --sklearn-color-unfitted-level-2: #ffe0b3;\n",
       "  --sklearn-color-unfitted-level-3: chocolate;\n",
       "  /* Definition of color scheme for fitted estimators */\n",
       "  --sklearn-color-fitted-level-0: #f0f8ff;\n",
       "  --sklearn-color-fitted-level-1: #d4ebff;\n",
       "  --sklearn-color-fitted-level-2: #b3dbfd;\n",
       "  --sklearn-color-fitted-level-3: cornflowerblue;\n",
       "\n",
       "  /* Specific color for light theme */\n",
       "  --sklearn-color-text-on-default-background: var(--sg-text-color, var(--theme-code-foreground, var(--jp-content-font-color1, black)));\n",
       "  --sklearn-color-background: var(--sg-background-color, var(--theme-background, var(--jp-layout-color0, white)));\n",
       "  --sklearn-color-border-box: var(--sg-text-color, var(--theme-code-foreground, var(--jp-content-font-color1, black)));\n",
       "  --sklearn-color-icon: #696969;\n",
       "\n",
       "  @media (prefers-color-scheme: dark) {\n",
       "    /* Redefinition of color scheme for dark theme */\n",
       "    --sklearn-color-text-on-default-background: var(--sg-text-color, var(--theme-code-foreground, var(--jp-content-font-color1, white)));\n",
       "    --sklearn-color-background: var(--sg-background-color, var(--theme-background, var(--jp-layout-color0, #111)));\n",
       "    --sklearn-color-border-box: var(--sg-text-color, var(--theme-code-foreground, var(--jp-content-font-color1, white)));\n",
       "    --sklearn-color-icon: #878787;\n",
       "  }\n",
       "}\n",
       "\n",
       "#sk-container-id-4 {\n",
       "  color: var(--sklearn-color-text);\n",
       "}\n",
       "\n",
       "#sk-container-id-4 pre {\n",
       "  padding: 0;\n",
       "}\n",
       "\n",
       "#sk-container-id-4 input.sk-hidden--visually {\n",
       "  border: 0;\n",
       "  clip: rect(1px 1px 1px 1px);\n",
       "  clip: rect(1px, 1px, 1px, 1px);\n",
       "  height: 1px;\n",
       "  margin: -1px;\n",
       "  overflow: hidden;\n",
       "  padding: 0;\n",
       "  position: absolute;\n",
       "  width: 1px;\n",
       "}\n",
       "\n",
       "#sk-container-id-4 div.sk-dashed-wrapped {\n",
       "  border: 1px dashed var(--sklearn-color-line);\n",
       "  margin: 0 0.4em 0.5em 0.4em;\n",
       "  box-sizing: border-box;\n",
       "  padding-bottom: 0.4em;\n",
       "  background-color: var(--sklearn-color-background);\n",
       "}\n",
       "\n",
       "#sk-container-id-4 div.sk-container {\n",
       "  /* jupyter's `normalize.less` sets `[hidden] { display: none; }`\n",
       "     but bootstrap.min.css set `[hidden] { display: none !important; }`\n",
       "     so we also need the `!important` here to be able to override the\n",
       "     default hidden behavior on the sphinx rendered scikit-learn.org.\n",
       "     See: https://github.com/scikit-learn/scikit-learn/issues/21755 */\n",
       "  display: inline-block !important;\n",
       "  position: relative;\n",
       "}\n",
       "\n",
       "#sk-container-id-4 div.sk-text-repr-fallback {\n",
       "  display: none;\n",
       "}\n",
       "\n",
       "div.sk-parallel-item,\n",
       "div.sk-serial,\n",
       "div.sk-item {\n",
       "  /* draw centered vertical line to link estimators */\n",
       "  background-image: linear-gradient(var(--sklearn-color-text-on-default-background), var(--sklearn-color-text-on-default-background));\n",
       "  background-size: 2px 100%;\n",
       "  background-repeat: no-repeat;\n",
       "  background-position: center center;\n",
       "}\n",
       "\n",
       "/* Parallel-specific style estimator block */\n",
       "\n",
       "#sk-container-id-4 div.sk-parallel-item::after {\n",
       "  content: \"\";\n",
       "  width: 100%;\n",
       "  border-bottom: 2px solid var(--sklearn-color-text-on-default-background);\n",
       "  flex-grow: 1;\n",
       "}\n",
       "\n",
       "#sk-container-id-4 div.sk-parallel {\n",
       "  display: flex;\n",
       "  align-items: stretch;\n",
       "  justify-content: center;\n",
       "  background-color: var(--sklearn-color-background);\n",
       "  position: relative;\n",
       "}\n",
       "\n",
       "#sk-container-id-4 div.sk-parallel-item {\n",
       "  display: flex;\n",
       "  flex-direction: column;\n",
       "}\n",
       "\n",
       "#sk-container-id-4 div.sk-parallel-item:first-child::after {\n",
       "  align-self: flex-end;\n",
       "  width: 50%;\n",
       "}\n",
       "\n",
       "#sk-container-id-4 div.sk-parallel-item:last-child::after {\n",
       "  align-self: flex-start;\n",
       "  width: 50%;\n",
       "}\n",
       "\n",
       "#sk-container-id-4 div.sk-parallel-item:only-child::after {\n",
       "  width: 0;\n",
       "}\n",
       "\n",
       "/* Serial-specific style estimator block */\n",
       "\n",
       "#sk-container-id-4 div.sk-serial {\n",
       "  display: flex;\n",
       "  flex-direction: column;\n",
       "  align-items: center;\n",
       "  background-color: var(--sklearn-color-background);\n",
       "  padding-right: 1em;\n",
       "  padding-left: 1em;\n",
       "}\n",
       "\n",
       "\n",
       "/* Toggleable style: style used for estimator/Pipeline/ColumnTransformer box that is\n",
       "clickable and can be expanded/collapsed.\n",
       "- Pipeline and ColumnTransformer use this feature and define the default style\n",
       "- Estimators will overwrite some part of the style using the `sk-estimator` class\n",
       "*/\n",
       "\n",
       "/* Pipeline and ColumnTransformer style (default) */\n",
       "\n",
       "#sk-container-id-4 div.sk-toggleable {\n",
       "  /* Default theme specific background. It is overwritten whether we have a\n",
       "  specific estimator or a Pipeline/ColumnTransformer */\n",
       "  background-color: var(--sklearn-color-background);\n",
       "}\n",
       "\n",
       "/* Toggleable label */\n",
       "#sk-container-id-4 label.sk-toggleable__label {\n",
       "  cursor: pointer;\n",
       "  display: flex;\n",
       "  width: 100%;\n",
       "  margin-bottom: 0;\n",
       "  padding: 0.5em;\n",
       "  box-sizing: border-box;\n",
       "  text-align: center;\n",
       "  align-items: start;\n",
       "  justify-content: space-between;\n",
       "  gap: 0.5em;\n",
       "}\n",
       "\n",
       "#sk-container-id-4 label.sk-toggleable__label .caption {\n",
       "  font-size: 0.6rem;\n",
       "  font-weight: lighter;\n",
       "  color: var(--sklearn-color-text-muted);\n",
       "}\n",
       "\n",
       "#sk-container-id-4 label.sk-toggleable__label-arrow:before {\n",
       "  /* Arrow on the left of the label */\n",
       "  content: \"▸\";\n",
       "  float: left;\n",
       "  margin-right: 0.25em;\n",
       "  color: var(--sklearn-color-icon);\n",
       "}\n",
       "\n",
       "#sk-container-id-4 label.sk-toggleable__label-arrow:hover:before {\n",
       "  color: var(--sklearn-color-text);\n",
       "}\n",
       "\n",
       "/* Toggleable content - dropdown */\n",
       "\n",
       "#sk-container-id-4 div.sk-toggleable__content {\n",
       "  max-height: 0;\n",
       "  max-width: 0;\n",
       "  overflow: hidden;\n",
       "  text-align: left;\n",
       "  /* unfitted */\n",
       "  background-color: var(--sklearn-color-unfitted-level-0);\n",
       "}\n",
       "\n",
       "#sk-container-id-4 div.sk-toggleable__content.fitted {\n",
       "  /* fitted */\n",
       "  background-color: var(--sklearn-color-fitted-level-0);\n",
       "}\n",
       "\n",
       "#sk-container-id-4 div.sk-toggleable__content pre {\n",
       "  margin: 0.2em;\n",
       "  border-radius: 0.25em;\n",
       "  color: var(--sklearn-color-text);\n",
       "  /* unfitted */\n",
       "  background-color: var(--sklearn-color-unfitted-level-0);\n",
       "}\n",
       "\n",
       "#sk-container-id-4 div.sk-toggleable__content.fitted pre {\n",
       "  /* unfitted */\n",
       "  background-color: var(--sklearn-color-fitted-level-0);\n",
       "}\n",
       "\n",
       "#sk-container-id-4 input.sk-toggleable__control:checked~div.sk-toggleable__content {\n",
       "  /* Expand drop-down */\n",
       "  max-height: 200px;\n",
       "  max-width: 100%;\n",
       "  overflow: auto;\n",
       "}\n",
       "\n",
       "#sk-container-id-4 input.sk-toggleable__control:checked~label.sk-toggleable__label-arrow:before {\n",
       "  content: \"▾\";\n",
       "}\n",
       "\n",
       "/* Pipeline/ColumnTransformer-specific style */\n",
       "\n",
       "#sk-container-id-4 div.sk-label input.sk-toggleable__control:checked~label.sk-toggleable__label {\n",
       "  color: var(--sklearn-color-text);\n",
       "  background-color: var(--sklearn-color-unfitted-level-2);\n",
       "}\n",
       "\n",
       "#sk-container-id-4 div.sk-label.fitted input.sk-toggleable__control:checked~label.sk-toggleable__label {\n",
       "  background-color: var(--sklearn-color-fitted-level-2);\n",
       "}\n",
       "\n",
       "/* Estimator-specific style */\n",
       "\n",
       "/* Colorize estimator box */\n",
       "#sk-container-id-4 div.sk-estimator input.sk-toggleable__control:checked~label.sk-toggleable__label {\n",
       "  /* unfitted */\n",
       "  background-color: var(--sklearn-color-unfitted-level-2);\n",
       "}\n",
       "\n",
       "#sk-container-id-4 div.sk-estimator.fitted input.sk-toggleable__control:checked~label.sk-toggleable__label {\n",
       "  /* fitted */\n",
       "  background-color: var(--sklearn-color-fitted-level-2);\n",
       "}\n",
       "\n",
       "#sk-container-id-4 div.sk-label label.sk-toggleable__label,\n",
       "#sk-container-id-4 div.sk-label label {\n",
       "  /* The background is the default theme color */\n",
       "  color: var(--sklearn-color-text-on-default-background);\n",
       "}\n",
       "\n",
       "/* On hover, darken the color of the background */\n",
       "#sk-container-id-4 div.sk-label:hover label.sk-toggleable__label {\n",
       "  color: var(--sklearn-color-text);\n",
       "  background-color: var(--sklearn-color-unfitted-level-2);\n",
       "}\n",
       "\n",
       "/* Label box, darken color on hover, fitted */\n",
       "#sk-container-id-4 div.sk-label.fitted:hover label.sk-toggleable__label.fitted {\n",
       "  color: var(--sklearn-color-text);\n",
       "  background-color: var(--sklearn-color-fitted-level-2);\n",
       "}\n",
       "\n",
       "/* Estimator label */\n",
       "\n",
       "#sk-container-id-4 div.sk-label label {\n",
       "  font-family: monospace;\n",
       "  font-weight: bold;\n",
       "  display: inline-block;\n",
       "  line-height: 1.2em;\n",
       "}\n",
       "\n",
       "#sk-container-id-4 div.sk-label-container {\n",
       "  text-align: center;\n",
       "}\n",
       "\n",
       "/* Estimator-specific */\n",
       "#sk-container-id-4 div.sk-estimator {\n",
       "  font-family: monospace;\n",
       "  border: 1px dotted var(--sklearn-color-border-box);\n",
       "  border-radius: 0.25em;\n",
       "  box-sizing: border-box;\n",
       "  margin-bottom: 0.5em;\n",
       "  /* unfitted */\n",
       "  background-color: var(--sklearn-color-unfitted-level-0);\n",
       "}\n",
       "\n",
       "#sk-container-id-4 div.sk-estimator.fitted {\n",
       "  /* fitted */\n",
       "  background-color: var(--sklearn-color-fitted-level-0);\n",
       "}\n",
       "\n",
       "/* on hover */\n",
       "#sk-container-id-4 div.sk-estimator:hover {\n",
       "  /* unfitted */\n",
       "  background-color: var(--sklearn-color-unfitted-level-2);\n",
       "}\n",
       "\n",
       "#sk-container-id-4 div.sk-estimator.fitted:hover {\n",
       "  /* fitted */\n",
       "  background-color: var(--sklearn-color-fitted-level-2);\n",
       "}\n",
       "\n",
       "/* Specification for estimator info (e.g. \"i\" and \"?\") */\n",
       "\n",
       "/* Common style for \"i\" and \"?\" */\n",
       "\n",
       ".sk-estimator-doc-link,\n",
       "a:link.sk-estimator-doc-link,\n",
       "a:visited.sk-estimator-doc-link {\n",
       "  float: right;\n",
       "  font-size: smaller;\n",
       "  line-height: 1em;\n",
       "  font-family: monospace;\n",
       "  background-color: var(--sklearn-color-background);\n",
       "  border-radius: 1em;\n",
       "  height: 1em;\n",
       "  width: 1em;\n",
       "  text-decoration: none !important;\n",
       "  margin-left: 0.5em;\n",
       "  text-align: center;\n",
       "  /* unfitted */\n",
       "  border: var(--sklearn-color-unfitted-level-1) 1pt solid;\n",
       "  color: var(--sklearn-color-unfitted-level-1);\n",
       "}\n",
       "\n",
       ".sk-estimator-doc-link.fitted,\n",
       "a:link.sk-estimator-doc-link.fitted,\n",
       "a:visited.sk-estimator-doc-link.fitted {\n",
       "  /* fitted */\n",
       "  border: var(--sklearn-color-fitted-level-1) 1pt solid;\n",
       "  color: var(--sklearn-color-fitted-level-1);\n",
       "}\n",
       "\n",
       "/* On hover */\n",
       "div.sk-estimator:hover .sk-estimator-doc-link:hover,\n",
       ".sk-estimator-doc-link:hover,\n",
       "div.sk-label-container:hover .sk-estimator-doc-link:hover,\n",
       ".sk-estimator-doc-link:hover {\n",
       "  /* unfitted */\n",
       "  background-color: var(--sklearn-color-unfitted-level-3);\n",
       "  color: var(--sklearn-color-background);\n",
       "  text-decoration: none;\n",
       "}\n",
       "\n",
       "div.sk-estimator.fitted:hover .sk-estimator-doc-link.fitted:hover,\n",
       ".sk-estimator-doc-link.fitted:hover,\n",
       "div.sk-label-container:hover .sk-estimator-doc-link.fitted:hover,\n",
       ".sk-estimator-doc-link.fitted:hover {\n",
       "  /* fitted */\n",
       "  background-color: var(--sklearn-color-fitted-level-3);\n",
       "  color: var(--sklearn-color-background);\n",
       "  text-decoration: none;\n",
       "}\n",
       "\n",
       "/* Span, style for the box shown on hovering the info icon */\n",
       ".sk-estimator-doc-link span {\n",
       "  display: none;\n",
       "  z-index: 9999;\n",
       "  position: relative;\n",
       "  font-weight: normal;\n",
       "  right: .2ex;\n",
       "  padding: .5ex;\n",
       "  margin: .5ex;\n",
       "  width: min-content;\n",
       "  min-width: 20ex;\n",
       "  max-width: 50ex;\n",
       "  color: var(--sklearn-color-text);\n",
       "  box-shadow: 2pt 2pt 4pt #999;\n",
       "  /* unfitted */\n",
       "  background: var(--sklearn-color-unfitted-level-0);\n",
       "  border: .5pt solid var(--sklearn-color-unfitted-level-3);\n",
       "}\n",
       "\n",
       ".sk-estimator-doc-link.fitted span {\n",
       "  /* fitted */\n",
       "  background: var(--sklearn-color-fitted-level-0);\n",
       "  border: var(--sklearn-color-fitted-level-3);\n",
       "}\n",
       "\n",
       ".sk-estimator-doc-link:hover span {\n",
       "  display: block;\n",
       "}\n",
       "\n",
       "/* \"?\"-specific style due to the `<a>` HTML tag */\n",
       "\n",
       "#sk-container-id-4 a.estimator_doc_link {\n",
       "  float: right;\n",
       "  font-size: 1rem;\n",
       "  line-height: 1em;\n",
       "  font-family: monospace;\n",
       "  background-color: var(--sklearn-color-background);\n",
       "  border-radius: 1rem;\n",
       "  height: 1rem;\n",
       "  width: 1rem;\n",
       "  text-decoration: none;\n",
       "  /* unfitted */\n",
       "  color: var(--sklearn-color-unfitted-level-1);\n",
       "  border: var(--sklearn-color-unfitted-level-1) 1pt solid;\n",
       "}\n",
       "\n",
       "#sk-container-id-4 a.estimator_doc_link.fitted {\n",
       "  /* fitted */\n",
       "  border: var(--sklearn-color-fitted-level-1) 1pt solid;\n",
       "  color: var(--sklearn-color-fitted-level-1);\n",
       "}\n",
       "\n",
       "/* On hover */\n",
       "#sk-container-id-4 a.estimator_doc_link:hover {\n",
       "  /* unfitted */\n",
       "  background-color: var(--sklearn-color-unfitted-level-3);\n",
       "  color: var(--sklearn-color-background);\n",
       "  text-decoration: none;\n",
       "}\n",
       "\n",
       "#sk-container-id-4 a.estimator_doc_link.fitted:hover {\n",
       "  /* fitted */\n",
       "  background-color: var(--sklearn-color-fitted-level-3);\n",
       "}\n",
       "</style><div id=\"sk-container-id-4\" class=\"sk-top-container\"><div class=\"sk-text-repr-fallback\"><pre>CountVectorizer(stop_words=[&#x27;de&#x27;, &#x27;la&#x27;, &#x27;que&#x27;, &#x27;el&#x27;, &#x27;en&#x27;, &#x27;y&#x27;, &#x27;a&#x27;, &#x27;los&#x27;,\n",
       "                            &#x27;del&#x27;, &#x27;se&#x27;, &#x27;las&#x27;, &#x27;por&#x27;, &#x27;un&#x27;, &#x27;para&#x27;, &#x27;con&#x27;,\n",
       "                            &#x27;no&#x27;, &#x27;una&#x27;, &#x27;su&#x27;, &#x27;al&#x27;, &#x27;lo&#x27;, &#x27;como&#x27;, &#x27;más&#x27;,\n",
       "                            &#x27;pero&#x27;, &#x27;sus&#x27;, &#x27;le&#x27;, &#x27;ya&#x27;, &#x27;o&#x27;, &#x27;este&#x27;, &#x27;sí&#x27;,\n",
       "                            &#x27;porque&#x27;, ...],\n",
       "                token_pattern=None,\n",
       "                tokenizer=&lt;function word_tokenize at 0x00000122057339C0&gt;)</pre><b>In a Jupyter environment, please rerun this cell to show the HTML representation or trust the notebook. <br />On GitHub, the HTML representation is unable to render, please try loading this page with nbviewer.org.</b></div><div class=\"sk-container\" hidden><div class=\"sk-item\"><div class=\"sk-estimator  sk-toggleable\"><input class=\"sk-toggleable__control sk-hidden--visually\" id=\"sk-estimator-id-6\" type=\"checkbox\" checked><label for=\"sk-estimator-id-6\" class=\"sk-toggleable__label  sk-toggleable__label-arrow\"><div><div>CountVectorizer</div></div><div><a class=\"sk-estimator-doc-link \" rel=\"noreferrer\" target=\"_blank\" href=\"https://scikit-learn.org/1.6/modules/generated/sklearn.feature_extraction.text.CountVectorizer.html\">?<span>Documentation for CountVectorizer</span></a><span class=\"sk-estimator-doc-link \">i<span>Not fitted</span></span></div></label><div class=\"sk-toggleable__content \"><pre>CountVectorizer(stop_words=[&#x27;de&#x27;, &#x27;la&#x27;, &#x27;que&#x27;, &#x27;el&#x27;, &#x27;en&#x27;, &#x27;y&#x27;, &#x27;a&#x27;, &#x27;los&#x27;,\n",
       "                            &#x27;del&#x27;, &#x27;se&#x27;, &#x27;las&#x27;, &#x27;por&#x27;, &#x27;un&#x27;, &#x27;para&#x27;, &#x27;con&#x27;,\n",
       "                            &#x27;no&#x27;, &#x27;una&#x27;, &#x27;su&#x27;, &#x27;al&#x27;, &#x27;lo&#x27;, &#x27;como&#x27;, &#x27;más&#x27;,\n",
       "                            &#x27;pero&#x27;, &#x27;sus&#x27;, &#x27;le&#x27;, &#x27;ya&#x27;, &#x27;o&#x27;, &#x27;este&#x27;, &#x27;sí&#x27;,\n",
       "                            &#x27;porque&#x27;, ...],\n",
       "                token_pattern=None,\n",
       "                tokenizer=&lt;function word_tokenize at 0x00000122057339C0&gt;)</pre></div> </div></div></div></div>"
      ],
      "text/plain": [
       "CountVectorizer(stop_words=['de', 'la', 'que', 'el', 'en', 'y', 'a', 'los',\n",
       "                            'del', 'se', 'las', 'por', 'un', 'para', 'con',\n",
       "                            'no', 'una', 'su', 'al', 'lo', 'como', 'más',\n",
       "                            'pero', 'sus', 'le', 'ya', 'o', 'este', 'sí',\n",
       "                            'porque', ...],\n",
       "                token_pattern=None,\n",
       "                tokenizer=<function word_tokenize at 0x00000122057339C0>)"
      ]
     },
     "execution_count": 110,
     "metadata": {},
     "output_type": "execute_result"
    }
   ],
   "source": [
    "bow"
   ]
  },
  {
   "cell_type": "code",
   "execution_count": 111,
   "metadata": {},
   "outputs": [],
   "source": [
    "X_bow_train = bow.fit_transform(X_train)"
   ]
  },
  {
   "cell_type": "code",
   "execution_count": 112,
   "metadata": {},
   "outputs": [
    {
     "data": {
      "text/plain": [
       "47178"
      ]
     },
     "execution_count": 112,
     "metadata": {},
     "output_type": "execute_result"
    }
   ],
   "source": [
    "len(bow.vocabulary_)"
   ]
  },
  {
   "cell_type": "code",
   "execution_count": 113,
   "metadata": {},
   "outputs": [],
   "source": [
    "tfidf = TfidfVectorizer(tokenizer=word_tokenize, stop_words=stopwords_spanish, lowercase=True)"
   ]
  },
  {
   "cell_type": "code",
   "execution_count": 114,
   "metadata": {},
   "outputs": [
    {
     "name": "stderr",
     "output_type": "stream",
     "text": [
      "C:\\Users\\matri\\AppData\\Local\\Packages\\PythonSoftwareFoundation.Python.3.11_qbz5n2kfra8p0\\LocalCache\\local-packages\\Python311\\site-packages\\sklearn\\feature_extraction\\text.py:517: UserWarning: The parameter 'token_pattern' will not be used since 'tokenizer' is not None'\n",
      "  warnings.warn(\n"
     ]
    }
   ],
   "source": [
    "X_tfidf = tfidf.fit_transform(X_train)"
   ]
  },
  {
   "cell_type": "code",
   "execution_count": 115,
   "metadata": {},
   "outputs": [
    {
     "data": {
      "text/plain": [
       "47178"
      ]
     },
     "execution_count": 115,
     "metadata": {},
     "output_type": "execute_result"
    }
   ],
   "source": [
    "len(tfidf.vocabulary_)"
   ]
  },
  {
   "cell_type": "code",
   "execution_count": 116,
   "metadata": {},
   "outputs": [
    {
     "data": {
      "text/plain": [
       "(39632, 47178)"
      ]
     },
     "execution_count": 116,
     "metadata": {},
     "output_type": "execute_result"
    }
   ],
   "source": [
    "X_tfidf.shape"
   ]
  },
  {
   "cell_type": "markdown",
   "metadata": {},
   "source": [
    "# Algoritmos de clasificación"
   ]
  },
  {
   "cell_type": "markdown",
   "metadata": {},
   "source": [
    "### Support Vector Machines"
   ]
  },
  {
   "cell_type": "code",
   "execution_count": 117,
   "metadata": {},
   "outputs": [
    {
     "name": "stdout",
     "output_type": "stream",
     "text": [
      "              precision    recall  f1-score   support\n",
      "\n",
      "           0       0.94      0.83      0.88      7164\n",
      "           1       0.89      0.96      0.92      9822\n",
      "\n",
      "    accuracy                           0.91     16986\n",
      "   macro avg       0.91      0.90      0.90     16986\n",
      "weighted avg       0.91      0.91      0.91     16986\n",
      "\n"
     ]
    },
    {
     "data": {
      "image/png": "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",
      "text/plain": [
       "<Figure size 640x480 with 2 Axes>"
      ]
     },
     "metadata": {},
     "output_type": "display_data"
    }
   ],
   "source": [
    "# crean un modelo de SVM para clasificar las noticias\n",
    "from sklearn.svm import SVC\n",
    "from sklearn.metrics import accuracy_score\n",
    "\n",
    "svm = SVC(kernel='linear', C=1.0, random_state=1)\n",
    "svm.fit(X_tfidf, Y_train)\n",
    "\n",
    "X_tfidf_test = tfidf.transform(X_test)\n",
    "Y_pred = svm.predict(X_tfidf_test)\n",
    "accuracy_score(Y_test, Y_pred)\n",
    "\n",
    "from sklearn.metrics import confusion_matrix\n",
    "import seaborn as sns\n",
    "\n",
    "cm = confusion_matrix(Y_test, Y_pred)\n",
    "sns.heatmap(cm, annot=True, fmt='d')\n",
    "\n",
    "from sklearn.metrics import classification_report\n",
    "\n",
    "print(classification_report(Y_test, Y_pred))\n",
    "\n",
    "#from sklearn.model_selection import GridSearchCV\n",
    "\n",
    "#param_grid = {'C': [0.1, 1, 10, 100, 1000], 'gamma': [1, 0.1, 0.01, 0.001, 0.0001], 'kernel': ['rbf']}\n",
    "#grid = GridSearchCV(SVC(), param_grid, refit=True, verbose=3)\n",
    "#grid.fit(X_tfidf, Y_train)\n",
    "\n",
    "#grid.best_params_\n",
    "\n",
    "#grid.best_estimator_\n",
    "\n",
    "#grid_predictions = grid.predict(X_tfidf_test)\n",
    "#accuracy_score(Y_test, grid_predictions)\n"
   ]
  },
  {
   "cell_type": "code",
   "execution_count": 118,
   "metadata": {},
   "outputs": [],
   "source": [
    "from sklearn import svm\n",
    "\n",
    "bow_clf = svm.SVC(kernel='linear')\n",
    "bow_clf.fit(X_bow_train, Y_train)\n",
    "\n",
    "y_train_bow_pred = bow_clf.predict(X_bow_train)\n",
    "y_test_bow_pred = bow_clf.predict(bow.transform(X_test))"
   ]
  },
  {
   "cell_type": "code",
   "execution_count": 119,
   "metadata": {},
   "outputs": [
    {
     "data": {
      "text/plain": [
       "<sklearn.metrics._plot.confusion_matrix.ConfusionMatrixDisplay at 0x122118ca450>"
      ]
     },
     "execution_count": 119,
     "metadata": {},
     "output_type": "execute_result"
    },
    {
     "data": {
      "image/png": "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",
      "text/plain": [
       "<Figure size 640x480 with 2 Axes>"
      ]
     },
     "metadata": {},
     "output_type": "display_data"
    }
   ],
   "source": [
    "metrics.ConfusionMatrixDisplay.from_predictions(Y_train, y_train_bow_pred)"
   ]
  },
  {
   "cell_type": "code",
   "execution_count": 120,
   "metadata": {},
   "outputs": [
    {
     "data": {
      "text/plain": [
       "<sklearn.metrics._plot.confusion_matrix.ConfusionMatrixDisplay at 0x12214269210>"
      ]
     },
     "execution_count": 120,
     "metadata": {},
     "output_type": "execute_result"
    },
    {
     "data": {
      "image/png": "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",
      "text/plain": [
       "<Figure size 640x480 with 2 Axes>"
      ]
     },
     "metadata": {},
     "output_type": "display_data"
    }
   ],
   "source": [
    "metrics.ConfusionMatrixDisplay.from_predictions(Y_test, y_test_bow_pred)"
   ]
  },
  {
   "cell_type": "code",
   "execution_count": 121,
   "metadata": {},
   "outputs": [
    {
     "name": "stdout",
     "output_type": "stream",
     "text": [
      "Precision:  0.9889250814332248\n",
      "Recall:  0.993628905568162\n",
      "F1:  0.9912714133344942\n"
     ]
    }
   ],
   "source": [
    "if len(bow_clf.classes_) == 2:\n",
    "    print('Precision: ', metrics.precision_score(Y_train, y_train_bow_pred, pos_label=1))\n",
    "    print('Recall: ', metrics.recall_score(Y_train, y_train_bow_pred, pos_label=1))\n",
    "    print('F1: ', metrics.f1_score(Y_train, y_train_bow_pred, pos_label=1))\n",
    "else:\n",
    "    print('Precision: ', metrics.precision_score(Y_train, y_train_bow_pred, average=None))\n",
    "    print('Recall: ', metrics.recall_score(Y_train, y_train_bow_pred, average=None))\n",
    "    print('F1: ', metrics.f1_score(Y_train, y_train_bow_pred, average=None))"
   ]
  },
  {
   "cell_type": "code",
   "execution_count": 122,
   "metadata": {},
   "outputs": [
    {
     "name": "stdout",
     "output_type": "stream",
     "text": [
      "Precision:  0.9016058095530326\n",
      "Recall:  0.897475055996742\n",
      "F1:  0.899535690596459\n"
     ]
    }
   ],
   "source": [
    "if len(bow_clf.classes_) == 2:\n",
    "    print('Precision: ', metrics.precision_score(Y_test, y_test_bow_pred, pos_label=1))\n",
    "    print('Recall: ', metrics.recall_score(Y_test, y_test_bow_pred, pos_label=1))\n",
    "    print('F1: ', metrics.f1_score(Y_test, y_test_bow_pred, pos_label=1))\n",
    "else:\n",
    "    print('Precision: ', metrics.precision_score(Y_test, y_test_bow_pred, average=None))\n",
    "    print('Recall: ', metrics.recall_score(Y_test, y_test_bow_pred, pos_label=1))\n",
    "    print('F1: ', metrics.f1_score(Y_test, y_test_bow_pred, pos_label=1))"
   ]
  },
  {
   "cell_type": "markdown",
   "metadata": {},
   "source": [
    "### TD-IDF"
   ]
  },
  {
   "cell_type": "code",
   "execution_count": 123,
   "metadata": {},
   "outputs": [
    {
     "data": {
      "text/html": [
       "<style>#sk-container-id-5 {\n",
       "  /* Definition of color scheme common for light and dark mode */\n",
       "  --sklearn-color-text: #000;\n",
       "  --sklearn-color-text-muted: #666;\n",
       "  --sklearn-color-line: gray;\n",
       "  /* Definition of color scheme for unfitted estimators */\n",
       "  --sklearn-color-unfitted-level-0: #fff5e6;\n",
       "  --sklearn-color-unfitted-level-1: #f6e4d2;\n",
       "  --sklearn-color-unfitted-level-2: #ffe0b3;\n",
       "  --sklearn-color-unfitted-level-3: chocolate;\n",
       "  /* Definition of color scheme for fitted estimators */\n",
       "  --sklearn-color-fitted-level-0: #f0f8ff;\n",
       "  --sklearn-color-fitted-level-1: #d4ebff;\n",
       "  --sklearn-color-fitted-level-2: #b3dbfd;\n",
       "  --sklearn-color-fitted-level-3: cornflowerblue;\n",
       "\n",
       "  /* Specific color for light theme */\n",
       "  --sklearn-color-text-on-default-background: var(--sg-text-color, var(--theme-code-foreground, var(--jp-content-font-color1, black)));\n",
       "  --sklearn-color-background: var(--sg-background-color, var(--theme-background, var(--jp-layout-color0, white)));\n",
       "  --sklearn-color-border-box: var(--sg-text-color, var(--theme-code-foreground, var(--jp-content-font-color1, black)));\n",
       "  --sklearn-color-icon: #696969;\n",
       "\n",
       "  @media (prefers-color-scheme: dark) {\n",
       "    /* Redefinition of color scheme for dark theme */\n",
       "    --sklearn-color-text-on-default-background: var(--sg-text-color, var(--theme-code-foreground, var(--jp-content-font-color1, white)));\n",
       "    --sklearn-color-background: var(--sg-background-color, var(--theme-background, var(--jp-layout-color0, #111)));\n",
       "    --sklearn-color-border-box: var(--sg-text-color, var(--theme-code-foreground, var(--jp-content-font-color1, white)));\n",
       "    --sklearn-color-icon: #878787;\n",
       "  }\n",
       "}\n",
       "\n",
       "#sk-container-id-5 {\n",
       "  color: var(--sklearn-color-text);\n",
       "}\n",
       "\n",
       "#sk-container-id-5 pre {\n",
       "  padding: 0;\n",
       "}\n",
       "\n",
       "#sk-container-id-5 input.sk-hidden--visually {\n",
       "  border: 0;\n",
       "  clip: rect(1px 1px 1px 1px);\n",
       "  clip: rect(1px, 1px, 1px, 1px);\n",
       "  height: 1px;\n",
       "  margin: -1px;\n",
       "  overflow: hidden;\n",
       "  padding: 0;\n",
       "  position: absolute;\n",
       "  width: 1px;\n",
       "}\n",
       "\n",
       "#sk-container-id-5 div.sk-dashed-wrapped {\n",
       "  border: 1px dashed var(--sklearn-color-line);\n",
       "  margin: 0 0.4em 0.5em 0.4em;\n",
       "  box-sizing: border-box;\n",
       "  padding-bottom: 0.4em;\n",
       "  background-color: var(--sklearn-color-background);\n",
       "}\n",
       "\n",
       "#sk-container-id-5 div.sk-container {\n",
       "  /* jupyter's `normalize.less` sets `[hidden] { display: none; }`\n",
       "     but bootstrap.min.css set `[hidden] { display: none !important; }`\n",
       "     so we also need the `!important` here to be able to override the\n",
       "     default hidden behavior on the sphinx rendered scikit-learn.org.\n",
       "     See: https://github.com/scikit-learn/scikit-learn/issues/21755 */\n",
       "  display: inline-block !important;\n",
       "  position: relative;\n",
       "}\n",
       "\n",
       "#sk-container-id-5 div.sk-text-repr-fallback {\n",
       "  display: none;\n",
       "}\n",
       "\n",
       "div.sk-parallel-item,\n",
       "div.sk-serial,\n",
       "div.sk-item {\n",
       "  /* draw centered vertical line to link estimators */\n",
       "  background-image: linear-gradient(var(--sklearn-color-text-on-default-background), var(--sklearn-color-text-on-default-background));\n",
       "  background-size: 2px 100%;\n",
       "  background-repeat: no-repeat;\n",
       "  background-position: center center;\n",
       "}\n",
       "\n",
       "/* Parallel-specific style estimator block */\n",
       "\n",
       "#sk-container-id-5 div.sk-parallel-item::after {\n",
       "  content: \"\";\n",
       "  width: 100%;\n",
       "  border-bottom: 2px solid var(--sklearn-color-text-on-default-background);\n",
       "  flex-grow: 1;\n",
       "}\n",
       "\n",
       "#sk-container-id-5 div.sk-parallel {\n",
       "  display: flex;\n",
       "  align-items: stretch;\n",
       "  justify-content: center;\n",
       "  background-color: var(--sklearn-color-background);\n",
       "  position: relative;\n",
       "}\n",
       "\n",
       "#sk-container-id-5 div.sk-parallel-item {\n",
       "  display: flex;\n",
       "  flex-direction: column;\n",
       "}\n",
       "\n",
       "#sk-container-id-5 div.sk-parallel-item:first-child::after {\n",
       "  align-self: flex-end;\n",
       "  width: 50%;\n",
       "}\n",
       "\n",
       "#sk-container-id-5 div.sk-parallel-item:last-child::after {\n",
       "  align-self: flex-start;\n",
       "  width: 50%;\n",
       "}\n",
       "\n",
       "#sk-container-id-5 div.sk-parallel-item:only-child::after {\n",
       "  width: 0;\n",
       "}\n",
       "\n",
       "/* Serial-specific style estimator block */\n",
       "\n",
       "#sk-container-id-5 div.sk-serial {\n",
       "  display: flex;\n",
       "  flex-direction: column;\n",
       "  align-items: center;\n",
       "  background-color: var(--sklearn-color-background);\n",
       "  padding-right: 1em;\n",
       "  padding-left: 1em;\n",
       "}\n",
       "\n",
       "\n",
       "/* Toggleable style: style used for estimator/Pipeline/ColumnTransformer box that is\n",
       "clickable and can be expanded/collapsed.\n",
       "- Pipeline and ColumnTransformer use this feature and define the default style\n",
       "- Estimators will overwrite some part of the style using the `sk-estimator` class\n",
       "*/\n",
       "\n",
       "/* Pipeline and ColumnTransformer style (default) */\n",
       "\n",
       "#sk-container-id-5 div.sk-toggleable {\n",
       "  /* Default theme specific background. It is overwritten whether we have a\n",
       "  specific estimator or a Pipeline/ColumnTransformer */\n",
       "  background-color: var(--sklearn-color-background);\n",
       "}\n",
       "\n",
       "/* Toggleable label */\n",
       "#sk-container-id-5 label.sk-toggleable__label {\n",
       "  cursor: pointer;\n",
       "  display: flex;\n",
       "  width: 100%;\n",
       "  margin-bottom: 0;\n",
       "  padding: 0.5em;\n",
       "  box-sizing: border-box;\n",
       "  text-align: center;\n",
       "  align-items: start;\n",
       "  justify-content: space-between;\n",
       "  gap: 0.5em;\n",
       "}\n",
       "\n",
       "#sk-container-id-5 label.sk-toggleable__label .caption {\n",
       "  font-size: 0.6rem;\n",
       "  font-weight: lighter;\n",
       "  color: var(--sklearn-color-text-muted);\n",
       "}\n",
       "\n",
       "#sk-container-id-5 label.sk-toggleable__label-arrow:before {\n",
       "  /* Arrow on the left of the label */\n",
       "  content: \"▸\";\n",
       "  float: left;\n",
       "  margin-right: 0.25em;\n",
       "  color: var(--sklearn-color-icon);\n",
       "}\n",
       "\n",
       "#sk-container-id-5 label.sk-toggleable__label-arrow:hover:before {\n",
       "  color: var(--sklearn-color-text);\n",
       "}\n",
       "\n",
       "/* Toggleable content - dropdown */\n",
       "\n",
       "#sk-container-id-5 div.sk-toggleable__content {\n",
       "  max-height: 0;\n",
       "  max-width: 0;\n",
       "  overflow: hidden;\n",
       "  text-align: left;\n",
       "  /* unfitted */\n",
       "  background-color: var(--sklearn-color-unfitted-level-0);\n",
       "}\n",
       "\n",
       "#sk-container-id-5 div.sk-toggleable__content.fitted {\n",
       "  /* fitted */\n",
       "  background-color: var(--sklearn-color-fitted-level-0);\n",
       "}\n",
       "\n",
       "#sk-container-id-5 div.sk-toggleable__content pre {\n",
       "  margin: 0.2em;\n",
       "  border-radius: 0.25em;\n",
       "  color: var(--sklearn-color-text);\n",
       "  /* unfitted */\n",
       "  background-color: var(--sklearn-color-unfitted-level-0);\n",
       "}\n",
       "\n",
       "#sk-container-id-5 div.sk-toggleable__content.fitted pre {\n",
       "  /* unfitted */\n",
       "  background-color: var(--sklearn-color-fitted-level-0);\n",
       "}\n",
       "\n",
       "#sk-container-id-5 input.sk-toggleable__control:checked~div.sk-toggleable__content {\n",
       "  /* Expand drop-down */\n",
       "  max-height: 200px;\n",
       "  max-width: 100%;\n",
       "  overflow: auto;\n",
       "}\n",
       "\n",
       "#sk-container-id-5 input.sk-toggleable__control:checked~label.sk-toggleable__label-arrow:before {\n",
       "  content: \"▾\";\n",
       "}\n",
       "\n",
       "/* Pipeline/ColumnTransformer-specific style */\n",
       "\n",
       "#sk-container-id-5 div.sk-label input.sk-toggleable__control:checked~label.sk-toggleable__label {\n",
       "  color: var(--sklearn-color-text);\n",
       "  background-color: var(--sklearn-color-unfitted-level-2);\n",
       "}\n",
       "\n",
       "#sk-container-id-5 div.sk-label.fitted input.sk-toggleable__control:checked~label.sk-toggleable__label {\n",
       "  background-color: var(--sklearn-color-fitted-level-2);\n",
       "}\n",
       "\n",
       "/* Estimator-specific style */\n",
       "\n",
       "/* Colorize estimator box */\n",
       "#sk-container-id-5 div.sk-estimator input.sk-toggleable__control:checked~label.sk-toggleable__label {\n",
       "  /* unfitted */\n",
       "  background-color: var(--sklearn-color-unfitted-level-2);\n",
       "}\n",
       "\n",
       "#sk-container-id-5 div.sk-estimator.fitted input.sk-toggleable__control:checked~label.sk-toggleable__label {\n",
       "  /* fitted */\n",
       "  background-color: var(--sklearn-color-fitted-level-2);\n",
       "}\n",
       "\n",
       "#sk-container-id-5 div.sk-label label.sk-toggleable__label,\n",
       "#sk-container-id-5 div.sk-label label {\n",
       "  /* The background is the default theme color */\n",
       "  color: var(--sklearn-color-text-on-default-background);\n",
       "}\n",
       "\n",
       "/* On hover, darken the color of the background */\n",
       "#sk-container-id-5 div.sk-label:hover label.sk-toggleable__label {\n",
       "  color: var(--sklearn-color-text);\n",
       "  background-color: var(--sklearn-color-unfitted-level-2);\n",
       "}\n",
       "\n",
       "/* Label box, darken color on hover, fitted */\n",
       "#sk-container-id-5 div.sk-label.fitted:hover label.sk-toggleable__label.fitted {\n",
       "  color: var(--sklearn-color-text);\n",
       "  background-color: var(--sklearn-color-fitted-level-2);\n",
       "}\n",
       "\n",
       "/* Estimator label */\n",
       "\n",
       "#sk-container-id-5 div.sk-label label {\n",
       "  font-family: monospace;\n",
       "  font-weight: bold;\n",
       "  display: inline-block;\n",
       "  line-height: 1.2em;\n",
       "}\n",
       "\n",
       "#sk-container-id-5 div.sk-label-container {\n",
       "  text-align: center;\n",
       "}\n",
       "\n",
       "/* Estimator-specific */\n",
       "#sk-container-id-5 div.sk-estimator {\n",
       "  font-family: monospace;\n",
       "  border: 1px dotted var(--sklearn-color-border-box);\n",
       "  border-radius: 0.25em;\n",
       "  box-sizing: border-box;\n",
       "  margin-bottom: 0.5em;\n",
       "  /* unfitted */\n",
       "  background-color: var(--sklearn-color-unfitted-level-0);\n",
       "}\n",
       "\n",
       "#sk-container-id-5 div.sk-estimator.fitted {\n",
       "  /* fitted */\n",
       "  background-color: var(--sklearn-color-fitted-level-0);\n",
       "}\n",
       "\n",
       "/* on hover */\n",
       "#sk-container-id-5 div.sk-estimator:hover {\n",
       "  /* unfitted */\n",
       "  background-color: var(--sklearn-color-unfitted-level-2);\n",
       "}\n",
       "\n",
       "#sk-container-id-5 div.sk-estimator.fitted:hover {\n",
       "  /* fitted */\n",
       "  background-color: var(--sklearn-color-fitted-level-2);\n",
       "}\n",
       "\n",
       "/* Specification for estimator info (e.g. \"i\" and \"?\") */\n",
       "\n",
       "/* Common style for \"i\" and \"?\" */\n",
       "\n",
       ".sk-estimator-doc-link,\n",
       "a:link.sk-estimator-doc-link,\n",
       "a:visited.sk-estimator-doc-link {\n",
       "  float: right;\n",
       "  font-size: smaller;\n",
       "  line-height: 1em;\n",
       "  font-family: monospace;\n",
       "  background-color: var(--sklearn-color-background);\n",
       "  border-radius: 1em;\n",
       "  height: 1em;\n",
       "  width: 1em;\n",
       "  text-decoration: none !important;\n",
       "  margin-left: 0.5em;\n",
       "  text-align: center;\n",
       "  /* unfitted */\n",
       "  border: var(--sklearn-color-unfitted-level-1) 1pt solid;\n",
       "  color: var(--sklearn-color-unfitted-level-1);\n",
       "}\n",
       "\n",
       ".sk-estimator-doc-link.fitted,\n",
       "a:link.sk-estimator-doc-link.fitted,\n",
       "a:visited.sk-estimator-doc-link.fitted {\n",
       "  /* fitted */\n",
       "  border: var(--sklearn-color-fitted-level-1) 1pt solid;\n",
       "  color: var(--sklearn-color-fitted-level-1);\n",
       "}\n",
       "\n",
       "/* On hover */\n",
       "div.sk-estimator:hover .sk-estimator-doc-link:hover,\n",
       ".sk-estimator-doc-link:hover,\n",
       "div.sk-label-container:hover .sk-estimator-doc-link:hover,\n",
       ".sk-estimator-doc-link:hover {\n",
       "  /* unfitted */\n",
       "  background-color: var(--sklearn-color-unfitted-level-3);\n",
       "  color: var(--sklearn-color-background);\n",
       "  text-decoration: none;\n",
       "}\n",
       "\n",
       "div.sk-estimator.fitted:hover .sk-estimator-doc-link.fitted:hover,\n",
       ".sk-estimator-doc-link.fitted:hover,\n",
       "div.sk-label-container:hover .sk-estimator-doc-link.fitted:hover,\n",
       ".sk-estimator-doc-link.fitted:hover {\n",
       "  /* fitted */\n",
       "  background-color: var(--sklearn-color-fitted-level-3);\n",
       "  color: var(--sklearn-color-background);\n",
       "  text-decoration: none;\n",
       "}\n",
       "\n",
       "/* Span, style for the box shown on hovering the info icon */\n",
       ".sk-estimator-doc-link span {\n",
       "  display: none;\n",
       "  z-index: 9999;\n",
       "  position: relative;\n",
       "  font-weight: normal;\n",
       "  right: .2ex;\n",
       "  padding: .5ex;\n",
       "  margin: .5ex;\n",
       "  width: min-content;\n",
       "  min-width: 20ex;\n",
       "  max-width: 50ex;\n",
       "  color: var(--sklearn-color-text);\n",
       "  box-shadow: 2pt 2pt 4pt #999;\n",
       "  /* unfitted */\n",
       "  background: var(--sklearn-color-unfitted-level-0);\n",
       "  border: .5pt solid var(--sklearn-color-unfitted-level-3);\n",
       "}\n",
       "\n",
       ".sk-estimator-doc-link.fitted span {\n",
       "  /* fitted */\n",
       "  background: var(--sklearn-color-fitted-level-0);\n",
       "  border: var(--sklearn-color-fitted-level-3);\n",
       "}\n",
       "\n",
       ".sk-estimator-doc-link:hover span {\n",
       "  display: block;\n",
       "}\n",
       "\n",
       "/* \"?\"-specific style due to the `<a>` HTML tag */\n",
       "\n",
       "#sk-container-id-5 a.estimator_doc_link {\n",
       "  float: right;\n",
       "  font-size: 1rem;\n",
       "  line-height: 1em;\n",
       "  font-family: monospace;\n",
       "  background-color: var(--sklearn-color-background);\n",
       "  border-radius: 1rem;\n",
       "  height: 1rem;\n",
       "  width: 1rem;\n",
       "  text-decoration: none;\n",
       "  /* unfitted */\n",
       "  color: var(--sklearn-color-unfitted-level-1);\n",
       "  border: var(--sklearn-color-unfitted-level-1) 1pt solid;\n",
       "}\n",
       "\n",
       "#sk-container-id-5 a.estimator_doc_link.fitted {\n",
       "  /* fitted */\n",
       "  border: var(--sklearn-color-fitted-level-1) 1pt solid;\n",
       "  color: var(--sklearn-color-fitted-level-1);\n",
       "}\n",
       "\n",
       "/* On hover */\n",
       "#sk-container-id-5 a.estimator_doc_link:hover {\n",
       "  /* unfitted */\n",
       "  background-color: var(--sklearn-color-unfitted-level-3);\n",
       "  color: var(--sklearn-color-background);\n",
       "  text-decoration: none;\n",
       "}\n",
       "\n",
       "#sk-container-id-5 a.estimator_doc_link.fitted:hover {\n",
       "  /* fitted */\n",
       "  background-color: var(--sklearn-color-fitted-level-3);\n",
       "}\n",
       "</style><div id=\"sk-container-id-5\" class=\"sk-top-container\"><div class=\"sk-text-repr-fallback\"><pre>SVC(kernel=&#x27;linear&#x27;)</pre><b>In a Jupyter environment, please rerun this cell to show the HTML representation or trust the notebook. <br />On GitHub, the HTML representation is unable to render, please try loading this page with nbviewer.org.</b></div><div class=\"sk-container\" hidden><div class=\"sk-item\"><div class=\"sk-estimator fitted sk-toggleable\"><input class=\"sk-toggleable__control sk-hidden--visually\" id=\"sk-estimator-id-7\" type=\"checkbox\" checked><label for=\"sk-estimator-id-7\" class=\"sk-toggleable__label fitted sk-toggleable__label-arrow\"><div><div>SVC</div></div><div><a class=\"sk-estimator-doc-link fitted\" rel=\"noreferrer\" target=\"_blank\" href=\"https://scikit-learn.org/1.6/modules/generated/sklearn.svm.SVC.html\">?<span>Documentation for SVC</span></a><span class=\"sk-estimator-doc-link fitted\">i<span>Fitted</span></span></div></label><div class=\"sk-toggleable__content fitted\"><pre>SVC(kernel=&#x27;linear&#x27;)</pre></div> </div></div></div></div>"
      ],
      "text/plain": [
       "SVC(kernel='linear')"
      ]
     },
     "execution_count": 123,
     "metadata": {},
     "output_type": "execute_result"
    }
   ],
   "source": [
    "tfidf_clf = svm.SVC(kernel='linear')\n",
    "tfidf_clf.fit(X_tfidf, Y_train)"
   ]
  },
  {
   "cell_type": "code",
   "execution_count": 124,
=======
   "execution_count": 42,
>>>>>>> 289bf6e (regresion)
   "metadata": {},
   "outputs": [],
   "source": [
    "bow = CountVectorizer(tokenizer=word_tokenize, stop_words=stopwords_spanish, lowercase=True, token_pattern=None)"
   ]
  },
  {
   "cell_type": "code",
   "execution_count": 125,
   "metadata": {},
   "outputs": [
    {
     "data": {
<<<<<<< HEAD
      "text/plain": [
       "<sklearn.metrics._plot.confusion_matrix.ConfusionMatrixDisplay at 0x1220f346fd0>"
      ]
     },
     "execution_count": 125,
     "metadata": {},
     "output_type": "execute_result"
    },
    {
     "data": {
      "image/png": "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",
      "text/plain": [
       "<Figure size 640x480 with 2 Axes>"
      ]
     },
     "metadata": {},
     "output_type": "display_data"
    }
   ],
   "source": [
    "metrics.ConfusionMatrixDisplay.from_predictions(Y_train, y_train_tfidf_pred)"
   ]
  },
  {
   "cell_type": "code",
   "execution_count": 126,
   "metadata": {},
   "outputs": [
    {
     "data": {
      "text/plain": [
       "<sklearn.metrics._plot.confusion_matrix.ConfusionMatrixDisplay at 0x12215c20550>"
      ]
     },
     "execution_count": 126,
     "metadata": {},
     "output_type": "execute_result"
    },
    {
     "data": {
      "image/png": "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",
      "text/plain": [
       "<Figure size 640x480 with 2 Axes>"
      ]
     },
     "metadata": {},
     "output_type": "display_data"
    }
   ],
   "source": [
    "metrics.ConfusionMatrixDisplay.from_predictions(Y_test, y_test_tfidf_pred)"
   ]
  },
  {
   "cell_type": "code",
   "execution_count": 127,
   "metadata": {},
   "outputs": [
    {
     "name": "stdout",
     "output_type": "stream",
     "text": [
      "Precision: 0.9242964237433944\n",
      "Recall: 0.9845959155175423\n",
      "F1: 0.9534937773364042\n"
     ]
    }
   ],
   "source": [
    "if len(bow_clf.classes_) == 2:\n",
    "    print('Precision:', metrics.precision_score(Y_train, y_train_tfidf_pred, pos_label = 1))\n",
    "    print('Recall:', metrics.recall_score(Y_train, y_train_tfidf_pred, pos_label = 1))\n",
    "    print('F1:', metrics.f1_score(Y_train, y_train_tfidf_pred, pos_label = 1))\n",
    "else:\n",
    "    print('Precision:', metrics.precision_score(Y_train, y_train_tfidf_pred, average = None))\n",
    "    print('Recall:', metrics.recall_score(Y_train, y_train_tfidf_pred, average = None))\n",
    "    print('F1:', metrics.f1_score(Y_train, y_train_tfidf_pred, average = None))"
   ]
  },
  {
   "cell_type": "code",
   "execution_count": 128,
   "metadata": {},
   "outputs": [
    {
     "name": "stdout",
     "output_type": "stream",
     "text": [
      "Precision: 0.8856982508652137\n",
      "Recall: 0.9640602728568519\n",
      "F1: 0.923219421830059\n"
     ]
    }
   ],
   "source": [
    "if len(tfidf_clf.classes_) == 2:\n",
    "    print('Precision:', metrics.precision_score(Y_test, y_test_tfidf_pred, pos_label = 1))\n",
    "    print('Recall:', metrics.recall_score(Y_test, y_test_tfidf_pred, pos_label = 1))\n",
    "    print('F1:', metrics.f1_score(Y_test, y_test_tfidf_pred, pos_label = 1))\n",
    "else:\n",
    "    # Para casos no binarios, es común calcular las métricas para cada clase\n",
    "    print('Precision:', metrics.precision_score(Y_test, y_test_tfidf_pred, average = None))\n",
    "    print('Recall:', metrics.recall_score(Y_test, y_test_tfidf_pred, average = None))\n",
    "    print('F1:', metrics.f1_score(Y_test, y_test_tfidf_pred, average = None))\n"
   ]
  },
  {
   "cell_type": "markdown",
   "metadata": {},
   "source": [
    "### Error"
   ]
  },
  {
   "cell_type": "code",
   "execution_count": 129,
   "metadata": {},
   "outputs": [
    {
     "name": "stdout",
     "output_type": "stream",
     "text": [
      "                                               Texto  actual  predicted\n",
      "0  casado le cobra la factura a la ceoe por su po...       1          1\n",
      "1  sánchez pide a torra no patrimonializar las in...       1          1\n",
      "2  rita maestre y el aparato de moncloa volcados ...       0          0\n",
      "3  la fiscalía rechaza aplazar la sentencia de ju...       1          1\n",
      "4  el constitucional rechaza las recusaciones de ...       0          0\n"
     ]
    }
   ],
   "source": [
    "# Concatenar X_test con Y_test\n",
    "df_test = pd.concat([X_test, Y_test], axis=1).reset_index(drop=True)\n",
    "\n",
    "# Convertir predicciones en DataFrame\n",
    "df_pred = pd.DataFrame({'predicted': y_test_tfidf_pred})\n",
    "\n",
    "# Unir los DataFrames\n",
    "error_df = pd.concat([df_test, df_pred], axis=1)\n",
    "\n",
    "# Renombrar la columna de etiquetas reales si existe\n",
    "if 'Label' in error_df.columns:\n",
    "    error_df.rename(columns={'Label': 'actual'}, inplace=True)\n",
    "\n",
    "# Verificar el resultado\n",
    "print(error_df.head())"
   ]
  },
  {
   "cell_type": "code",
   "execution_count": 130,
   "metadata": {},
   "outputs": [
    {
     "name": "stdout",
     "output_type": "stream",
     "text": [
      "Número de errores: 1575\n"
     ]
    }
   ],
   "source": [
    "error_count = (error_df['actual'] != error_df['predicted']).sum()\n",
    "print(f\"Número de errores: {error_count}\")"
   ]
  },
  {
   "cell_type": "code",
   "execution_count": 131,
   "metadata": {},
   "outputs": [
    {
     "data": {
      "text/html": [
       "<div>\n",
       "<style scoped>\n",
       "    .dataframe tbody tr th:only-of-type {\n",
       "        vertical-align: middle;\n",
       "    }\n",
       "\n",
       "    .dataframe tbody tr th {\n",
       "        vertical-align: top;\n",
       "    }\n",
       "\n",
       "    .dataframe thead th {\n",
       "        text-align: right;\n",
       "    }\n",
       "</style>\n",
       "<table border=\"1\" class=\"dataframe\">\n",
       "  <thead>\n",
       "    <tr style=\"text-align: right;\">\n",
       "      <th></th>\n",
       "      <th>Texto</th>\n",
       "      <th>actual</th>\n",
       "      <th>predicted</th>\n",
       "    </tr>\n",
       "  </thead>\n",
       "  <tbody>\n",
       "    <tr>\n",
       "      <th>6632</th>\n",
       "      <td>la marcha de anne hidalgo al grupo mixto del c...</td>\n",
       "      <td>0</td>\n",
       "      <td>1</td>\n",
       "    </tr>\n",
       "    <tr>\n",
       "      <th>6118</th>\n",
       "      <td>pilar lima se va al senado la expresidenta de ...</td>\n",
       "      <td>0</td>\n",
       "      <td>1</td>\n",
       "    </tr>\n",
       "    <tr>\n",
       "      <th>14141</th>\n",
       "      <td>falciani arropado por pp pide al gobierno que ...</td>\n",
       "      <td>0</td>\n",
       "      <td>1</td>\n",
       "    </tr>\n",
       "    <tr>\n",
       "      <th>13100</th>\n",
       "      <td>las bases de eh bildu aprueban concurrir a las...</td>\n",
       "      <td>1</td>\n",
       "      <td>0</td>\n",
       "    </tr>\n",
       "    <tr>\n",
       "      <th>8927</th>\n",
       "      <td>ciudadanos toma posición como la organización ...</td>\n",
       "      <td>0</td>\n",
       "      <td>1</td>\n",
       "    </tr>\n",
       "    <tr>\n",
       "      <th>8975</th>\n",
       "      <td>pp y cs piden que montón aclare las dudas sobr...</td>\n",
       "      <td>0</td>\n",
       "      <td>1</td>\n",
       "    </tr>\n",
       "    <tr>\n",
       "      <th>7541</th>\n",
       "      <td>el gobierno anuncia que está a punto de aproba...</td>\n",
       "      <td>1</td>\n",
       "      <td>0</td>\n",
       "    </tr>\n",
       "    <tr>\n",
       "      <th>4821</th>\n",
       "      <td>el gobierno ha dado 630 millones de euros en s...</td>\n",
       "      <td>0</td>\n",
       "      <td>1</td>\n",
       "    </tr>\n",
       "    <tr>\n",
       "      <th>906</th>\n",
       "      <td>bescansa aterriza en galicia apuesta segura o ...</td>\n",
       "      <td>0</td>\n",
       "      <td>1</td>\n",
       "    </tr>\n",
       "    <tr>\n",
       "      <th>5561</th>\n",
       "      <td>citan como investigado a alberto fernández por...</td>\n",
       "      <td>0</td>\n",
       "      <td>1</td>\n",
       "    </tr>\n",
       "  </tbody>\n",
       "</table>\n",
       "</div>"
      ],
      "text/plain": [
       "                                                   Texto  actual  predicted\n",
       "6632   la marcha de anne hidalgo al grupo mixto del c...       0          1\n",
       "6118   pilar lima se va al senado la expresidenta de ...       0          1\n",
       "14141  falciani arropado por pp pide al gobierno que ...       0          1\n",
       "13100  las bases de eh bildu aprueban concurrir a las...       1          0\n",
       "8927   ciudadanos toma posición como la organización ...       0          1\n",
       "8975   pp y cs piden que montón aclare las dudas sobr...       0          1\n",
       "7541   el gobierno anuncia que está a punto de aproba...       1          0\n",
       "4821   el gobierno ha dado 630 millones de euros en s...       0          1\n",
       "906    bescansa aterriza en galicia apuesta segura o ...       0          1\n",
       "5561   citan como investigado a alberto fernández por...       0          1"
      ]
     },
     "execution_count": 131,
     "metadata": {},
     "output_type": "execute_result"
    }
   ],
   "source": [
    "error_df.loc[error_df['actual'] != error_df['predicted']].sample(10)"
   ]
  },
  {
   "cell_type": "markdown",
   "metadata": {},
   "source": [
    "### Arboles de decision"
   ]
  },
  {
   "cell_type": "code",
   "execution_count": 132,
   "metadata": {},
   "outputs": [],
   "source": [
    "from sklearn.tree import DecisionTreeClassifier\n",
    "from sklearn.metrics import accuracy_score, confusion_matrix, classification_report\n",
    "import seaborn as sns\n",
    "from sklearn import tree"
   ]
  },
  {
   "cell_type": "code",
   "execution_count": 144,
   "metadata": {},
   "outputs": [
    {
     "name": "stdout",
     "output_type": "stream",
     "text": [
      "Accuracy: 0.9164017426115625\n",
      "              precision    recall  f1-score   support\n",
      "\n",
      "           0       0.90      0.90      0.90      7164\n",
      "           1       0.93      0.93      0.93      9822\n",
      "\n",
      "    accuracy                           0.92     16986\n",
      "   macro avg       0.91      0.91      0.91     16986\n",
      "weighted avg       0.92      0.92      0.92     16986\n",
      "\n"
     ]
    },
    {
     "data": {
      "image/png": "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",
      "text/plain": [
       "<Figure size 640x480 with 2 Axes>"
      ]
     },
     "metadata": {},
     "output_type": "display_data"
    }
   ],
   "source": [
    "# Crear y entrenar el modelo de árbol de decisión\n",
    "arbol = DecisionTreeClassifier(random_state=1)\n",
    "arbol.fit(X_tfidf, Y_train)\n",
    "\n",
    "# Transformar los datos de prueba\n",
    "X_tfidf_test = tfidf.transform(X_test)\n",
    "\n",
    "# Hacer predicciones\n",
    "Y_pred = arbol.predict(X_tfidf_test)\n",
    "\n",
    "# Evaluar el modelo\n",
    "print(\"Accuracy:\", accuracy_score(Y_test, Y_pred))\n",
    "\n",
    "# Matriz de confusión\n",
    "cm = confusion_matrix(Y_test, Y_pred)\n",
    "sns.heatmap(cm, annot=True, fmt='d')\n",
    "\n",
    "# Reporte de clasificación\n",
    "print(classification_report(Y_test, Y_pred))"
   ]
  },
  {
   "cell_type": "code",
   "execution_count": 147,
   "metadata": {},
   "outputs": [
    {
     "name": "stdout",
     "output_type": "stream",
     "text": [
      "        Palabra  Importancia\n",
      "33931       per     0.112910\n",
      "19077      equo     0.080640\n",
      "17321    eajpnv     0.069678\n",
      "7789        bng     0.048935\n",
      "31331   narbona     0.047637\n",
      "8688    canaria     0.027700\n",
      "40056      rita     0.022421\n",
      "31247    mónica     0.017508\n",
      "8691   canarias     0.016584\n",
      "34846   podemos     0.016390\n"
     ]
    }
   ],
   "source": [
    "# Obtener las palabras del vectorizador TF-IDF\n",
    "feature_names = tfidf.get_feature_names_out()\n",
    "\n",
    "# Obtener la importancia de cada palabra en el árbol de decisión\n",
    "importances = arbol.feature_importances_\n",
    "\n",
    "# Crear un DataFrame para visualizar los resultados\n",
    "word_importance = pd.DataFrame({'Palabra': feature_names, 'Importancia': importances})\n",
    "\n",
    "# Ordenar de mayor a menor importancia\n",
    "word_importance = word_importance.sort_values(by='Importancia', ascending=False)\n",
    "\n",
    "# Mostrar las 10 palabras más importantes\n",
    "print(word_importance.head(10))"
   ]
  },
  {
   "cell_type": "code",
   "execution_count": 146,
   "metadata": {},
   "outputs": [
    {
     "data": {
      "text/plain": [
       "<sklearn.metrics._plot.roc_curve.RocCurveDisplay at 0x122171094d0>"
      ]
     },
     "execution_count": 146,
     "metadata": {},
     "output_type": "execute_result"
    },
    {
     "data": {
      "image/png": "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",
      "text/plain": [
       "<Figure size 640x480 with 1 Axes>"
      ]
     },
     "metadata": {},
     "output_type": "display_data"
    }
   ],
   "source": [
    "from sklearn.metrics import RocCurveDisplay\n",
    "\n",
    "\n",
    "RocCurveDisplay.from_estimator(arbol, X_tfidf_test, Y_test, plot_chance_level=True)\n"
   ]
  },
  {
   "cell_type": "code",
   "execution_count": 136,
   "metadata": {},
   "outputs": [
    {
     "data": {
=======
>>>>>>> 289bf6e (regresion)
      "text/html": [
       "<style>#sk-container-id-6 {\n",
       "  /* Definition of color scheme common for light and dark mode */\n",
       "  --sklearn-color-text: black;\n",
       "  --sklearn-color-line: gray;\n",
       "  /* Definition of color scheme for unfitted estimators */\n",
       "  --sklearn-color-unfitted-level-0: #fff5e6;\n",
       "  --sklearn-color-unfitted-level-1: #f6e4d2;\n",
       "  --sklearn-color-unfitted-level-2: #ffe0b3;\n",
       "  --sklearn-color-unfitted-level-3: chocolate;\n",
       "  /* Definition of color scheme for fitted estimators */\n",
       "  --sklearn-color-fitted-level-0: #f0f8ff;\n",
       "  --sklearn-color-fitted-level-1: #d4ebff;\n",
       "  --sklearn-color-fitted-level-2: #b3dbfd;\n",
       "  --sklearn-color-fitted-level-3: cornflowerblue;\n",
       "\n",
       "  /* Specific color for light theme */\n",
       "  --sklearn-color-text-on-default-background: var(--sg-text-color, var(--theme-code-foreground, var(--jp-content-font-color1, black)));\n",
       "  --sklearn-color-background: var(--sg-background-color, var(--theme-background, var(--jp-layout-color0, white)));\n",
       "  --sklearn-color-border-box: var(--sg-text-color, var(--theme-code-foreground, var(--jp-content-font-color1, black)));\n",
       "  --sklearn-color-icon: #696969;\n",
       "\n",
       "  @media (prefers-color-scheme: dark) {\n",
       "    /* Redefinition of color scheme for dark theme */\n",
       "    --sklearn-color-text-on-default-background: var(--sg-text-color, var(--theme-code-foreground, var(--jp-content-font-color1, white)));\n",
       "    --sklearn-color-background: var(--sg-background-color, var(--theme-background, var(--jp-layout-color0, #111)));\n",
       "    --sklearn-color-border-box: var(--sg-text-color, var(--theme-code-foreground, var(--jp-content-font-color1, white)));\n",
       "    --sklearn-color-icon: #878787;\n",
       "  }\n",
       "}\n",
       "\n",
       "#sk-container-id-6 {\n",
       "  color: var(--sklearn-color-text);\n",
       "}\n",
       "\n",
       "#sk-container-id-6 pre {\n",
       "  padding: 0;\n",
       "}\n",
       "\n",
       "#sk-container-id-6 input.sk-hidden--visually {\n",
       "  border: 0;\n",
       "  clip: rect(1px 1px 1px 1px);\n",
       "  clip: rect(1px, 1px, 1px, 1px);\n",
       "  height: 1px;\n",
       "  margin: -1px;\n",
       "  overflow: hidden;\n",
       "  padding: 0;\n",
       "  position: absolute;\n",
       "  width: 1px;\n",
       "}\n",
       "\n",
       "#sk-container-id-6 div.sk-dashed-wrapped {\n",
       "  border: 1px dashed var(--sklearn-color-line);\n",
       "  margin: 0 0.4em 0.5em 0.4em;\n",
       "  box-sizing: border-box;\n",
       "  padding-bottom: 0.4em;\n",
       "  background-color: var(--sklearn-color-background);\n",
       "}\n",
       "\n",
       "#sk-container-id-6 div.sk-container {\n",
       "  /* jupyter's `normalize.less` sets `[hidden] { display: none; }`\n",
       "     but bootstrap.min.css set `[hidden] { display: none !important; }`\n",
       "     so we also need the `!important` here to be able to override the\n",
       "     default hidden behavior on the sphinx rendered scikit-learn.org.\n",
       "     See: https://github.com/scikit-learn/scikit-learn/issues/21755 */\n",
       "  display: inline-block !important;\n",
       "  position: relative;\n",
       "}\n",
       "\n",
       "#sk-container-id-6 div.sk-text-repr-fallback {\n",
       "  display: none;\n",
       "}\n",
       "\n",
       "div.sk-parallel-item,\n",
       "div.sk-serial,\n",
       "div.sk-item {\n",
       "  /* draw centered vertical line to link estimators */\n",
       "  background-image: linear-gradient(var(--sklearn-color-text-on-default-background), var(--sklearn-color-text-on-default-background));\n",
       "  background-size: 2px 100%;\n",
       "  background-repeat: no-repeat;\n",
       "  background-position: center center;\n",
       "}\n",
       "\n",
       "/* Parallel-specific style estimator block */\n",
       "\n",
       "#sk-container-id-6 div.sk-parallel-item::after {\n",
       "  content: \"\";\n",
       "  width: 100%;\n",
       "  border-bottom: 2px solid var(--sklearn-color-text-on-default-background);\n",
       "  flex-grow: 1;\n",
       "}\n",
       "\n",
       "#sk-container-id-6 div.sk-parallel {\n",
       "  display: flex;\n",
       "  align-items: stretch;\n",
       "  justify-content: center;\n",
       "  background-color: var(--sklearn-color-background);\n",
       "  position: relative;\n",
       "}\n",
       "\n",
       "#sk-container-id-6 div.sk-parallel-item {\n",
       "  display: flex;\n",
       "  flex-direction: column;\n",
       "}\n",
       "\n",
       "#sk-container-id-6 div.sk-parallel-item:first-child::after {\n",
       "  align-self: flex-end;\n",
       "  width: 50%;\n",
       "}\n",
       "\n",
       "#sk-container-id-6 div.sk-parallel-item:last-child::after {\n",
       "  align-self: flex-start;\n",
       "  width: 50%;\n",
       "}\n",
       "\n",
       "#sk-container-id-6 div.sk-parallel-item:only-child::after {\n",
       "  width: 0;\n",
       "}\n",
       "\n",
       "/* Serial-specific style estimator block */\n",
       "\n",
       "#sk-container-id-6 div.sk-serial {\n",
       "  display: flex;\n",
       "  flex-direction: column;\n",
       "  align-items: center;\n",
       "  background-color: var(--sklearn-color-background);\n",
       "  padding-right: 1em;\n",
       "  padding-left: 1em;\n",
       "}\n",
       "\n",
       "\n",
       "/* Toggleable style: style used for estimator/Pipeline/ColumnTransformer box that is\n",
       "clickable and can be expanded/collapsed.\n",
       "- Pipeline and ColumnTransformer use this feature and define the default style\n",
       "- Estimators will overwrite some part of the style using the `sk-estimator` class\n",
       "*/\n",
       "\n",
       "/* Pipeline and ColumnTransformer style (default) */\n",
       "\n",
       "#sk-container-id-6 div.sk-toggleable {\n",
       "  /* Default theme specific background. It is overwritten whether we have a\n",
       "  specific estimator or a Pipeline/ColumnTransformer */\n",
       "  background-color: var(--sklearn-color-background);\n",
       "}\n",
       "\n",
       "/* Toggleable label */\n",
       "#sk-container-id-6 label.sk-toggleable__label {\n",
       "  cursor: pointer;\n",
       "  display: block;\n",
       "  width: 100%;\n",
       "  margin-bottom: 0;\n",
       "  padding: 0.5em;\n",
       "  box-sizing: border-box;\n",
       "  text-align: center;\n",
<<<<<<< HEAD
       "  align-items: start;\n",
       "  justify-content: space-between;\n",
       "  gap: 0.5em;\n",
       "}\n",
       "\n",
       "#sk-container-id-6 label.sk-toggleable__label .caption {\n",
       "  font-size: 0.6rem;\n",
       "  font-weight: lighter;\n",
       "  color: var(--sklearn-color-text-muted);\n",
=======
>>>>>>> 289bf6e (regresion)
       "}\n",
       "\n",
       "#sk-container-id-6 label.sk-toggleable__label-arrow:before {\n",
       "  /* Arrow on the left of the label */\n",
       "  content: \"▸\";\n",
       "  float: left;\n",
       "  margin-right: 0.25em;\n",
       "  color: var(--sklearn-color-icon);\n",
       "}\n",
       "\n",
       "#sk-container-id-6 label.sk-toggleable__label-arrow:hover:before {\n",
       "  color: var(--sklearn-color-text);\n",
       "}\n",
       "\n",
       "/* Toggleable content - dropdown */\n",
       "\n",
       "#sk-container-id-6 div.sk-toggleable__content {\n",
       "  max-height: 0;\n",
       "  max-width: 0;\n",
       "  overflow: hidden;\n",
       "  text-align: left;\n",
       "  /* unfitted */\n",
       "  background-color: var(--sklearn-color-unfitted-level-0);\n",
       "}\n",
       "\n",
       "#sk-container-id-6 div.sk-toggleable__content.fitted {\n",
       "  /* fitted */\n",
       "  background-color: var(--sklearn-color-fitted-level-0);\n",
       "}\n",
       "\n",
       "#sk-container-id-6 div.sk-toggleable__content pre {\n",
       "  margin: 0.2em;\n",
       "  border-radius: 0.25em;\n",
       "  color: var(--sklearn-color-text);\n",
       "  /* unfitted */\n",
       "  background-color: var(--sklearn-color-unfitted-level-0);\n",
       "}\n",
       "\n",
       "#sk-container-id-6 div.sk-toggleable__content.fitted pre {\n",
       "  /* unfitted */\n",
       "  background-color: var(--sklearn-color-fitted-level-0);\n",
       "}\n",
       "\n",
       "#sk-container-id-6 input.sk-toggleable__control:checked~div.sk-toggleable__content {\n",
       "  /* Expand drop-down */\n",
       "  max-height: 200px;\n",
       "  max-width: 100%;\n",
       "  overflow: auto;\n",
       "}\n",
       "\n",
       "#sk-container-id-6 input.sk-toggleable__control:checked~label.sk-toggleable__label-arrow:before {\n",
       "  content: \"▾\";\n",
       "}\n",
       "\n",
       "/* Pipeline/ColumnTransformer-specific style */\n",
       "\n",
       "#sk-container-id-6 div.sk-label input.sk-toggleable__control:checked~label.sk-toggleable__label {\n",
       "  color: var(--sklearn-color-text);\n",
       "  background-color: var(--sklearn-color-unfitted-level-2);\n",
       "}\n",
       "\n",
       "#sk-container-id-6 div.sk-label.fitted input.sk-toggleable__control:checked~label.sk-toggleable__label {\n",
       "  background-color: var(--sklearn-color-fitted-level-2);\n",
       "}\n",
       "\n",
       "/* Estimator-specific style */\n",
       "\n",
       "/* Colorize estimator box */\n",
       "#sk-container-id-6 div.sk-estimator input.sk-toggleable__control:checked~label.sk-toggleable__label {\n",
       "  /* unfitted */\n",
       "  background-color: var(--sklearn-color-unfitted-level-2);\n",
       "}\n",
       "\n",
       "#sk-container-id-6 div.sk-estimator.fitted input.sk-toggleable__control:checked~label.sk-toggleable__label {\n",
       "  /* fitted */\n",
       "  background-color: var(--sklearn-color-fitted-level-2);\n",
       "}\n",
       "\n",
       "#sk-container-id-6 div.sk-label label.sk-toggleable__label,\n",
       "#sk-container-id-6 div.sk-label label {\n",
       "  /* The background is the default theme color */\n",
       "  color: var(--sklearn-color-text-on-default-background);\n",
       "}\n",
       "\n",
       "/* On hover, darken the color of the background */\n",
       "#sk-container-id-6 div.sk-label:hover label.sk-toggleable__label {\n",
       "  color: var(--sklearn-color-text);\n",
       "  background-color: var(--sklearn-color-unfitted-level-2);\n",
       "}\n",
       "\n",
       "/* Label box, darken color on hover, fitted */\n",
       "#sk-container-id-6 div.sk-label.fitted:hover label.sk-toggleable__label.fitted {\n",
       "  color: var(--sklearn-color-text);\n",
       "  background-color: var(--sklearn-color-fitted-level-2);\n",
       "}\n",
       "\n",
       "/* Estimator label */\n",
       "\n",
       "#sk-container-id-6 div.sk-label label {\n",
       "  font-family: monospace;\n",
       "  font-weight: bold;\n",
       "  display: inline-block;\n",
       "  line-height: 1.2em;\n",
       "}\n",
       "\n",
       "#sk-container-id-6 div.sk-label-container {\n",
       "  text-align: center;\n",
       "}\n",
       "\n",
       "/* Estimator-specific */\n",
       "#sk-container-id-6 div.sk-estimator {\n",
       "  font-family: monospace;\n",
       "  border: 1px dotted var(--sklearn-color-border-box);\n",
       "  border-radius: 0.25em;\n",
       "  box-sizing: border-box;\n",
       "  margin-bottom: 0.5em;\n",
       "  /* unfitted */\n",
       "  background-color: var(--sklearn-color-unfitted-level-0);\n",
       "}\n",
       "\n",
       "#sk-container-id-6 div.sk-estimator.fitted {\n",
       "  /* fitted */\n",
       "  background-color: var(--sklearn-color-fitted-level-0);\n",
       "}\n",
       "\n",
       "/* on hover */\n",
       "#sk-container-id-6 div.sk-estimator:hover {\n",
       "  /* unfitted */\n",
       "  background-color: var(--sklearn-color-unfitted-level-2);\n",
       "}\n",
       "\n",
       "#sk-container-id-6 div.sk-estimator.fitted:hover {\n",
       "  /* fitted */\n",
       "  background-color: var(--sklearn-color-fitted-level-2);\n",
       "}\n",
       "\n",
       "/* Specification for estimator info (e.g. \"i\" and \"?\") */\n",
       "\n",
       "/* Common style for \"i\" and \"?\" */\n",
       "\n",
       ".sk-estimator-doc-link,\n",
       "a:link.sk-estimator-doc-link,\n",
       "a:visited.sk-estimator-doc-link {\n",
       "  float: right;\n",
       "  font-size: smaller;\n",
       "  line-height: 1em;\n",
       "  font-family: monospace;\n",
       "  background-color: var(--sklearn-color-background);\n",
       "  border-radius: 1em;\n",
       "  height: 1em;\n",
       "  width: 1em;\n",
       "  text-decoration: none !important;\n",
       "  margin-left: 1ex;\n",
       "  /* unfitted */\n",
       "  border: var(--sklearn-color-unfitted-level-1) 1pt solid;\n",
       "  color: var(--sklearn-color-unfitted-level-1);\n",
       "}\n",
       "\n",
       ".sk-estimator-doc-link.fitted,\n",
       "a:link.sk-estimator-doc-link.fitted,\n",
       "a:visited.sk-estimator-doc-link.fitted {\n",
       "  /* fitted */\n",
       "  border: var(--sklearn-color-fitted-level-1) 1pt solid;\n",
       "  color: var(--sklearn-color-fitted-level-1);\n",
       "}\n",
       "\n",
       "/* On hover */\n",
       "div.sk-estimator:hover .sk-estimator-doc-link:hover,\n",
       ".sk-estimator-doc-link:hover,\n",
       "div.sk-label-container:hover .sk-estimator-doc-link:hover,\n",
       ".sk-estimator-doc-link:hover {\n",
       "  /* unfitted */\n",
       "  background-color: var(--sklearn-color-unfitted-level-3);\n",
       "  color: var(--sklearn-color-background);\n",
       "  text-decoration: none;\n",
       "}\n",
       "\n",
       "div.sk-estimator.fitted:hover .sk-estimator-doc-link.fitted:hover,\n",
       ".sk-estimator-doc-link.fitted:hover,\n",
       "div.sk-label-container:hover .sk-estimator-doc-link.fitted:hover,\n",
       ".sk-estimator-doc-link.fitted:hover {\n",
       "  /* fitted */\n",
       "  background-color: var(--sklearn-color-fitted-level-3);\n",
       "  color: var(--sklearn-color-background);\n",
       "  text-decoration: none;\n",
       "}\n",
       "\n",
       "/* Span, style for the box shown on hovering the info icon */\n",
       ".sk-estimator-doc-link span {\n",
       "  display: none;\n",
       "  z-index: 9999;\n",
       "  position: relative;\n",
       "  font-weight: normal;\n",
       "  right: .2ex;\n",
       "  padding: .5ex;\n",
       "  margin: .5ex;\n",
       "  width: min-content;\n",
       "  min-width: 20ex;\n",
       "  max-width: 50ex;\n",
       "  color: var(--sklearn-color-text);\n",
       "  box-shadow: 2pt 2pt 4pt #999;\n",
       "  /* unfitted */\n",
       "  background: var(--sklearn-color-unfitted-level-0);\n",
       "  border: .5pt solid var(--sklearn-color-unfitted-level-3);\n",
       "}\n",
       "\n",
       ".sk-estimator-doc-link.fitted span {\n",
       "  /* fitted */\n",
       "  background: var(--sklearn-color-fitted-level-0);\n",
       "  border: var(--sklearn-color-fitted-level-3);\n",
       "}\n",
       "\n",
       ".sk-estimator-doc-link:hover span {\n",
       "  display: block;\n",
       "}\n",
       "\n",
       "/* \"?\"-specific style due to the `<a>` HTML tag */\n",
       "\n",
       "#sk-container-id-6 a.estimator_doc_link {\n",
       "  float: right;\n",
       "  font-size: 1rem;\n",
       "  line-height: 1em;\n",
       "  font-family: monospace;\n",
       "  background-color: var(--sklearn-color-background);\n",
       "  border-radius: 1rem;\n",
       "  height: 1rem;\n",
       "  width: 1rem;\n",
       "  text-decoration: none;\n",
       "  /* unfitted */\n",
       "  color: var(--sklearn-color-unfitted-level-1);\n",
       "  border: var(--sklearn-color-unfitted-level-1) 1pt solid;\n",
       "}\n",
       "\n",
       "#sk-container-id-6 a.estimator_doc_link.fitted {\n",
       "  /* fitted */\n",
       "  border: var(--sklearn-color-fitted-level-1) 1pt solid;\n",
       "  color: var(--sklearn-color-fitted-level-1);\n",
       "}\n",
       "\n",
       "/* On hover */\n",
       "#sk-container-id-6 a.estimator_doc_link:hover {\n",
       "  /* unfitted */\n",
       "  background-color: var(--sklearn-color-unfitted-level-3);\n",
       "  color: var(--sklearn-color-background);\n",
       "  text-decoration: none;\n",
       "}\n",
       "\n",
       "#sk-container-id-6 a.estimator_doc_link.fitted:hover {\n",
       "  /* fitted */\n",
       "  background-color: var(--sklearn-color-fitted-level-3);\n",
       "}\n",
<<<<<<< HEAD
       "</style><div id=\"sk-container-id-6\" class=\"sk-top-container\"><div class=\"sk-text-repr-fallback\"><pre>GridSearchCV(cv=KFold(n_splits=10, random_state=0, shuffle=True),\n",
       "             estimator=DecisionTreeClassifier(random_state=0),\n",
       "             param_grid={&#x27;criterion&#x27;: [&#x27;gini&#x27;, &#x27;entropy&#x27;],\n",
       "                         &#x27;max_depth&#x27;: [4, 6, 8, 10, 20]})</pre><b>In a Jupyter environment, please rerun this cell to show the HTML representation or trust the notebook. <br />On GitHub, the HTML representation is unable to render, please try loading this page with nbviewer.org.</b></div><div class=\"sk-container\" hidden><div class=\"sk-item sk-dashed-wrapped\"><div class=\"sk-label-container\"><div class=\"sk-label fitted sk-toggleable\"><input class=\"sk-toggleable__control sk-hidden--visually\" id=\"sk-estimator-id-8\" type=\"checkbox\" ><label for=\"sk-estimator-id-8\" class=\"sk-toggleable__label fitted sk-toggleable__label-arrow\"><div><div>GridSearchCV</div></div><div><a class=\"sk-estimator-doc-link fitted\" rel=\"noreferrer\" target=\"_blank\" href=\"https://scikit-learn.org/1.6/modules/generated/sklearn.model_selection.GridSearchCV.html\">?<span>Documentation for GridSearchCV</span></a><span class=\"sk-estimator-doc-link fitted\">i<span>Fitted</span></span></div></label><div class=\"sk-toggleable__content fitted\"><pre>GridSearchCV(cv=KFold(n_splits=10, random_state=0, shuffle=True),\n",
       "             estimator=DecisionTreeClassifier(random_state=0),\n",
       "             param_grid={&#x27;criterion&#x27;: [&#x27;gini&#x27;, &#x27;entropy&#x27;],\n",
       "                         &#x27;max_depth&#x27;: [4, 6, 8, 10, 20]})</pre></div> </div></div><div class=\"sk-parallel\"><div class=\"sk-parallel-item\"><div class=\"sk-item\"><div class=\"sk-label-container\"><div class=\"sk-label fitted sk-toggleable\"><input class=\"sk-toggleable__control sk-hidden--visually\" id=\"sk-estimator-id-9\" type=\"checkbox\" ><label for=\"sk-estimator-id-9\" class=\"sk-toggleable__label fitted sk-toggleable__label-arrow\"><div><div>best_estimator_: DecisionTreeClassifier</div></div></label><div class=\"sk-toggleable__content fitted\"><pre>DecisionTreeClassifier(max_depth=20, random_state=0)</pre></div> </div></div><div class=\"sk-serial\"><div class=\"sk-item\"><div class=\"sk-estimator fitted sk-toggleable\"><input class=\"sk-toggleable__control sk-hidden--visually\" id=\"sk-estimator-id-10\" type=\"checkbox\" ><label for=\"sk-estimator-id-10\" class=\"sk-toggleable__label fitted sk-toggleable__label-arrow\"><div><div>DecisionTreeClassifier</div></div><div><a class=\"sk-estimator-doc-link fitted\" rel=\"noreferrer\" target=\"_blank\" href=\"https://scikit-learn.org/1.6/modules/generated/sklearn.tree.DecisionTreeClassifier.html\">?<span>Documentation for DecisionTreeClassifier</span></a></div></label><div class=\"sk-toggleable__content fitted\"><pre>DecisionTreeClassifier(max_depth=20, random_state=0)</pre></div> </div></div></div></div></div></div></div></div></div>"
=======
       "</style><div id=\"sk-container-id-3\" class=\"sk-top-container\"><div class=\"sk-text-repr-fallback\"><pre>CountVectorizer(stop_words=[&#x27;de&#x27;, &#x27;la&#x27;, &#x27;que&#x27;, &#x27;el&#x27;, &#x27;en&#x27;, &#x27;y&#x27;, &#x27;a&#x27;, &#x27;los&#x27;,\n",
       "                            &#x27;del&#x27;, &#x27;se&#x27;, &#x27;las&#x27;, &#x27;por&#x27;, &#x27;un&#x27;, &#x27;para&#x27;, &#x27;con&#x27;,\n",
       "                            &#x27;no&#x27;, &#x27;una&#x27;, &#x27;su&#x27;, &#x27;al&#x27;, &#x27;lo&#x27;, &#x27;como&#x27;, &#x27;más&#x27;,\n",
       "                            &#x27;pero&#x27;, &#x27;sus&#x27;, &#x27;le&#x27;, &#x27;ya&#x27;, &#x27;o&#x27;, &#x27;este&#x27;, &#x27;sí&#x27;,\n",
       "                            &#x27;porque&#x27;, ...],\n",
       "                token_pattern=None,\n",
       "                tokenizer=&lt;function word_tokenize at 0x16876fc40&gt;)</pre><b>In a Jupyter environment, please rerun this cell to show the HTML representation or trust the notebook. <br />On GitHub, the HTML representation is unable to render, please try loading this page with nbviewer.org.</b></div><div class=\"sk-container\" hidden><div class=\"sk-item\"><div class=\"sk-estimator  sk-toggleable\"><input class=\"sk-toggleable__control sk-hidden--visually\" id=\"sk-estimator-id-3\" type=\"checkbox\" checked><label for=\"sk-estimator-id-3\" class=\"sk-toggleable__label  sk-toggleable__label-arrow \">&nbsp;&nbsp;CountVectorizer<a class=\"sk-estimator-doc-link \" rel=\"noreferrer\" target=\"_blank\" href=\"https://scikit-learn.org/1.5/modules/generated/sklearn.feature_extraction.text.CountVectorizer.html\">?<span>Documentation for CountVectorizer</span></a><span class=\"sk-estimator-doc-link \">i<span>Not fitted</span></span></label><div class=\"sk-toggleable__content \"><pre>CountVectorizer(stop_words=[&#x27;de&#x27;, &#x27;la&#x27;, &#x27;que&#x27;, &#x27;el&#x27;, &#x27;en&#x27;, &#x27;y&#x27;, &#x27;a&#x27;, &#x27;los&#x27;,\n",
       "                            &#x27;del&#x27;, &#x27;se&#x27;, &#x27;las&#x27;, &#x27;por&#x27;, &#x27;un&#x27;, &#x27;para&#x27;, &#x27;con&#x27;,\n",
       "                            &#x27;no&#x27;, &#x27;una&#x27;, &#x27;su&#x27;, &#x27;al&#x27;, &#x27;lo&#x27;, &#x27;como&#x27;, &#x27;más&#x27;,\n",
       "                            &#x27;pero&#x27;, &#x27;sus&#x27;, &#x27;le&#x27;, &#x27;ya&#x27;, &#x27;o&#x27;, &#x27;este&#x27;, &#x27;sí&#x27;,\n",
       "                            &#x27;porque&#x27;, ...],\n",
       "                token_pattern=None,\n",
       "                tokenizer=&lt;function word_tokenize at 0x16876fc40&gt;)</pre></div> </div></div></div></div>"
>>>>>>> 289bf6e (regresion)
      ],
      "text/plain": [
       "CountVectorizer(stop_words=['de', 'la', 'que', 'el', 'en', 'y', 'a', 'los',\n",
       "                            'del', 'se', 'las', 'por', 'un', 'para', 'con',\n",
       "                            'no', 'una', 'su', 'al', 'lo', 'como', 'más',\n",
       "                            'pero', 'sus', 'le', 'ya', 'o', 'este', 'sí',\n",
       "                            'porque', ...],\n",
       "                token_pattern=None,\n",
       "                tokenizer=<function word_tokenize at 0x16876fc40>)"
      ]
     },
<<<<<<< HEAD
     "execution_count": 136,
=======
     "execution_count": 43,
>>>>>>> 289bf6e (regresion)
     "metadata": {},
     "output_type": "execute_result"
    }
   ],
   "source": [
    "bow"
   ]
  },
  {
   "cell_type": "code",
   "execution_count": 44,
   "metadata": {},
   "outputs": [],
   "source": [
    "X_bow_train = bow.fit_transform(X_train)"
   ]
  },
  {
   "cell_type": "code",
   "execution_count": 45,
   "metadata": {},
   "outputs": [
    {
     "data": {
      "text/plain": [
       "23468"
      ]
     },
     "execution_count": 45,
     "metadata": {},
     "output_type": "execute_result"
    }
   ],
   "source": [
    "len(bow.vocabulary_)"
   ]
  },
  {
   "cell_type": "code",
   "execution_count": 46,
   "metadata": {},
   "outputs": [],
   "source": [
    "tfidf = TfidfVectorizer(tokenizer=word_tokenize, stop_words=stopwords_spanish, lowercase=True)"
   ]
  },
  {
   "cell_type": "code",
   "execution_count": 47,
   "metadata": {},
   "outputs": [
    {
     "name": "stderr",
     "output_type": "stream",
     "text": [
      "/opt/anaconda3/lib/python3.12/site-packages/sklearn/feature_extraction/text.py:521: UserWarning: The parameter 'token_pattern' will not be used since 'tokenizer' is not None'\n",
      "  warnings.warn(\n"
     ]
    }
   ],
   "source": [
    "X_tfidf = tfidf.fit_transform(X_train)"
   ]
  },
  {
   "cell_type": "code",
   "execution_count": 48,
   "metadata": {},
   "outputs": [
    {
     "data": {
      "text/plain": [
       "23468"
      ]
     },
     "execution_count": 48,
     "metadata": {},
     "output_type": "execute_result"
    }
   ],
   "source": [
    "len(tfidf.vocabulary_)"
   ]
  },
  {
   "cell_type": "code",
   "execution_count": 49,
   "metadata": {},
   "outputs": [
    {
     "data": {
      "text/plain": [
       "(39632, 23468)"
      ]
     },
     "execution_count": 49,
     "metadata": {},
     "output_type": "execute_result"
    }
   ],
   "source": [
    "X_tfidf.shape"
   ]
  },
  {
   "cell_type": "markdown",
   "metadata": {},
   "source": [
    "# Algoritmos de clasificación"
   ]
  },
  {
   "cell_type": "markdown",
   "metadata": {},
   "source": [
    "### Support Vector Machines"
   ]
  },
  {
   "cell_type": "code",
   "execution_count": 35,
   "metadata": {},
   "outputs": [
    {
     "name": "stdout",
     "output_type": "stream",
     "text": [
      "              precision    recall  f1-score   support\n",
      "\n",
      "           0       0.92      0.68      0.78      7164\n",
      "           1       0.80      0.96      0.87      9822\n",
      "\n",
      "    accuracy                           0.84     16986\n",
      "   macro avg       0.86      0.82      0.83     16986\n",
      "weighted avg       0.85      0.84      0.83     16986\n",
      "\n"
     ]
    },
    {
     "data": {
      "image/png": "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",
      "text/plain": [
       "<Figure size 640x480 with 2 Axes>"
      ]
     },
     "metadata": {},
     "output_type": "display_data"
    }
   ],
   "source": [
    "# crean un modelo de SVM para clasificar las noticias\n",
    "from sklearn.svm import SVC\n",
    "from sklearn.metrics import accuracy_score\n",
    "\n",
    "svm = SVC(kernel='linear', C=1.0, random_state=1)\n",
    "svm.fit(X_tfidf, Y_train)\n",
    "\n",
    "X_tfidf_test = tfidf.transform(X_test)\n",
    "Y_pred = svm.predict(X_tfidf_test)\n",
    "accuracy_score(Y_test, Y_pred)\n",
    "\n",
    "from sklearn.metrics import confusion_matrix\n",
    "import seaborn as sns\n",
    "\n",
    "cm = confusion_matrix(Y_test, Y_pred)\n",
    "sns.heatmap(cm, annot=True, fmt='d')\n",
    "\n",
    "from sklearn.metrics import classification_report\n",
    "\n",
    "print(classification_report(Y_test, Y_pred))\n",
    "\n",
    "#from sklearn.model_selection import GridSearchCV\n",
    "\n",
    "#param_grid = {'C': [0.1, 1, 10, 100, 1000], 'gamma': [1, 0.1, 0.01, 0.001, 0.0001], 'kernel': ['rbf']}\n",
    "#grid = GridSearchCV(SVC(), param_grid, refit=True, verbose=3)\n",
    "#grid.fit(X_tfidf, Y_train)\n",
    "\n",
    "#grid.best_params_\n",
    "\n",
    "#grid.best_estimator_\n",
    "\n",
    "#grid_predictions = grid.predict(X_tfidf_test)\n",
    "#accuracy_score(Y_test, grid_predictions)\n"
   ]
  },
  {
   "cell_type": "code",
   "execution_count": 36,
   "metadata": {},
   "outputs": [],
   "source": [
    "from sklearn import svm\n",
    "\n",
    "bow_clf = svm.SVC(kernel='linear')\n",
    "bow_clf.fit(X_bow_train, Y_train)\n",
    "\n",
    "y_train_bow_pred = bow_clf.predict(X_bow_train)\n",
    "y_test_bow_pred = bow_clf.predict(bow.transform(X_test))"
   ]
  },
  {
   "cell_type": "code",
   "execution_count": 37,
   "metadata": {},
   "outputs": [
    {
     "data": {
      "text/plain": [
       "<sklearn.metrics._plot.confusion_matrix.ConfusionMatrixDisplay at 0x3019fa2a0>"
      ]
     },
     "execution_count": 37,
     "metadata": {},
     "output_type": "execute_result"
    },
    {
     "data": {
      "image/png": "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",
      "text/plain": [
       "<Figure size 640x480 with 2 Axes>"
      ]
     },
     "metadata": {},
     "output_type": "display_data"
    }
   ],
   "source": [
    "metrics.ConfusionMatrixDisplay.from_predictions(Y_train, y_train_bow_pred)"
   ]
  },
  {
   "cell_type": "code",
   "execution_count": 38,
   "metadata": {},
   "outputs": [
    {
     "data": {
      "text/plain": [
       "<sklearn.metrics._plot.confusion_matrix.ConfusionMatrixDisplay at 0x301140050>"
      ]
     },
     "execution_count": 38,
     "metadata": {},
     "output_type": "execute_result"
    },
    {
     "data": {
      "image/png": "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",
      "text/plain": [
       "<Figure size 640x480 with 2 Axes>"
      ]
     },
     "metadata": {},
     "output_type": "display_data"
    }
   ],
   "source": [
    "metrics.ConfusionMatrixDisplay.from_predictions(Y_test, y_test_bow_pred)"
   ]
  },
  {
   "cell_type": "code",
   "execution_count": 39,
   "metadata": {},
   "outputs": [
    {
     "name": "stdout",
     "output_type": "stream",
     "text": [
      "Precision:  0.8801729952783399\n",
      "Recall:  0.9680136149415256\n",
      "F1:  0.9220058604709158\n"
     ]
    }
   ],
   "source": [
    "if len(bow_clf.classes_) == 2:\n",
    "    print('Precision: ', metrics.precision_score(Y_train, y_train_bow_pred, pos_label=1))\n",
    "    print('Recall: ', metrics.recall_score(Y_train, y_train_bow_pred, pos_label=1))\n",
    "    print('F1: ', metrics.f1_score(Y_train, y_train_bow_pred, pos_label=1))\n",
    "else:\n",
    "    print('Precision: ', metrics.precision_score(Y_train, y_train_bow_pred, average=None))\n",
    "    print('Recall: ', metrics.recall_score(Y_train, y_train_bow_pred, average=None))\n",
    "    print('F1: ', metrics.f1_score(Y_train, y_train_bow_pred, average=None))"
   ]
  },
  {
   "cell_type": "code",
   "execution_count": 40,
   "metadata": {},
   "outputs": [
    {
     "name": "stdout",
     "output_type": "stream",
     "text": [
      "Precision:  0.7955241009946442\n",
      "Recall:  0.8468743636733863\n",
      "F1:  0.8203964888056021\n"
     ]
    }
   ],
   "source": [
    "if len(bow_clf.classes_) == 2:\n",
    "    print('Precision: ', metrics.precision_score(Y_test, y_test_bow_pred, pos_label=1))\n",
    "    print('Recall: ', metrics.recall_score(Y_test, y_test_bow_pred, pos_label=1))\n",
    "    print('F1: ', metrics.f1_score(Y_test, y_test_bow_pred, pos_label=1))\n",
    "else:\n",
    "    print('Precision: ', metrics.precision_score(Y_test, y_test_bow_pred, average=None))\n",
    "    print('Recall: ', metrics.recall_score(Y_test, y_test_bow_pred, pos_label=1))\n",
    "    print('F1: ', metrics.f1_score(Y_test, y_test_bow_pred, pos_label=1))"
   ]
  },
  {
   "cell_type": "markdown",
   "metadata": {},
   "source": [
    "### TD-IDF"
   ]
  },
  {
   "cell_type": "code",
   "execution_count": 41,
   "metadata": {},
   "outputs": [
    {
     "data": {
      "text/html": [
       "<style>#sk-container-id-2 {\n",
       "  /* Definition of color scheme common for light and dark mode */\n",
       "  --sklearn-color-text: black;\n",
       "  --sklearn-color-line: gray;\n",
       "  /* Definition of color scheme for unfitted estimators */\n",
       "  --sklearn-color-unfitted-level-0: #fff5e6;\n",
       "  --sklearn-color-unfitted-level-1: #f6e4d2;\n",
       "  --sklearn-color-unfitted-level-2: #ffe0b3;\n",
       "  --sklearn-color-unfitted-level-3: chocolate;\n",
       "  /* Definition of color scheme for fitted estimators */\n",
       "  --sklearn-color-fitted-level-0: #f0f8ff;\n",
       "  --sklearn-color-fitted-level-1: #d4ebff;\n",
       "  --sklearn-color-fitted-level-2: #b3dbfd;\n",
       "  --sklearn-color-fitted-level-3: cornflowerblue;\n",
       "\n",
       "  /* Specific color for light theme */\n",
       "  --sklearn-color-text-on-default-background: var(--sg-text-color, var(--theme-code-foreground, var(--jp-content-font-color1, black)));\n",
       "  --sklearn-color-background: var(--sg-background-color, var(--theme-background, var(--jp-layout-color0, white)));\n",
       "  --sklearn-color-border-box: var(--sg-text-color, var(--theme-code-foreground, var(--jp-content-font-color1, black)));\n",
       "  --sklearn-color-icon: #696969;\n",
       "\n",
       "  @media (prefers-color-scheme: dark) {\n",
       "    /* Redefinition of color scheme for dark theme */\n",
       "    --sklearn-color-text-on-default-background: var(--sg-text-color, var(--theme-code-foreground, var(--jp-content-font-color1, white)));\n",
       "    --sklearn-color-background: var(--sg-background-color, var(--theme-background, var(--jp-layout-color0, #111)));\n",
       "    --sklearn-color-border-box: var(--sg-text-color, var(--theme-code-foreground, var(--jp-content-font-color1, white)));\n",
       "    --sklearn-color-icon: #878787;\n",
       "  }\n",
       "}\n",
       "\n",
       "#sk-container-id-2 {\n",
       "  color: var(--sklearn-color-text);\n",
       "}\n",
       "\n",
       "#sk-container-id-2 pre {\n",
       "  padding: 0;\n",
       "}\n",
       "\n",
       "#sk-container-id-2 input.sk-hidden--visually {\n",
       "  border: 0;\n",
       "  clip: rect(1px 1px 1px 1px);\n",
       "  clip: rect(1px, 1px, 1px, 1px);\n",
       "  height: 1px;\n",
       "  margin: -1px;\n",
       "  overflow: hidden;\n",
       "  padding: 0;\n",
       "  position: absolute;\n",
       "  width: 1px;\n",
       "}\n",
       "\n",
       "#sk-container-id-2 div.sk-dashed-wrapped {\n",
       "  border: 1px dashed var(--sklearn-color-line);\n",
       "  margin: 0 0.4em 0.5em 0.4em;\n",
       "  box-sizing: border-box;\n",
       "  padding-bottom: 0.4em;\n",
       "  background-color: var(--sklearn-color-background);\n",
       "}\n",
       "\n",
       "#sk-container-id-2 div.sk-container {\n",
       "  /* jupyter's `normalize.less` sets `[hidden] { display: none; }`\n",
       "     but bootstrap.min.css set `[hidden] { display: none !important; }`\n",
       "     so we also need the `!important` here to be able to override the\n",
       "     default hidden behavior on the sphinx rendered scikit-learn.org.\n",
       "     See: https://github.com/scikit-learn/scikit-learn/issues/21755 */\n",
       "  display: inline-block !important;\n",
       "  position: relative;\n",
       "}\n",
       "\n",
       "#sk-container-id-2 div.sk-text-repr-fallback {\n",
       "  display: none;\n",
       "}\n",
       "\n",
       "div.sk-parallel-item,\n",
       "div.sk-serial,\n",
       "div.sk-item {\n",
       "  /* draw centered vertical line to link estimators */\n",
       "  background-image: linear-gradient(var(--sklearn-color-text-on-default-background), var(--sklearn-color-text-on-default-background));\n",
       "  background-size: 2px 100%;\n",
       "  background-repeat: no-repeat;\n",
       "  background-position: center center;\n",
       "}\n",
       "\n",
       "/* Parallel-specific style estimator block */\n",
       "\n",
       "#sk-container-id-2 div.sk-parallel-item::after {\n",
       "  content: \"\";\n",
       "  width: 100%;\n",
       "  border-bottom: 2px solid var(--sklearn-color-text-on-default-background);\n",
       "  flex-grow: 1;\n",
       "}\n",
       "\n",
       "#sk-container-id-2 div.sk-parallel {\n",
       "  display: flex;\n",
       "  align-items: stretch;\n",
       "  justify-content: center;\n",
       "  background-color: var(--sklearn-color-background);\n",
       "  position: relative;\n",
       "}\n",
       "\n",
       "#sk-container-id-2 div.sk-parallel-item {\n",
       "  display: flex;\n",
       "  flex-direction: column;\n",
       "}\n",
       "\n",
       "#sk-container-id-2 div.sk-parallel-item:first-child::after {\n",
       "  align-self: flex-end;\n",
       "  width: 50%;\n",
       "}\n",
       "\n",
       "#sk-container-id-2 div.sk-parallel-item:last-child::after {\n",
       "  align-self: flex-start;\n",
       "  width: 50%;\n",
       "}\n",
       "\n",
       "#sk-container-id-2 div.sk-parallel-item:only-child::after {\n",
       "  width: 0;\n",
       "}\n",
       "\n",
       "/* Serial-specific style estimator block */\n",
       "\n",
       "#sk-container-id-2 div.sk-serial {\n",
       "  display: flex;\n",
       "  flex-direction: column;\n",
       "  align-items: center;\n",
       "  background-color: var(--sklearn-color-background);\n",
       "  padding-right: 1em;\n",
       "  padding-left: 1em;\n",
       "}\n",
       "\n",
       "\n",
       "/* Toggleable style: style used for estimator/Pipeline/ColumnTransformer box that is\n",
       "clickable and can be expanded/collapsed.\n",
       "- Pipeline and ColumnTransformer use this feature and define the default style\n",
       "- Estimators will overwrite some part of the style using the `sk-estimator` class\n",
       "*/\n",
       "\n",
       "/* Pipeline and ColumnTransformer style (default) */\n",
       "\n",
       "#sk-container-id-2 div.sk-toggleable {\n",
       "  /* Default theme specific background. It is overwritten whether we have a\n",
       "  specific estimator or a Pipeline/ColumnTransformer */\n",
       "  background-color: var(--sklearn-color-background);\n",
       "}\n",
       "\n",
       "/* Toggleable label */\n",
       "#sk-container-id-2 label.sk-toggleable__label {\n",
       "  cursor: pointer;\n",
       "  display: block;\n",
       "  width: 100%;\n",
       "  margin-bottom: 0;\n",
       "  padding: 0.5em;\n",
       "  box-sizing: border-box;\n",
       "  text-align: center;\n",
       "}\n",
       "\n",
       "#sk-container-id-2 label.sk-toggleable__label-arrow:before {\n",
       "  /* Arrow on the left of the label */\n",
       "  content: \"▸\";\n",
       "  float: left;\n",
       "  margin-right: 0.25em;\n",
       "  color: var(--sklearn-color-icon);\n",
       "}\n",
       "\n",
       "#sk-container-id-2 label.sk-toggleable__label-arrow:hover:before {\n",
       "  color: var(--sklearn-color-text);\n",
       "}\n",
       "\n",
       "/* Toggleable content - dropdown */\n",
       "\n",
       "#sk-container-id-2 div.sk-toggleable__content {\n",
       "  max-height: 0;\n",
       "  max-width: 0;\n",
       "  overflow: hidden;\n",
       "  text-align: left;\n",
       "  /* unfitted */\n",
       "  background-color: var(--sklearn-color-unfitted-level-0);\n",
       "}\n",
       "\n",
       "#sk-container-id-2 div.sk-toggleable__content.fitted {\n",
       "  /* fitted */\n",
       "  background-color: var(--sklearn-color-fitted-level-0);\n",
       "}\n",
       "\n",
       "#sk-container-id-2 div.sk-toggleable__content pre {\n",
       "  margin: 0.2em;\n",
       "  border-radius: 0.25em;\n",
       "  color: var(--sklearn-color-text);\n",
       "  /* unfitted */\n",
       "  background-color: var(--sklearn-color-unfitted-level-0);\n",
       "}\n",
       "\n",
       "#sk-container-id-2 div.sk-toggleable__content.fitted pre {\n",
       "  /* unfitted */\n",
       "  background-color: var(--sklearn-color-fitted-level-0);\n",
       "}\n",
       "\n",
       "#sk-container-id-2 input.sk-toggleable__control:checked~div.sk-toggleable__content {\n",
       "  /* Expand drop-down */\n",
       "  max-height: 200px;\n",
       "  max-width: 100%;\n",
       "  overflow: auto;\n",
       "}\n",
       "\n",
       "#sk-container-id-2 input.sk-toggleable__control:checked~label.sk-toggleable__label-arrow:before {\n",
       "  content: \"▾\";\n",
       "}\n",
       "\n",
       "/* Pipeline/ColumnTransformer-specific style */\n",
       "\n",
       "#sk-container-id-2 div.sk-label input.sk-toggleable__control:checked~label.sk-toggleable__label {\n",
       "  color: var(--sklearn-color-text);\n",
       "  background-color: var(--sklearn-color-unfitted-level-2);\n",
       "}\n",
       "\n",
       "#sk-container-id-2 div.sk-label.fitted input.sk-toggleable__control:checked~label.sk-toggleable__label {\n",
       "  background-color: var(--sklearn-color-fitted-level-2);\n",
       "}\n",
       "\n",
       "/* Estimator-specific style */\n",
       "\n",
       "/* Colorize estimator box */\n",
       "#sk-container-id-2 div.sk-estimator input.sk-toggleable__control:checked~label.sk-toggleable__label {\n",
       "  /* unfitted */\n",
       "  background-color: var(--sklearn-color-unfitted-level-2);\n",
       "}\n",
       "\n",
       "#sk-container-id-2 div.sk-estimator.fitted input.sk-toggleable__control:checked~label.sk-toggleable__label {\n",
       "  /* fitted */\n",
       "  background-color: var(--sklearn-color-fitted-level-2);\n",
       "}\n",
       "\n",
       "#sk-container-id-2 div.sk-label label.sk-toggleable__label,\n",
       "#sk-container-id-2 div.sk-label label {\n",
       "  /* The background is the default theme color */\n",
       "  color: var(--sklearn-color-text-on-default-background);\n",
       "}\n",
       "\n",
       "/* On hover, darken the color of the background */\n",
       "#sk-container-id-2 div.sk-label:hover label.sk-toggleable__label {\n",
       "  color: var(--sklearn-color-text);\n",
       "  background-color: var(--sklearn-color-unfitted-level-2);\n",
       "}\n",
       "\n",
       "/* Label box, darken color on hover, fitted */\n",
       "#sk-container-id-2 div.sk-label.fitted:hover label.sk-toggleable__label.fitted {\n",
       "  color: var(--sklearn-color-text);\n",
       "  background-color: var(--sklearn-color-fitted-level-2);\n",
       "}\n",
       "\n",
       "/* Estimator label */\n",
       "\n",
       "#sk-container-id-2 div.sk-label label {\n",
       "  font-family: monospace;\n",
       "  font-weight: bold;\n",
       "  display: inline-block;\n",
       "  line-height: 1.2em;\n",
       "}\n",
       "\n",
       "#sk-container-id-2 div.sk-label-container {\n",
       "  text-align: center;\n",
       "}\n",
       "\n",
       "/* Estimator-specific */\n",
       "#sk-container-id-2 div.sk-estimator {\n",
       "  font-family: monospace;\n",
       "  border: 1px dotted var(--sklearn-color-border-box);\n",
       "  border-radius: 0.25em;\n",
       "  box-sizing: border-box;\n",
       "  margin-bottom: 0.5em;\n",
       "  /* unfitted */\n",
       "  background-color: var(--sklearn-color-unfitted-level-0);\n",
       "}\n",
       "\n",
       "#sk-container-id-2 div.sk-estimator.fitted {\n",
       "  /* fitted */\n",
       "  background-color: var(--sklearn-color-fitted-level-0);\n",
       "}\n",
       "\n",
       "/* on hover */\n",
       "#sk-container-id-2 div.sk-estimator:hover {\n",
       "  /* unfitted */\n",
       "  background-color: var(--sklearn-color-unfitted-level-2);\n",
       "}\n",
       "\n",
       "#sk-container-id-2 div.sk-estimator.fitted:hover {\n",
       "  /* fitted */\n",
       "  background-color: var(--sklearn-color-fitted-level-2);\n",
       "}\n",
       "\n",
       "/* Specification for estimator info (e.g. \"i\" and \"?\") */\n",
       "\n",
       "/* Common style for \"i\" and \"?\" */\n",
       "\n",
       ".sk-estimator-doc-link,\n",
       "a:link.sk-estimator-doc-link,\n",
       "a:visited.sk-estimator-doc-link {\n",
       "  float: right;\n",
       "  font-size: smaller;\n",
       "  line-height: 1em;\n",
       "  font-family: monospace;\n",
       "  background-color: var(--sklearn-color-background);\n",
       "  border-radius: 1em;\n",
       "  height: 1em;\n",
       "  width: 1em;\n",
       "  text-decoration: none !important;\n",
       "  margin-left: 1ex;\n",
       "  /* unfitted */\n",
       "  border: var(--sklearn-color-unfitted-level-1) 1pt solid;\n",
       "  color: var(--sklearn-color-unfitted-level-1);\n",
       "}\n",
       "\n",
       ".sk-estimator-doc-link.fitted,\n",
       "a:link.sk-estimator-doc-link.fitted,\n",
       "a:visited.sk-estimator-doc-link.fitted {\n",
       "  /* fitted */\n",
       "  border: var(--sklearn-color-fitted-level-1) 1pt solid;\n",
       "  color: var(--sklearn-color-fitted-level-1);\n",
       "}\n",
       "\n",
       "/* On hover */\n",
       "div.sk-estimator:hover .sk-estimator-doc-link:hover,\n",
       ".sk-estimator-doc-link:hover,\n",
       "div.sk-label-container:hover .sk-estimator-doc-link:hover,\n",
       ".sk-estimator-doc-link:hover {\n",
       "  /* unfitted */\n",
       "  background-color: var(--sklearn-color-unfitted-level-3);\n",
       "  color: var(--sklearn-color-background);\n",
       "  text-decoration: none;\n",
       "}\n",
       "\n",
       "div.sk-estimator.fitted:hover .sk-estimator-doc-link.fitted:hover,\n",
       ".sk-estimator-doc-link.fitted:hover,\n",
       "div.sk-label-container:hover .sk-estimator-doc-link.fitted:hover,\n",
       ".sk-estimator-doc-link.fitted:hover {\n",
       "  /* fitted */\n",
       "  background-color: var(--sklearn-color-fitted-level-3);\n",
       "  color: var(--sklearn-color-background);\n",
       "  text-decoration: none;\n",
       "}\n",
       "\n",
       "/* Span, style for the box shown on hovering the info icon */\n",
       ".sk-estimator-doc-link span {\n",
       "  display: none;\n",
       "  z-index: 9999;\n",
       "  position: relative;\n",
       "  font-weight: normal;\n",
       "  right: .2ex;\n",
       "  padding: .5ex;\n",
       "  margin: .5ex;\n",
       "  width: min-content;\n",
       "  min-width: 20ex;\n",
       "  max-width: 50ex;\n",
       "  color: var(--sklearn-color-text);\n",
       "  box-shadow: 2pt 2pt 4pt #999;\n",
       "  /* unfitted */\n",
       "  background: var(--sklearn-color-unfitted-level-0);\n",
       "  border: .5pt solid var(--sklearn-color-unfitted-level-3);\n",
       "}\n",
       "\n",
       ".sk-estimator-doc-link.fitted span {\n",
       "  /* fitted */\n",
       "  background: var(--sklearn-color-fitted-level-0);\n",
       "  border: var(--sklearn-color-fitted-level-3);\n",
       "}\n",
       "\n",
       ".sk-estimator-doc-link:hover span {\n",
       "  display: block;\n",
       "}\n",
       "\n",
       "/* \"?\"-specific style due to the `<a>` HTML tag */\n",
       "\n",
       "#sk-container-id-2 a.estimator_doc_link {\n",
       "  float: right;\n",
       "  font-size: 1rem;\n",
       "  line-height: 1em;\n",
       "  font-family: monospace;\n",
       "  background-color: var(--sklearn-color-background);\n",
       "  border-radius: 1rem;\n",
       "  height: 1rem;\n",
       "  width: 1rem;\n",
       "  text-decoration: none;\n",
       "  /* unfitted */\n",
       "  color: var(--sklearn-color-unfitted-level-1);\n",
       "  border: var(--sklearn-color-unfitted-level-1) 1pt solid;\n",
       "}\n",
       "\n",
       "#sk-container-id-2 a.estimator_doc_link.fitted {\n",
       "  /* fitted */\n",
       "  border: var(--sklearn-color-fitted-level-1) 1pt solid;\n",
       "  color: var(--sklearn-color-fitted-level-1);\n",
       "}\n",
       "\n",
       "/* On hover */\n",
       "#sk-container-id-2 a.estimator_doc_link:hover {\n",
       "  /* unfitted */\n",
       "  background-color: var(--sklearn-color-unfitted-level-3);\n",
       "  color: var(--sklearn-color-background);\n",
       "  text-decoration: none;\n",
       "}\n",
       "\n",
       "#sk-container-id-2 a.estimator_doc_link.fitted:hover {\n",
       "  /* fitted */\n",
       "  background-color: var(--sklearn-color-fitted-level-3);\n",
       "}\n",
       "</style><div id=\"sk-container-id-2\" class=\"sk-top-container\"><div class=\"sk-text-repr-fallback\"><pre>SVC(kernel=&#x27;linear&#x27;)</pre><b>In a Jupyter environment, please rerun this cell to show the HTML representation or trust the notebook. <br />On GitHub, the HTML representation is unable to render, please try loading this page with nbviewer.org.</b></div><div class=\"sk-container\" hidden><div class=\"sk-item\"><div class=\"sk-estimator fitted sk-toggleable\"><input class=\"sk-toggleable__control sk-hidden--visually\" id=\"sk-estimator-id-2\" type=\"checkbox\" checked><label for=\"sk-estimator-id-2\" class=\"sk-toggleable__label fitted sk-toggleable__label-arrow fitted\">&nbsp;&nbsp;SVC<a class=\"sk-estimator-doc-link fitted\" rel=\"noreferrer\" target=\"_blank\" href=\"https://scikit-learn.org/1.5/modules/generated/sklearn.svm.SVC.html\">?<span>Documentation for SVC</span></a><span class=\"sk-estimator-doc-link fitted\">i<span>Fitted</span></span></label><div class=\"sk-toggleable__content fitted\"><pre>SVC(kernel=&#x27;linear&#x27;)</pre></div> </div></div></div></div>"
      ],
      "text/plain": [
       "SVC(kernel='linear')"
      ]
     },
     "execution_count": 41,
     "metadata": {},
     "output_type": "execute_result"
    }
   ],
   "source": [
    "tfidf_clf = svm.SVC(kernel='linear')\n",
    "tfidf_clf.fit(X_tfidf, Y_train)"
   ]
  },
  {
   "cell_type": "code",
   "execution_count": 42,
   "metadata": {},
   "outputs": [],
   "source": [
    "y_train_tfidf_pred = tfidf_clf.predict(X_tfidf)\n",
    "y_test_tfidf_pred = tfidf_clf.predict(tfidf.transform(X_test))"
   ]
  },
  {
   "cell_type": "code",
   "execution_count": 43,
   "metadata": {},
   "outputs": [
    {
     "data": {
      "text/plain": [
       "<sklearn.metrics._plot.confusion_matrix.ConfusionMatrixDisplay at 0x1776e7110>"
      ]
     },
     "execution_count": 43,
     "metadata": {},
     "output_type": "execute_result"
    },
    {
     "data": {
      "image/png": "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",
      "text/plain": [
       "<Figure size 640x480 with 2 Axes>"
      ]
     },
     "metadata": {},
     "output_type": "display_data"
    }
   ],
   "source": [
    "metrics.ConfusionMatrixDisplay.from_predictions(Y_train, y_train_tfidf_pred)"
   ]
  },
  {
   "cell_type": "code",
   "execution_count": 44,
   "metadata": {},
   "outputs": [
    {
     "data": {
      "text/plain": [
       "<sklearn.metrics._plot.confusion_matrix.ConfusionMatrixDisplay at 0x3042faf30>"
      ]
     },
     "execution_count": 44,
     "metadata": {},
     "output_type": "execute_result"
    },
    {
     "data": {
      "image/png": "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",
      "text/plain": [
       "<Figure size 640x480 with 2 Axes>"
      ]
     },
     "metadata": {},
     "output_type": "display_data"
    }
   ],
   "source": [
    "metrics.ConfusionMatrixDisplay.from_predictions(Y_test, y_test_tfidf_pred)"
   ]
  },
  {
   "cell_type": "code",
   "execution_count": 45,
   "metadata": {},
   "outputs": [
    {
     "name": "stdout",
     "output_type": "stream",
     "text": [
      "Precision: 0.8214102470131203\n",
      "Recall: 0.9780502705533252\n",
      "F1: 0.8929126329628302\n"
     ]
    }
   ],
   "source": [
    "if len(bow_clf.classes_) == 2:\n",
    "    print('Precision:', metrics.precision_score(Y_train, y_train_tfidf_pred, pos_label = 1))\n",
    "    print('Recall:', metrics.recall_score(Y_train, y_train_tfidf_pred, pos_label = 1))\n",
    "    print('F1:', metrics.f1_score(Y_train, y_train_tfidf_pred, pos_label = 1))\n",
    "else:\n",
    "    print('Precision:', metrics.precision_score(Y_train, y_train_tfidf_pred, average = None))\n",
    "    print('Recall:', metrics.recall_score(Y_train, y_train_tfidf_pred, average = None))\n",
    "    print('F1:', metrics.f1_score(Y_train, y_train_tfidf_pred, average = None))"
   ]
  },
  {
   "cell_type": "code",
   "execution_count": 46,
   "metadata": {},
   "outputs": [
    {
     "name": "stdout",
     "output_type": "stream",
     "text": [
      "Precision: 0.8024606971975393\n",
      "Recall: 0.9562207289757687\n",
      "F1: 0.8726191582272601\n"
     ]
    }
   ],
   "source": [
    "if len(tfidf_clf.classes_) == 2:\n",
    "    print('Precision:', metrics.precision_score(Y_test, y_test_tfidf_pred, pos_label = 1))\n",
    "    print('Recall:', metrics.recall_score(Y_test, y_test_tfidf_pred, pos_label = 1))\n",
    "    print('F1:', metrics.f1_score(Y_test, y_test_tfidf_pred, pos_label = 1))\n",
    "else:\n",
    "    # Para casos no binarios, es común calcular las métricas para cada clase\n",
    "    print('Precision:', metrics.precision_score(Y_test, y_test_tfidf_pred, average = None))\n",
    "    print('Recall:', metrics.recall_score(Y_test, y_test_tfidf_pred, average = None))\n",
    "    print('F1:', metrics.f1_score(Y_test, y_test_tfidf_pred, average = None))\n"
   ]
  },
  {
   "cell_type": "markdown",
   "metadata": {},
   "source": [
    "### Error"
   ]
  },
  {
   "cell_type": "code",
   "execution_count": 47,
   "metadata": {},
   "outputs": [
    {
     "name": "stdout",
     "output_type": "stream",
     "text": [
      "                                              Titulo  actual  predicted\n",
      "0  casado le cobra la factura a la ceoe por su po...       1          1\n",
      "1  sánchez pide a torra no patrimonializar las in...       1          1\n",
      "2  rita maestre y el aparato de moncloa volcados ...       0          0\n",
      "3  la fiscalía rechaza aplazar la sentencia de ju...       1          1\n",
      "4  el constitucional rechaza las recusaciones de ...       0          1\n"
     ]
    }
   ],
   "source": [
    "# Concatenar X_test con Y_test\n",
    "df_test = pd.concat([X_test, Y_test], axis=1).reset_index(drop=True)\n",
    "\n",
    "# Convertir predicciones en DataFrame\n",
    "df_pred = pd.DataFrame({'predicted': y_test_tfidf_pred})\n",
    "\n",
    "# Unir los DataFrames\n",
    "error_df = pd.concat([df_test, df_pred], axis=1)\n",
    "\n",
    "# Renombrar la columna de etiquetas reales si existe\n",
    "if 'Label' in error_df.columns:\n",
    "    error_df.rename(columns={'Label': 'actual'}, inplace=True)\n",
    "\n",
    "# Verificar el resultado\n",
    "print(error_df.head())"
   ]
  },
  {
   "cell_type": "code",
   "execution_count": 48,
   "metadata": {},
   "outputs": [
    {
     "name": "stdout",
     "output_type": "stream",
     "text": [
      "Número de errores: 2742\n"
     ]
    }
   ],
   "source": [
    "error_count = (error_df['actual'] != error_df['predicted']).sum()\n",
    "print(f\"Número de errores: {error_count}\")"
   ]
  },
  {
   "cell_type": "code",
   "execution_count": 49,
   "metadata": {},
   "outputs": [
    {
     "data": {
      "text/html": [
       "<div>\n",
       "<style scoped>\n",
       "    .dataframe tbody tr th:only-of-type {\n",
       "        vertical-align: middle;\n",
       "    }\n",
       "\n",
       "    .dataframe tbody tr th {\n",
       "        vertical-align: top;\n",
       "    }\n",
       "\n",
       "    .dataframe thead th {\n",
       "        text-align: right;\n",
       "    }\n",
       "</style>\n",
       "<table border=\"1\" class=\"dataframe\">\n",
       "  <thead>\n",
       "    <tr style=\"text-align: right;\">\n",
       "      <th></th>\n",
       "      <th>Titulo</th>\n",
       "      <th>actual</th>\n",
       "      <th>predicted</th>\n",
       "    </tr>\n",
       "  </thead>\n",
       "  <tbody>\n",
       "    <tr>\n",
       "      <th>9840</th>\n",
       "      <td>de la joya se reunió con corinna y villalonga ...</td>\n",
       "      <td>0</td>\n",
       "      <td>1</td>\n",
       "    </tr>\n",
       "    <tr>\n",
       "      <th>5822</th>\n",
       "      <td>el congreso y el senado aprueban el concurso p...</td>\n",
       "      <td>0</td>\n",
       "      <td>1</td>\n",
       "    </tr>\n",
       "    <tr>\n",
       "      <th>478</th>\n",
       "      <td>el gobierno dice ahora que hay consenso total ...</td>\n",
       "      <td>0</td>\n",
       "      <td>1</td>\n",
       "    </tr>\n",
       "    <tr>\n",
       "      <th>14183</th>\n",
       "      <td>juan antonio delgado hay que ponerse las pilas...</td>\n",
       "      <td>0</td>\n",
       "      <td>1</td>\n",
       "    </tr>\n",
       "    <tr>\n",
       "      <th>4493</th>\n",
       "      <td>el upn al borde del abismo en vísperas de su c...</td>\n",
       "      <td>0</td>\n",
       "      <td>1</td>\n",
       "    </tr>\n",
       "    <tr>\n",
       "      <th>1362</th>\n",
       "      <td>la comunidad de madrid crea una comisión para ...</td>\n",
       "      <td>0</td>\n",
       "      <td>1</td>\n",
       "    </tr>\n",
       "    <tr>\n",
       "      <th>14466</th>\n",
       "      <td>el partido de gobierno cierra filas con el pre...</td>\n",
       "      <td>0</td>\n",
       "      <td>1</td>\n",
       "    </tr>\n",
       "    <tr>\n",
       "      <th>8182</th>\n",
       "      <td>el juez del caso púnica cree que cifuentes deb...</td>\n",
       "      <td>0</td>\n",
       "      <td>1</td>\n",
       "    </tr>\n",
       "    <tr>\n",
       "      <th>2518</th>\n",
       "      <td>nadia calviño es importante un planteamiento m...</td>\n",
       "      <td>1</td>\n",
       "      <td>0</td>\n",
       "    </tr>\n",
       "    <tr>\n",
       "      <th>4798</th>\n",
       "      <td>dos jueces del constitucional creen que las co...</td>\n",
       "      <td>0</td>\n",
       "      <td>1</td>\n",
       "    </tr>\n",
       "  </tbody>\n",
       "</table>\n",
       "</div>"
      ],
      "text/plain": [
       "                                                  Titulo  actual  predicted\n",
       "9840   de la joya se reunió con corinna y villalonga ...       0          1\n",
       "5822   el congreso y el senado aprueban el concurso p...       0          1\n",
       "478    el gobierno dice ahora que hay consenso total ...       0          1\n",
       "14183  juan antonio delgado hay que ponerse las pilas...       0          1\n",
       "4493   el upn al borde del abismo en vísperas de su c...       0          1\n",
       "1362   la comunidad de madrid crea una comisión para ...       0          1\n",
       "14466  el partido de gobierno cierra filas con el pre...       0          1\n",
       "8182   el juez del caso púnica cree que cifuentes deb...       0          1\n",
       "2518   nadia calviño es importante un planteamiento m...       1          0\n",
       "4798   dos jueces del constitucional creen que las co...       0          1"
      ]
     },
     "execution_count": 49,
     "metadata": {},
     "output_type": "execute_result"
    }
   ],
   "source": [
    "error_df.loc[error_df['actual'] != error_df['predicted']].sample(10)"
   ]
  },
  {
   "cell_type": "markdown",
   "metadata": {},
   "source": [
    "### Arboles de decision"
   ]
  },
  {
   "cell_type": "code",
   "execution_count": 50,
   "metadata": {},
   "outputs": [],
   "source": [
    "from sklearn.tree import DecisionTreeClassifier\n",
    "from sklearn.metrics import accuracy_score, confusion_matrix, classification_report\n",
    "import seaborn as sns\n",
    "from sklearn import tree"
   ]
  },
  {
   "cell_type": "code",
   "execution_count": 51,
   "metadata": {},
   "outputs": [
    {
     "name": "stdout",
     "output_type": "stream",
     "text": [
      "Accuracy: 0.7377840574590839\n",
      "              precision    recall  f1-score   support\n",
      "\n",
      "           0       0.67      0.74      0.70      7164\n",
      "           1       0.80      0.74      0.76      9822\n",
      "\n",
      "    accuracy                           0.74     16986\n",
      "   macro avg       0.73      0.74      0.73     16986\n",
      "weighted avg       0.74      0.74      0.74     16986\n",
      "\n"
     ]
    },
    {
     "data": {
      "image/png": "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",
      "text/plain": [
       "<Figure size 640x480 with 2 Axes>"
      ]
     },
     "metadata": {},
     "output_type": "display_data"
    }
   ],
   "source": [
    "# Crear y entrenar el modelo de árbol de decisión\n",
    "arbol = DecisionTreeClassifier(random_state=1)\n",
    "arbol.fit(X_tfidf, Y_train)\n",
    "\n",
    "# Transformar los datos de prueba\n",
    "X_tfidf_test = tfidf.transform(X_test)\n",
    "\n",
    "# Hacer predicciones\n",
    "Y_pred = arbol.predict(X_tfidf_test)\n",
    "\n",
    "# Evaluar el modelo\n",
    "print(\"Accuracy:\", accuracy_score(Y_test, Y_pred))\n",
    "\n",
    "# Matriz de confusión\n",
    "cm = confusion_matrix(Y_test, Y_pred)\n",
    "sns.heatmap(cm, annot=True, fmt='d')\n",
    "\n",
    "# Reporte de clasificación\n",
    "print(classification_report(Y_test, Y_pred))"
   ]
  },
  {
   "cell_type": "code",
   "execution_count": 56,
   "metadata": {},
   "outputs": [
    {
     "name": "stdout",
     "output_type": "stream",
     "text": [
      "        Palabra  Importancia\n",
      "16785       per     0.070699\n",
      "15420   narbona     0.048470\n",
      "9247       equo     0.046055\n",
      "8401     eajpnv     0.045755\n",
      "3683        bng     0.035921\n",
      "4180    canaria     0.028386\n",
      "14175   maestre     0.024195\n",
      "21324   sánchez     0.022879\n",
      "17271   podemos     0.016943\n",
      "4181   canarias     0.015796\n"
     ]
    }
   ],
   "source": [
    "# Obtener las palabras del vectorizador TF-IDF\n",
    "feature_names = tfidf.get_feature_names_out()\n",
    "\n",
    "# Obtener la importancia de cada palabra en el árbol de decisión\n",
    "importances = arbol.feature_importances_\n",
    "\n",
    "# Crear un DataFrame para visualizar los resultados\n",
    "word_importance = pd.DataFrame({'Palabra': feature_names, 'Importancia': importances})\n",
    "\n",
    "# Ordenar de mayor a menor importancia\n",
    "word_importance = word_importance.sort_values(by='Importancia', ascending=False)\n",
    "\n",
    "# Mostrar las 10 palabras más importantes\n",
    "print(word_importance.head(10))"
   ]
  },
  {
   "cell_type": "code",
   "execution_count": 57,
   "metadata": {},
   "outputs": [
    {
     "data": {
      "text/plain": [
       "<sklearn.metrics._plot.roc_curve.RocCurveDisplay at 0x303e30bf0>"
      ]
     },
     "execution_count": 57,
     "metadata": {},
     "output_type": "execute_result"
    },
    {
     "data": {
      "image/png": "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",
      "text/plain": [
       "<Figure size 640x480 with 1 Axes>"
      ]
     },
     "metadata": {},
     "output_type": "display_data"
    }
   ],
   "source": [
    "from sklearn.metrics import RocCurveDisplay\n",
    "\n",
    "\n",
    "RocCurveDisplay.from_estimator(arbol, X_tfidf_test, Y_test, plot_chance_level=True)"
   ]
  },
  {
   "cell_type": "code",
   "execution_count": 58,
   "metadata": {},
   "outputs": [
    {
     "ename": "KeyboardInterrupt",
     "evalue": "",
     "output_type": "error",
     "traceback": [
      "\u001b[0;31m---------------------------------------------------------------------------\u001b[0m",
      "\u001b[0;31mKeyboardInterrupt\u001b[0m                         Traceback (most recent call last)",
      "Cell \u001b[0;32mIn[58], line 15\u001b[0m\n\u001b[1;32m     13\u001b[0m mejor_modelo \u001b[38;5;241m=\u001b[39m GridSearchCV(arbol, param_grid, cv\u001b[38;5;241m=\u001b[39mparticiones)\n\u001b[1;32m     14\u001b[0m \u001b[38;5;66;03m# Ajuste del modelo\u001b[39;00m\n\u001b[0;32m---> 15\u001b[0m mejor_modelo\u001b[38;5;241m.\u001b[39mfit(X_tfidf, Y_train)\n",
      "File \u001b[0;32m/opt/anaconda3/lib/python3.12/site-packages/sklearn/base.py:1473\u001b[0m, in \u001b[0;36m_fit_context.<locals>.decorator.<locals>.wrapper\u001b[0;34m(estimator, *args, **kwargs)\u001b[0m\n\u001b[1;32m   1466\u001b[0m     estimator\u001b[38;5;241m.\u001b[39m_validate_params()\n\u001b[1;32m   1468\u001b[0m \u001b[38;5;28;01mwith\u001b[39;00m config_context(\n\u001b[1;32m   1469\u001b[0m     skip_parameter_validation\u001b[38;5;241m=\u001b[39m(\n\u001b[1;32m   1470\u001b[0m         prefer_skip_nested_validation \u001b[38;5;129;01mor\u001b[39;00m global_skip_validation\n\u001b[1;32m   1471\u001b[0m     )\n\u001b[1;32m   1472\u001b[0m ):\n\u001b[0;32m-> 1473\u001b[0m     \u001b[38;5;28;01mreturn\u001b[39;00m fit_method(estimator, \u001b[38;5;241m*\u001b[39margs, \u001b[38;5;241m*\u001b[39m\u001b[38;5;241m*\u001b[39mkwargs)\n",
      "File \u001b[0;32m/opt/anaconda3/lib/python3.12/site-packages/sklearn/model_selection/_search.py:1018\u001b[0m, in \u001b[0;36mBaseSearchCV.fit\u001b[0;34m(self, X, y, **params)\u001b[0m\n\u001b[1;32m   1012\u001b[0m     results \u001b[38;5;241m=\u001b[39m \u001b[38;5;28mself\u001b[39m\u001b[38;5;241m.\u001b[39m_format_results(\n\u001b[1;32m   1013\u001b[0m         all_candidate_params, n_splits, all_out, all_more_results\n\u001b[1;32m   1014\u001b[0m     )\n\u001b[1;32m   1016\u001b[0m     \u001b[38;5;28;01mreturn\u001b[39;00m results\n\u001b[0;32m-> 1018\u001b[0m \u001b[38;5;28mself\u001b[39m\u001b[38;5;241m.\u001b[39m_run_search(evaluate_candidates)\n\u001b[1;32m   1020\u001b[0m \u001b[38;5;66;03m# multimetric is determined here because in the case of a callable\u001b[39;00m\n\u001b[1;32m   1021\u001b[0m \u001b[38;5;66;03m# self.scoring the return type is only known after calling\u001b[39;00m\n\u001b[1;32m   1022\u001b[0m first_test_score \u001b[38;5;241m=\u001b[39m all_out[\u001b[38;5;241m0\u001b[39m][\u001b[38;5;124m\"\u001b[39m\u001b[38;5;124mtest_scores\u001b[39m\u001b[38;5;124m\"\u001b[39m]\n",
      "File \u001b[0;32m/opt/anaconda3/lib/python3.12/site-packages/sklearn/model_selection/_search.py:1572\u001b[0m, in \u001b[0;36mGridSearchCV._run_search\u001b[0;34m(self, evaluate_candidates)\u001b[0m\n\u001b[1;32m   1570\u001b[0m \u001b[38;5;28;01mdef\u001b[39;00m \u001b[38;5;21m_run_search\u001b[39m(\u001b[38;5;28mself\u001b[39m, evaluate_candidates):\n\u001b[1;32m   1571\u001b[0m \u001b[38;5;250m    \u001b[39m\u001b[38;5;124;03m\"\"\"Search all candidates in param_grid\"\"\"\u001b[39;00m\n\u001b[0;32m-> 1572\u001b[0m     evaluate_candidates(ParameterGrid(\u001b[38;5;28mself\u001b[39m\u001b[38;5;241m.\u001b[39mparam_grid))\n",
      "File \u001b[0;32m/opt/anaconda3/lib/python3.12/site-packages/sklearn/model_selection/_search.py:964\u001b[0m, in \u001b[0;36mBaseSearchCV.fit.<locals>.evaluate_candidates\u001b[0;34m(candidate_params, cv, more_results)\u001b[0m\n\u001b[1;32m    956\u001b[0m \u001b[38;5;28;01mif\u001b[39;00m \u001b[38;5;28mself\u001b[39m\u001b[38;5;241m.\u001b[39mverbose \u001b[38;5;241m>\u001b[39m \u001b[38;5;241m0\u001b[39m:\n\u001b[1;32m    957\u001b[0m     \u001b[38;5;28mprint\u001b[39m(\n\u001b[1;32m    958\u001b[0m         \u001b[38;5;124m\"\u001b[39m\u001b[38;5;124mFitting \u001b[39m\u001b[38;5;132;01m{0}\u001b[39;00m\u001b[38;5;124m folds for each of \u001b[39m\u001b[38;5;132;01m{1}\u001b[39;00m\u001b[38;5;124m candidates,\u001b[39m\u001b[38;5;124m\"\u001b[39m\n\u001b[1;32m    959\u001b[0m         \u001b[38;5;124m\"\u001b[39m\u001b[38;5;124m totalling \u001b[39m\u001b[38;5;132;01m{2}\u001b[39;00m\u001b[38;5;124m fits\u001b[39m\u001b[38;5;124m\"\u001b[39m\u001b[38;5;241m.\u001b[39mformat(\n\u001b[1;32m    960\u001b[0m             n_splits, n_candidates, n_candidates \u001b[38;5;241m*\u001b[39m n_splits\n\u001b[1;32m    961\u001b[0m         )\n\u001b[1;32m    962\u001b[0m     )\n\u001b[0;32m--> 964\u001b[0m out \u001b[38;5;241m=\u001b[39m parallel(\n\u001b[1;32m    965\u001b[0m     delayed(_fit_and_score)(\n\u001b[1;32m    966\u001b[0m         clone(base_estimator),\n\u001b[1;32m    967\u001b[0m         X,\n\u001b[1;32m    968\u001b[0m         y,\n\u001b[1;32m    969\u001b[0m         train\u001b[38;5;241m=\u001b[39mtrain,\n\u001b[1;32m    970\u001b[0m         test\u001b[38;5;241m=\u001b[39mtest,\n\u001b[1;32m    971\u001b[0m         parameters\u001b[38;5;241m=\u001b[39mparameters,\n\u001b[1;32m    972\u001b[0m         split_progress\u001b[38;5;241m=\u001b[39m(split_idx, n_splits),\n\u001b[1;32m    973\u001b[0m         candidate_progress\u001b[38;5;241m=\u001b[39m(cand_idx, n_candidates),\n\u001b[1;32m    974\u001b[0m         \u001b[38;5;241m*\u001b[39m\u001b[38;5;241m*\u001b[39mfit_and_score_kwargs,\n\u001b[1;32m    975\u001b[0m     )\n\u001b[1;32m    976\u001b[0m     \u001b[38;5;28;01mfor\u001b[39;00m (cand_idx, parameters), (split_idx, (train, test)) \u001b[38;5;129;01min\u001b[39;00m product(\n\u001b[1;32m    977\u001b[0m         \u001b[38;5;28menumerate\u001b[39m(candidate_params),\n\u001b[1;32m    978\u001b[0m         \u001b[38;5;28menumerate\u001b[39m(cv\u001b[38;5;241m.\u001b[39msplit(X, y, \u001b[38;5;241m*\u001b[39m\u001b[38;5;241m*\u001b[39mrouted_params\u001b[38;5;241m.\u001b[39msplitter\u001b[38;5;241m.\u001b[39msplit)),\n\u001b[1;32m    979\u001b[0m     )\n\u001b[1;32m    980\u001b[0m )\n\u001b[1;32m    982\u001b[0m \u001b[38;5;28;01mif\u001b[39;00m \u001b[38;5;28mlen\u001b[39m(out) \u001b[38;5;241m<\u001b[39m \u001b[38;5;241m1\u001b[39m:\n\u001b[1;32m    983\u001b[0m     \u001b[38;5;28;01mraise\u001b[39;00m \u001b[38;5;167;01mValueError\u001b[39;00m(\n\u001b[1;32m    984\u001b[0m         \u001b[38;5;124m\"\u001b[39m\u001b[38;5;124mNo fits were performed. \u001b[39m\u001b[38;5;124m\"\u001b[39m\n\u001b[1;32m    985\u001b[0m         \u001b[38;5;124m\"\u001b[39m\u001b[38;5;124mWas the CV iterator empty? \u001b[39m\u001b[38;5;124m\"\u001b[39m\n\u001b[1;32m    986\u001b[0m         \u001b[38;5;124m\"\u001b[39m\u001b[38;5;124mWere there no candidates?\u001b[39m\u001b[38;5;124m\"\u001b[39m\n\u001b[1;32m    987\u001b[0m     )\n",
      "File \u001b[0;32m/opt/anaconda3/lib/python3.12/site-packages/sklearn/utils/parallel.py:74\u001b[0m, in \u001b[0;36mParallel.__call__\u001b[0;34m(self, iterable)\u001b[0m\n\u001b[1;32m     69\u001b[0m config \u001b[38;5;241m=\u001b[39m get_config()\n\u001b[1;32m     70\u001b[0m iterable_with_config \u001b[38;5;241m=\u001b[39m (\n\u001b[1;32m     71\u001b[0m     (_with_config(delayed_func, config), args, kwargs)\n\u001b[1;32m     72\u001b[0m     \u001b[38;5;28;01mfor\u001b[39;00m delayed_func, args, kwargs \u001b[38;5;129;01min\u001b[39;00m iterable\n\u001b[1;32m     73\u001b[0m )\n\u001b[0;32m---> 74\u001b[0m \u001b[38;5;28;01mreturn\u001b[39;00m \u001b[38;5;28msuper\u001b[39m()\u001b[38;5;241m.\u001b[39m\u001b[38;5;21m__call__\u001b[39m(iterable_with_config)\n",
      "File \u001b[0;32m/opt/anaconda3/lib/python3.12/site-packages/joblib/parallel.py:1918\u001b[0m, in \u001b[0;36mParallel.__call__\u001b[0;34m(self, iterable)\u001b[0m\n\u001b[1;32m   1916\u001b[0m     output \u001b[38;5;241m=\u001b[39m \u001b[38;5;28mself\u001b[39m\u001b[38;5;241m.\u001b[39m_get_sequential_output(iterable)\n\u001b[1;32m   1917\u001b[0m     \u001b[38;5;28mnext\u001b[39m(output)\n\u001b[0;32m-> 1918\u001b[0m     \u001b[38;5;28;01mreturn\u001b[39;00m output \u001b[38;5;28;01mif\u001b[39;00m \u001b[38;5;28mself\u001b[39m\u001b[38;5;241m.\u001b[39mreturn_generator \u001b[38;5;28;01melse\u001b[39;00m \u001b[38;5;28mlist\u001b[39m(output)\n\u001b[1;32m   1920\u001b[0m \u001b[38;5;66;03m# Let's create an ID that uniquely identifies the current call. If the\u001b[39;00m\n\u001b[1;32m   1921\u001b[0m \u001b[38;5;66;03m# call is interrupted early and that the same instance is immediately\u001b[39;00m\n\u001b[1;32m   1922\u001b[0m \u001b[38;5;66;03m# re-used, this id will be used to prevent workers that were\u001b[39;00m\n\u001b[1;32m   1923\u001b[0m \u001b[38;5;66;03m# concurrently finalizing a task from the previous call to run the\u001b[39;00m\n\u001b[1;32m   1924\u001b[0m \u001b[38;5;66;03m# callback.\u001b[39;00m\n\u001b[1;32m   1925\u001b[0m \u001b[38;5;28;01mwith\u001b[39;00m \u001b[38;5;28mself\u001b[39m\u001b[38;5;241m.\u001b[39m_lock:\n",
      "File \u001b[0;32m/opt/anaconda3/lib/python3.12/site-packages/joblib/parallel.py:1847\u001b[0m, in \u001b[0;36mParallel._get_sequential_output\u001b[0;34m(self, iterable)\u001b[0m\n\u001b[1;32m   1845\u001b[0m \u001b[38;5;28mself\u001b[39m\u001b[38;5;241m.\u001b[39mn_dispatched_batches \u001b[38;5;241m+\u001b[39m\u001b[38;5;241m=\u001b[39m \u001b[38;5;241m1\u001b[39m\n\u001b[1;32m   1846\u001b[0m \u001b[38;5;28mself\u001b[39m\u001b[38;5;241m.\u001b[39mn_dispatched_tasks \u001b[38;5;241m+\u001b[39m\u001b[38;5;241m=\u001b[39m \u001b[38;5;241m1\u001b[39m\n\u001b[0;32m-> 1847\u001b[0m res \u001b[38;5;241m=\u001b[39m func(\u001b[38;5;241m*\u001b[39margs, \u001b[38;5;241m*\u001b[39m\u001b[38;5;241m*\u001b[39mkwargs)\n\u001b[1;32m   1848\u001b[0m \u001b[38;5;28mself\u001b[39m\u001b[38;5;241m.\u001b[39mn_completed_tasks \u001b[38;5;241m+\u001b[39m\u001b[38;5;241m=\u001b[39m \u001b[38;5;241m1\u001b[39m\n\u001b[1;32m   1849\u001b[0m \u001b[38;5;28mself\u001b[39m\u001b[38;5;241m.\u001b[39mprint_progress()\n",
      "File \u001b[0;32m/opt/anaconda3/lib/python3.12/site-packages/sklearn/utils/parallel.py:136\u001b[0m, in \u001b[0;36m_FuncWrapper.__call__\u001b[0;34m(self, *args, **kwargs)\u001b[0m\n\u001b[1;32m    134\u001b[0m     config \u001b[38;5;241m=\u001b[39m {}\n\u001b[1;32m    135\u001b[0m \u001b[38;5;28;01mwith\u001b[39;00m config_context(\u001b[38;5;241m*\u001b[39m\u001b[38;5;241m*\u001b[39mconfig):\n\u001b[0;32m--> 136\u001b[0m     \u001b[38;5;28;01mreturn\u001b[39;00m \u001b[38;5;28mself\u001b[39m\u001b[38;5;241m.\u001b[39mfunction(\u001b[38;5;241m*\u001b[39margs, \u001b[38;5;241m*\u001b[39m\u001b[38;5;241m*\u001b[39mkwargs)\n",
      "File \u001b[0;32m/opt/anaconda3/lib/python3.12/site-packages/sklearn/model_selection/_validation.py:888\u001b[0m, in \u001b[0;36m_fit_and_score\u001b[0;34m(estimator, X, y, scorer, train, test, verbose, parameters, fit_params, score_params, return_train_score, return_parameters, return_n_test_samples, return_times, return_estimator, split_progress, candidate_progress, error_score)\u001b[0m\n\u001b[1;32m    886\u001b[0m         estimator\u001b[38;5;241m.\u001b[39mfit(X_train, \u001b[38;5;241m*\u001b[39m\u001b[38;5;241m*\u001b[39mfit_params)\n\u001b[1;32m    887\u001b[0m     \u001b[38;5;28;01melse\u001b[39;00m:\n\u001b[0;32m--> 888\u001b[0m         estimator\u001b[38;5;241m.\u001b[39mfit(X_train, y_train, \u001b[38;5;241m*\u001b[39m\u001b[38;5;241m*\u001b[39mfit_params)\n\u001b[1;32m    890\u001b[0m \u001b[38;5;28;01mexcept\u001b[39;00m \u001b[38;5;167;01mException\u001b[39;00m:\n\u001b[1;32m    891\u001b[0m     \u001b[38;5;66;03m# Note fit time as time until error\u001b[39;00m\n\u001b[1;32m    892\u001b[0m     fit_time \u001b[38;5;241m=\u001b[39m time\u001b[38;5;241m.\u001b[39mtime() \u001b[38;5;241m-\u001b[39m start_time\n",
      "File \u001b[0;32m/opt/anaconda3/lib/python3.12/site-packages/sklearn/base.py:1473\u001b[0m, in \u001b[0;36m_fit_context.<locals>.decorator.<locals>.wrapper\u001b[0;34m(estimator, *args, **kwargs)\u001b[0m\n\u001b[1;32m   1466\u001b[0m     estimator\u001b[38;5;241m.\u001b[39m_validate_params()\n\u001b[1;32m   1468\u001b[0m \u001b[38;5;28;01mwith\u001b[39;00m config_context(\n\u001b[1;32m   1469\u001b[0m     skip_parameter_validation\u001b[38;5;241m=\u001b[39m(\n\u001b[1;32m   1470\u001b[0m         prefer_skip_nested_validation \u001b[38;5;129;01mor\u001b[39;00m global_skip_validation\n\u001b[1;32m   1471\u001b[0m     )\n\u001b[1;32m   1472\u001b[0m ):\n\u001b[0;32m-> 1473\u001b[0m     \u001b[38;5;28;01mreturn\u001b[39;00m fit_method(estimator, \u001b[38;5;241m*\u001b[39margs, \u001b[38;5;241m*\u001b[39m\u001b[38;5;241m*\u001b[39mkwargs)\n",
      "File \u001b[0;32m/opt/anaconda3/lib/python3.12/site-packages/sklearn/tree/_classes.py:1009\u001b[0m, in \u001b[0;36mDecisionTreeClassifier.fit\u001b[0;34m(self, X, y, sample_weight, check_input)\u001b[0m\n\u001b[1;32m    978\u001b[0m \u001b[38;5;129m@_fit_context\u001b[39m(prefer_skip_nested_validation\u001b[38;5;241m=\u001b[39m\u001b[38;5;28;01mTrue\u001b[39;00m)\n\u001b[1;32m    979\u001b[0m \u001b[38;5;28;01mdef\u001b[39;00m \u001b[38;5;21mfit\u001b[39m(\u001b[38;5;28mself\u001b[39m, X, y, sample_weight\u001b[38;5;241m=\u001b[39m\u001b[38;5;28;01mNone\u001b[39;00m, check_input\u001b[38;5;241m=\u001b[39m\u001b[38;5;28;01mTrue\u001b[39;00m):\n\u001b[1;32m    980\u001b[0m \u001b[38;5;250m    \u001b[39m\u001b[38;5;124;03m\"\"\"Build a decision tree classifier from the training set (X, y).\u001b[39;00m\n\u001b[1;32m    981\u001b[0m \n\u001b[1;32m    982\u001b[0m \u001b[38;5;124;03m    Parameters\u001b[39;00m\n\u001b[0;32m   (...)\u001b[0m\n\u001b[1;32m   1006\u001b[0m \u001b[38;5;124;03m        Fitted estimator.\u001b[39;00m\n\u001b[1;32m   1007\u001b[0m \u001b[38;5;124;03m    \"\"\"\u001b[39;00m\n\u001b[0;32m-> 1009\u001b[0m     \u001b[38;5;28msuper\u001b[39m()\u001b[38;5;241m.\u001b[39m_fit(\n\u001b[1;32m   1010\u001b[0m         X,\n\u001b[1;32m   1011\u001b[0m         y,\n\u001b[1;32m   1012\u001b[0m         sample_weight\u001b[38;5;241m=\u001b[39msample_weight,\n\u001b[1;32m   1013\u001b[0m         check_input\u001b[38;5;241m=\u001b[39mcheck_input,\n\u001b[1;32m   1014\u001b[0m     )\n\u001b[1;32m   1015\u001b[0m     \u001b[38;5;28;01mreturn\u001b[39;00m \u001b[38;5;28mself\u001b[39m\n",
      "File \u001b[0;32m/opt/anaconda3/lib/python3.12/site-packages/sklearn/tree/_classes.py:472\u001b[0m, in \u001b[0;36mBaseDecisionTree._fit\u001b[0;34m(self, X, y, sample_weight, check_input, missing_values_in_feature_mask)\u001b[0m\n\u001b[1;32m    461\u001b[0m \u001b[38;5;28;01melse\u001b[39;00m:\n\u001b[1;32m    462\u001b[0m     builder \u001b[38;5;241m=\u001b[39m BestFirstTreeBuilder(\n\u001b[1;32m    463\u001b[0m         splitter,\n\u001b[1;32m    464\u001b[0m         min_samples_split,\n\u001b[0;32m   (...)\u001b[0m\n\u001b[1;32m    469\u001b[0m         \u001b[38;5;28mself\u001b[39m\u001b[38;5;241m.\u001b[39mmin_impurity_decrease,\n\u001b[1;32m    470\u001b[0m     )\n\u001b[0;32m--> 472\u001b[0m builder\u001b[38;5;241m.\u001b[39mbuild(\u001b[38;5;28mself\u001b[39m\u001b[38;5;241m.\u001b[39mtree_, X, y, sample_weight, missing_values_in_feature_mask)\n\u001b[1;32m    474\u001b[0m \u001b[38;5;28;01mif\u001b[39;00m \u001b[38;5;28mself\u001b[39m\u001b[38;5;241m.\u001b[39mn_outputs_ \u001b[38;5;241m==\u001b[39m \u001b[38;5;241m1\u001b[39m \u001b[38;5;129;01mand\u001b[39;00m is_classifier(\u001b[38;5;28mself\u001b[39m):\n\u001b[1;32m    475\u001b[0m     \u001b[38;5;28mself\u001b[39m\u001b[38;5;241m.\u001b[39mn_classes_ \u001b[38;5;241m=\u001b[39m \u001b[38;5;28mself\u001b[39m\u001b[38;5;241m.\u001b[39mn_classes_[\u001b[38;5;241m0\u001b[39m]\n",
      "\u001b[0;31mKeyboardInterrupt\u001b[0m: "
     ]
    }
   ],
   "source": [
    "# Fijemos el número de particiones. Utilizaremos K = 10.\n",
    "from sklearn.model_selection import GridSearchCV, KFold\n",
    "\n",
    "\n",
    "particiones = KFold(n_splits=10, shuffle=True, random_state = 0)\n",
    "# Establecemos el espacio de búsqueda para los hiperparámetros que deseamos ajustar. \n",
    "param_grid = {'criterion':['gini', 'entropy'],'max_depth':[4,6,8,10,20]}\n",
    "\n",
    "# Definimos el modelo sin ningún valor de estos hiperparámetros\n",
    "arbol = DecisionTreeClassifier(random_state=0)\n",
    "\n",
    "# Ahora utilizamos GridSearch sobre el grid definido y con 10 particiones en la validación cruzada.\n",
    "mejor_modelo = GridSearchCV(arbol, param_grid, cv=particiones)\n",
    "# Ajuste del modelo\n",
    "mejor_modelo.fit(X_tfidf, Y_train)\n"
   ]
  },
  {
   "cell_type": "code",
<<<<<<< HEAD
   "execution_count": 137,
=======
   "execution_count": null,
>>>>>>> 289bf6e (regresion)
   "metadata": {},
   "outputs": [
    {
     "data": {
      "text/plain": [
       "{'criterion': 'gini', 'max_depth': 20}"
      ]
     },
     "execution_count": 137,
     "metadata": {},
     "output_type": "execute_result"
    }
   ],
   "source": [
    "mejor_modelo.best_params_"
   ]
  },
  {
   "cell_type": "code",
<<<<<<< HEAD
   "execution_count": 138,
=======
   "execution_count": null,
>>>>>>> 289bf6e (regresion)
   "metadata": {},
   "outputs": [
    {
     "name": "stdout",
     "output_type": "stream",
     "text": [
      "Exactitud sobre entrenamiento: 0.88\n",
      "Exactitud sobre test: 0.88\n"
     ]
    }
   ],
   "source": [
    "# Obtener el mejor modelo.\n",
    "arbol_final = mejor_modelo.best_estimator_\n",
    "# Probemos ahora este modelo sobre test.\n",
    "y_pred_train = arbol_final.predict(X_tfidf)\n",
    "y_pred_test = arbol_final.predict(X_tfidf_test)\n",
    "print('Exactitud sobre entrenamiento: %.2f' % accuracy_score(Y_train, y_pred_train))\n",
    "print('Exactitud sobre test: %.2f' % accuracy_score(Y_test, y_pred_test))"
   ]
  },
  {
   "cell_type": "code",
<<<<<<< HEAD
   "execution_count": 139,
=======
   "execution_count": null,
>>>>>>> 289bf6e (regresion)
   "metadata": {},
   "outputs": [
    {
     "data": {
      "text/plain": [
       "<sklearn.metrics._plot.roc_curve.RocCurveDisplay at 0x12215a04ed0>"
      ]
     },
     "execution_count": 139,
     "metadata": {},
     "output_type": "execute_result"
    },
    {
     "data": {
      "image/png": "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",
      "text/plain": [
       "<Figure size 640x480 with 1 Axes>"
      ]
     },
     "metadata": {},
     "output_type": "display_data"
    }
   ],
   "source": [
    "RocCurveDisplay.from_estimator(mejor_modelo, X_tfidf_test, Y_test, plot_chance_level=True)"
   ]
  },
  {
   "cell_type": "code",
<<<<<<< HEAD
   "execution_count": 140,
=======
   "execution_count": null,
>>>>>>> 289bf6e (regresion)
   "metadata": {},
   "outputs": [
    {
     "data": {
      "text/plain": [
       "<Axes: >"
      ]
     },
     "execution_count": 140,
     "metadata": {},
     "output_type": "execute_result"
    },
    {
     "data": {
      "image/png": "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",
      "text/plain": [
       "<Figure size 640x480 with 2 Axes>"
      ]
     },
     "metadata": {},
     "output_type": "display_data"
    }
   ],
   "source": [
    "# Matriz de confusión\n",
    "cm = confusion_matrix(Y_test, y_pred_test)\n",
    "sns.heatmap(cm, annot=True, fmt='d')"
   ]
  },
  {
   "cell_type": "code",
<<<<<<< HEAD
   "execution_count": 141,
=======
   "execution_count": null,
>>>>>>> 289bf6e (regresion)
   "metadata": {},
   "outputs": [
    {
     "name": "stdout",
     "output_type": "stream",
     "text": [
      "              precision    recall  f1-score   support\n",
      "\n",
      "           0       0.98      0.72      0.83      7164\n",
      "           1       0.83      0.99      0.90      9822\n",
      "\n",
      "    accuracy                           0.88     16986\n",
      "   macro avg       0.91      0.85      0.87     16986\n",
      "weighted avg       0.89      0.88      0.87     16986\n",
      "\n"
     ]
    }
   ],
   "source": [
    "# Reporte de clasificación\n",
    "print(classification_report(Y_test, y_pred_test))"
   ]
  },
  {
   "cell_type": "markdown",
   "metadata": {},
   "source": [
    "### Regresion Logistica \n"
   ]
  },
  {
   "cell_type": "code",
   "execution_count": null,
   "metadata": {},
   "outputs": [
    {
     "name": "stderr",
     "output_type": "stream",
     "text": [
      "/opt/anaconda3/lib/python3.12/site-packages/sklearn/feature_extraction/text.py:521: UserWarning: The parameter 'token_pattern' will not be used since 'tokenizer' is not None'\n",
      "  warnings.warn(\n"
     ]
    },
    {
     "name": "stdout",
     "output_type": "stream",
     "text": [
      "Exactitud: 0.90\n",
      "Recall: 0.9660965180207697\n",
      "Precisión: 0.8705105270400441\n",
      "Puntuación F1: 0.9158161418747738\n",
      "\n",
      "Reporte de Clasificación:\n",
      "              precision    recall  f1-score   support\n",
      "\n",
      "           0       0.95      0.80      0.87      4776\n",
      "           1       0.87      0.97      0.92      6548\n",
      "\n",
      "    accuracy                           0.90     11324\n",
      "   macro avg       0.91      0.88      0.89     11324\n",
      "weighted avg       0.90      0.90      0.90     11324\n",
      "\n"
     ]
    },
    {
     "data": {
      "image/png": "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",
      "text/plain": [
       "<Figure size 600x400 with 2 Axes>"
      ]
     },
     "metadata": {},
     "output_type": "display_data"
    }
   ],
   "source": [
    "from sklearn.model_selection import train_test_split\n",
    "from sklearn.linear_model import LogisticRegression\n",
    "from sklearn.metrics import accuracy_score, confusion_matrix, classification_report, recall_score, precision_score, f1_score\n",
    "from sklearn.feature_extraction.text import TfidfVectorizer\n",
    "from nltk.tokenize import word_tokenize\n",
    "from nltk.corpus import stopwords\n",
    "import nltk\n",
    "\n",
    "y = data['Label']\n",
    "\n",
    "data['completo'] = data['Titulo'].fillna('') + ' ' + data['Descripcion'].fillna('')\n",
    "X_train, X_test, y_train, y_test = train_test_split( data['completo'],y,test_size=0.2, random_state=42,stratify=y )\n",
    "tfidf = TfidfVectorizer(tokenizer=word_tokenize, stop_words=stopwords_spanish, lowercase=True)\n",
    "\n",
    "X_tfidf = tfidf.fit_transform(X_train)\n",
    "X_test_tfidf = tfidf.transform(X_test)\n",
    "\n",
    "modelo = LogisticRegression(max_iter=1000)\n",
    "modelo.fit(X_tfidf, y_train)\n",
    "\n",
    "y_pred = modelo.predict(X_test_tfidf)\n",
    "\n",
    "conf_matrix = confusion_matrix(y_test, y_pred)\n",
    "accuracy = accuracy_score(y_test, y_pred)\n",
    "classification_rep = classification_report(y_test, y_pred)\n",
    "\n",
    "\n",
    "print('Exactitud: %.2f' % accuracy_score(y_test, y_pred))\n",
    "print(\"Recall: {}\".format(recall_score(y_test,y_pred)))\n",
    "print(\"Precisión: {}\".format(precision_score(y_test,y_pred)))\n",
    "print(\"Puntuación F1: {}\".format(f1_score(y_test,y_pred)))\n",
    "\n",
    "print(\"\\nReporte de Clasificación:\")\n",
    "print(classification_rep)\n",
    "\n",
    "\n",
    "# Matriz de confusión\n",
    "cm = confusion_matrix(y_test, y_pred)\n",
    "plt.figure(figsize=(6, 4))\n",
    "sns.heatmap(cm, annot=True, fmt='d', cmap='Greens', linewidths=0.5, linecolor='white')\n",
    "plt.title('Matriz de Confusión')\n",
    "plt.xlabel('Predicción')\n",
    "plt.ylabel('Valor Real')\n",
    "plt.show()\n"
   ]
  },
  {
   "cell_type": "code",
   "execution_count": 67,
   "metadata": {},
   "outputs": [
    {
     "data": {
      "image/png": "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",
      "text/plain": [
       "<Figure size 640x480 with 1 Axes>"
      ]
     },
     "metadata": {},
     "output_type": "display_data"
    }
   ],
   "source": [
    "from sklearn.metrics import RocCurveDisplay\n",
    "RocCurveDisplay.from_estimator(\n",
    "    modelo, X_test_tfidf, y_test,plot_chance_level=True,name=\"Regresión Logística\",color=\"green\",linewidth=2 )\n",
    "\n",
    "\n",
    "plt.title(\"Curva ROC - Regresión Logística\")\n",
    "plt.grid(True)\n",
    "plt.show()"
   ]
  },
  {
   "cell_type": "markdown",
   "metadata": {},
   "source": [
    "### Analisis de resultados \n",
    "\n",
    "- Exactitud: \n",
    "- Recall \n",
    "- Precision \n",
    "- Puntuacion \n",
    "\n",
    "\n",
    "\n",
    "Exactitud: 0.90\n",
    "Recall: 0.9660965180207697\n",
    "Precisión: 0.8705105270400441\n",
    "Puntuación F1: 0.9158161418747738"
   ]
  }
 ],
 "metadata": {
  "kernelspec": {
   "display_name": "3.12.4",
   "language": "python",
   "name": "python3"
  },
  "language_info": {
   "codemirror_mode": {
    "name": "ipython",
    "version": 3
   },
   "file_extension": ".py",
   "mimetype": "text/x-python",
   "name": "python",
   "nbconvert_exporter": "python",
   "pygments_lexer": "ipython3",
   "version": "3.12.4"
  }
 },
 "nbformat": 4,
 "nbformat_minor": 2
}
